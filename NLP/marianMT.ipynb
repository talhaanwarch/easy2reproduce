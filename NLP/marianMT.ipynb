{
  "nbformat": 4,
  "nbformat_minor": 0,
  "metadata": {
    "colab": {
      "provenance": [],
      "collapsed_sections": []
    },
    "kernelspec": {
      "name": "python3",
      "display_name": "Python 3"
    },
    "language_info": {
      "name": "python"
    },
    "accelerator": "GPU",
    "widgets": {
      "application/vnd.jupyter.widget-state+json": {
        "cae6535156d545589c42ac6fa97aa990": {
          "model_module": "@jupyter-widgets/controls",
          "model_name": "HBoxModel",
          "model_module_version": "1.5.0",
          "state": {
            "_dom_classes": [],
            "_model_module": "@jupyter-widgets/controls",
            "_model_module_version": "1.5.0",
            "_model_name": "HBoxModel",
            "_view_count": null,
            "_view_module": "@jupyter-widgets/controls",
            "_view_module_version": "1.5.0",
            "_view_name": "HBoxView",
            "box_style": "",
            "children": [
              "IPY_MODEL_fdc70e5280664d91924cab7c60b09a4c",
              "IPY_MODEL_7e0bf50d75174c8e816969fe574702b2",
              "IPY_MODEL_780cf430572a42c5ab26149fde484cc4"
            ],
            "layout": "IPY_MODEL_18e141de67054b3983fbb1605d3d1d2e"
          }
        },
        "fdc70e5280664d91924cab7c60b09a4c": {
          "model_module": "@jupyter-widgets/controls",
          "model_name": "HTMLModel",
          "model_module_version": "1.5.0",
          "state": {
            "_dom_classes": [],
            "_model_module": "@jupyter-widgets/controls",
            "_model_module_version": "1.5.0",
            "_model_name": "HTMLModel",
            "_view_count": null,
            "_view_module": "@jupyter-widgets/controls",
            "_view_module_version": "1.5.0",
            "_view_name": "HTMLView",
            "description": "",
            "description_tooltip": null,
            "layout": "IPY_MODEL_9a0219c70d8f4126bd4e14834dc6ddc8",
            "placeholder": "​",
            "style": "IPY_MODEL_ff1adc718abe46139e0b03ec8e6604c9",
            "value": "100%"
          }
        },
        "7e0bf50d75174c8e816969fe574702b2": {
          "model_module": "@jupyter-widgets/controls",
          "model_name": "FloatProgressModel",
          "model_module_version": "1.5.0",
          "state": {
            "_dom_classes": [],
            "_model_module": "@jupyter-widgets/controls",
            "_model_module_version": "1.5.0",
            "_model_name": "FloatProgressModel",
            "_view_count": null,
            "_view_module": "@jupyter-widgets/controls",
            "_view_module_version": "1.5.0",
            "_view_name": "ProgressView",
            "bar_style": "success",
            "description": "",
            "description_tooltip": null,
            "layout": "IPY_MODEL_e37ca36649cf4bc59bdec08e0d6cf643",
            "max": 3,
            "min": 0,
            "orientation": "horizontal",
            "style": "IPY_MODEL_c6225fd65857417f962172160028d225",
            "value": 3
          }
        },
        "780cf430572a42c5ab26149fde484cc4": {
          "model_module": "@jupyter-widgets/controls",
          "model_name": "HTMLModel",
          "model_module_version": "1.5.0",
          "state": {
            "_dom_classes": [],
            "_model_module": "@jupyter-widgets/controls",
            "_model_module_version": "1.5.0",
            "_model_name": "HTMLModel",
            "_view_count": null,
            "_view_module": "@jupyter-widgets/controls",
            "_view_module_version": "1.5.0",
            "_view_name": "HTMLView",
            "description": "",
            "description_tooltip": null,
            "layout": "IPY_MODEL_b0fc75ce452b47bc8aba1237e1f99d0d",
            "placeholder": "​",
            "style": "IPY_MODEL_ffb95f7fdd264b04960afc306efff044",
            "value": " 3/3 [00:00&lt;00:00, 42.96it/s]"
          }
        },
        "18e141de67054b3983fbb1605d3d1d2e": {
          "model_module": "@jupyter-widgets/base",
          "model_name": "LayoutModel",
          "model_module_version": "1.2.0",
          "state": {
            "_model_module": "@jupyter-widgets/base",
            "_model_module_version": "1.2.0",
            "_model_name": "LayoutModel",
            "_view_count": null,
            "_view_module": "@jupyter-widgets/base",
            "_view_module_version": "1.2.0",
            "_view_name": "LayoutView",
            "align_content": null,
            "align_items": null,
            "align_self": null,
            "border": null,
            "bottom": null,
            "display": null,
            "flex": null,
            "flex_flow": null,
            "grid_area": null,
            "grid_auto_columns": null,
            "grid_auto_flow": null,
            "grid_auto_rows": null,
            "grid_column": null,
            "grid_gap": null,
            "grid_row": null,
            "grid_template_areas": null,
            "grid_template_columns": null,
            "grid_template_rows": null,
            "height": null,
            "justify_content": null,
            "justify_items": null,
            "left": null,
            "margin": null,
            "max_height": null,
            "max_width": null,
            "min_height": null,
            "min_width": null,
            "object_fit": null,
            "object_position": null,
            "order": null,
            "overflow": null,
            "overflow_x": null,
            "overflow_y": null,
            "padding": null,
            "right": null,
            "top": null,
            "visibility": null,
            "width": null
          }
        },
        "9a0219c70d8f4126bd4e14834dc6ddc8": {
          "model_module": "@jupyter-widgets/base",
          "model_name": "LayoutModel",
          "model_module_version": "1.2.0",
          "state": {
            "_model_module": "@jupyter-widgets/base",
            "_model_module_version": "1.2.0",
            "_model_name": "LayoutModel",
            "_view_count": null,
            "_view_module": "@jupyter-widgets/base",
            "_view_module_version": "1.2.0",
            "_view_name": "LayoutView",
            "align_content": null,
            "align_items": null,
            "align_self": null,
            "border": null,
            "bottom": null,
            "display": null,
            "flex": null,
            "flex_flow": null,
            "grid_area": null,
            "grid_auto_columns": null,
            "grid_auto_flow": null,
            "grid_auto_rows": null,
            "grid_column": null,
            "grid_gap": null,
            "grid_row": null,
            "grid_template_areas": null,
            "grid_template_columns": null,
            "grid_template_rows": null,
            "height": null,
            "justify_content": null,
            "justify_items": null,
            "left": null,
            "margin": null,
            "max_height": null,
            "max_width": null,
            "min_height": null,
            "min_width": null,
            "object_fit": null,
            "object_position": null,
            "order": null,
            "overflow": null,
            "overflow_x": null,
            "overflow_y": null,
            "padding": null,
            "right": null,
            "top": null,
            "visibility": null,
            "width": null
          }
        },
        "ff1adc718abe46139e0b03ec8e6604c9": {
          "model_module": "@jupyter-widgets/controls",
          "model_name": "DescriptionStyleModel",
          "model_module_version": "1.5.0",
          "state": {
            "_model_module": "@jupyter-widgets/controls",
            "_model_module_version": "1.5.0",
            "_model_name": "DescriptionStyleModel",
            "_view_count": null,
            "_view_module": "@jupyter-widgets/base",
            "_view_module_version": "1.2.0",
            "_view_name": "StyleView",
            "description_width": ""
          }
        },
        "e37ca36649cf4bc59bdec08e0d6cf643": {
          "model_module": "@jupyter-widgets/base",
          "model_name": "LayoutModel",
          "model_module_version": "1.2.0",
          "state": {
            "_model_module": "@jupyter-widgets/base",
            "_model_module_version": "1.2.0",
            "_model_name": "LayoutModel",
            "_view_count": null,
            "_view_module": "@jupyter-widgets/base",
            "_view_module_version": "1.2.0",
            "_view_name": "LayoutView",
            "align_content": null,
            "align_items": null,
            "align_self": null,
            "border": null,
            "bottom": null,
            "display": null,
            "flex": null,
            "flex_flow": null,
            "grid_area": null,
            "grid_auto_columns": null,
            "grid_auto_flow": null,
            "grid_auto_rows": null,
            "grid_column": null,
            "grid_gap": null,
            "grid_row": null,
            "grid_template_areas": null,
            "grid_template_columns": null,
            "grid_template_rows": null,
            "height": null,
            "justify_content": null,
            "justify_items": null,
            "left": null,
            "margin": null,
            "max_height": null,
            "max_width": null,
            "min_height": null,
            "min_width": null,
            "object_fit": null,
            "object_position": null,
            "order": null,
            "overflow": null,
            "overflow_x": null,
            "overflow_y": null,
            "padding": null,
            "right": null,
            "top": null,
            "visibility": null,
            "width": null
          }
        },
        "c6225fd65857417f962172160028d225": {
          "model_module": "@jupyter-widgets/controls",
          "model_name": "ProgressStyleModel",
          "model_module_version": "1.5.0",
          "state": {
            "_model_module": "@jupyter-widgets/controls",
            "_model_module_version": "1.5.0",
            "_model_name": "ProgressStyleModel",
            "_view_count": null,
            "_view_module": "@jupyter-widgets/base",
            "_view_module_version": "1.2.0",
            "_view_name": "StyleView",
            "bar_color": null,
            "description_width": ""
          }
        },
        "b0fc75ce452b47bc8aba1237e1f99d0d": {
          "model_module": "@jupyter-widgets/base",
          "model_name": "LayoutModel",
          "model_module_version": "1.2.0",
          "state": {
            "_model_module": "@jupyter-widgets/base",
            "_model_module_version": "1.2.0",
            "_model_name": "LayoutModel",
            "_view_count": null,
            "_view_module": "@jupyter-widgets/base",
            "_view_module_version": "1.2.0",
            "_view_name": "LayoutView",
            "align_content": null,
            "align_items": null,
            "align_self": null,
            "border": null,
            "bottom": null,
            "display": null,
            "flex": null,
            "flex_flow": null,
            "grid_area": null,
            "grid_auto_columns": null,
            "grid_auto_flow": null,
            "grid_auto_rows": null,
            "grid_column": null,
            "grid_gap": null,
            "grid_row": null,
            "grid_template_areas": null,
            "grid_template_columns": null,
            "grid_template_rows": null,
            "height": null,
            "justify_content": null,
            "justify_items": null,
            "left": null,
            "margin": null,
            "max_height": null,
            "max_width": null,
            "min_height": null,
            "min_width": null,
            "object_fit": null,
            "object_position": null,
            "order": null,
            "overflow": null,
            "overflow_x": null,
            "overflow_y": null,
            "padding": null,
            "right": null,
            "top": null,
            "visibility": null,
            "width": null
          }
        },
        "ffb95f7fdd264b04960afc306efff044": {
          "model_module": "@jupyter-widgets/controls",
          "model_name": "DescriptionStyleModel",
          "model_module_version": "1.5.0",
          "state": {
            "_model_module": "@jupyter-widgets/controls",
            "_model_module_version": "1.5.0",
            "_model_name": "DescriptionStyleModel",
            "_view_count": null,
            "_view_module": "@jupyter-widgets/base",
            "_view_module_version": "1.2.0",
            "_view_name": "StyleView",
            "description_width": ""
          }
        },
        "a05fd06adcc043cea0798c331f6ca437": {
          "model_module": "@jupyter-widgets/controls",
          "model_name": "HBoxModel",
          "model_module_version": "1.5.0",
          "state": {
            "_dom_classes": [],
            "_model_module": "@jupyter-widgets/controls",
            "_model_module_version": "1.5.0",
            "_model_name": "HBoxModel",
            "_view_count": null,
            "_view_module": "@jupyter-widgets/controls",
            "_view_module_version": "1.5.0",
            "_view_name": "HBoxView",
            "box_style": "",
            "children": [
              "IPY_MODEL_6f7b3ef5a1844f88aa15efd292086b90",
              "IPY_MODEL_93f80c8d9cd940df82d349749cd8b9dc",
              "IPY_MODEL_3f0f330f93ab467f9ba9d974ec3560e0"
            ],
            "layout": "IPY_MODEL_416fcb948a794323aa64a29efe6d47c8"
          }
        },
        "6f7b3ef5a1844f88aa15efd292086b90": {
          "model_module": "@jupyter-widgets/controls",
          "model_name": "HTMLModel",
          "model_module_version": "1.5.0",
          "state": {
            "_dom_classes": [],
            "_model_module": "@jupyter-widgets/controls",
            "_model_module_version": "1.5.0",
            "_model_name": "HTMLModel",
            "_view_count": null,
            "_view_module": "@jupyter-widgets/controls",
            "_view_module_version": "1.5.0",
            "_view_name": "HTMLView",
            "description": "",
            "description_tooltip": null,
            "layout": "IPY_MODEL_c5b292432bf24f669aa8b070eb7a8976",
            "placeholder": "​",
            "style": "IPY_MODEL_0d250fc38a6446b9a432af5475cc0977",
            "value": "100%"
          }
        },
        "93f80c8d9cd940df82d349749cd8b9dc": {
          "model_module": "@jupyter-widgets/controls",
          "model_name": "FloatProgressModel",
          "model_module_version": "1.5.0",
          "state": {
            "_dom_classes": [],
            "_model_module": "@jupyter-widgets/controls",
            "_model_module_version": "1.5.0",
            "_model_name": "FloatProgressModel",
            "_view_count": null,
            "_view_module": "@jupyter-widgets/controls",
            "_view_module_version": "1.5.0",
            "_view_name": "ProgressView",
            "bar_style": "success",
            "description": "",
            "description_tooltip": null,
            "layout": "IPY_MODEL_a0498925d6184631b5d9841ad42c44c3",
            "max": 206,
            "min": 0,
            "orientation": "horizontal",
            "style": "IPY_MODEL_61c73f72faf6407fb57b6c6a67f61914",
            "value": 206
          }
        },
        "3f0f330f93ab467f9ba9d974ec3560e0": {
          "model_module": "@jupyter-widgets/controls",
          "model_name": "HTMLModel",
          "model_module_version": "1.5.0",
          "state": {
            "_dom_classes": [],
            "_model_module": "@jupyter-widgets/controls",
            "_model_module_version": "1.5.0",
            "_model_name": "HTMLModel",
            "_view_count": null,
            "_view_module": "@jupyter-widgets/controls",
            "_view_module_version": "1.5.0",
            "_view_name": "HTMLView",
            "description": "",
            "description_tooltip": null,
            "layout": "IPY_MODEL_a3c18af5d2cd4383b3fcd1ff7ca1c846",
            "placeholder": "​",
            "style": "IPY_MODEL_22a0c50581c64d3b9e89bc45776f27a7",
            "value": " 206/206 [01:16&lt;00:00,  2.96ba/s]"
          }
        },
        "416fcb948a794323aa64a29efe6d47c8": {
          "model_module": "@jupyter-widgets/base",
          "model_name": "LayoutModel",
          "model_module_version": "1.2.0",
          "state": {
            "_model_module": "@jupyter-widgets/base",
            "_model_module_version": "1.2.0",
            "_model_name": "LayoutModel",
            "_view_count": null,
            "_view_module": "@jupyter-widgets/base",
            "_view_module_version": "1.2.0",
            "_view_name": "LayoutView",
            "align_content": null,
            "align_items": null,
            "align_self": null,
            "border": null,
            "bottom": null,
            "display": null,
            "flex": null,
            "flex_flow": null,
            "grid_area": null,
            "grid_auto_columns": null,
            "grid_auto_flow": null,
            "grid_auto_rows": null,
            "grid_column": null,
            "grid_gap": null,
            "grid_row": null,
            "grid_template_areas": null,
            "grid_template_columns": null,
            "grid_template_rows": null,
            "height": null,
            "justify_content": null,
            "justify_items": null,
            "left": null,
            "margin": null,
            "max_height": null,
            "max_width": null,
            "min_height": null,
            "min_width": null,
            "object_fit": null,
            "object_position": null,
            "order": null,
            "overflow": null,
            "overflow_x": null,
            "overflow_y": null,
            "padding": null,
            "right": null,
            "top": null,
            "visibility": null,
            "width": null
          }
        },
        "c5b292432bf24f669aa8b070eb7a8976": {
          "model_module": "@jupyter-widgets/base",
          "model_name": "LayoutModel",
          "model_module_version": "1.2.0",
          "state": {
            "_model_module": "@jupyter-widgets/base",
            "_model_module_version": "1.2.0",
            "_model_name": "LayoutModel",
            "_view_count": null,
            "_view_module": "@jupyter-widgets/base",
            "_view_module_version": "1.2.0",
            "_view_name": "LayoutView",
            "align_content": null,
            "align_items": null,
            "align_self": null,
            "border": null,
            "bottom": null,
            "display": null,
            "flex": null,
            "flex_flow": null,
            "grid_area": null,
            "grid_auto_columns": null,
            "grid_auto_flow": null,
            "grid_auto_rows": null,
            "grid_column": null,
            "grid_gap": null,
            "grid_row": null,
            "grid_template_areas": null,
            "grid_template_columns": null,
            "grid_template_rows": null,
            "height": null,
            "justify_content": null,
            "justify_items": null,
            "left": null,
            "margin": null,
            "max_height": null,
            "max_width": null,
            "min_height": null,
            "min_width": null,
            "object_fit": null,
            "object_position": null,
            "order": null,
            "overflow": null,
            "overflow_x": null,
            "overflow_y": null,
            "padding": null,
            "right": null,
            "top": null,
            "visibility": null,
            "width": null
          }
        },
        "0d250fc38a6446b9a432af5475cc0977": {
          "model_module": "@jupyter-widgets/controls",
          "model_name": "DescriptionStyleModel",
          "model_module_version": "1.5.0",
          "state": {
            "_model_module": "@jupyter-widgets/controls",
            "_model_module_version": "1.5.0",
            "_model_name": "DescriptionStyleModel",
            "_view_count": null,
            "_view_module": "@jupyter-widgets/base",
            "_view_module_version": "1.2.0",
            "_view_name": "StyleView",
            "description_width": ""
          }
        },
        "a0498925d6184631b5d9841ad42c44c3": {
          "model_module": "@jupyter-widgets/base",
          "model_name": "LayoutModel",
          "model_module_version": "1.2.0",
          "state": {
            "_model_module": "@jupyter-widgets/base",
            "_model_module_version": "1.2.0",
            "_model_name": "LayoutModel",
            "_view_count": null,
            "_view_module": "@jupyter-widgets/base",
            "_view_module_version": "1.2.0",
            "_view_name": "LayoutView",
            "align_content": null,
            "align_items": null,
            "align_self": null,
            "border": null,
            "bottom": null,
            "display": null,
            "flex": null,
            "flex_flow": null,
            "grid_area": null,
            "grid_auto_columns": null,
            "grid_auto_flow": null,
            "grid_auto_rows": null,
            "grid_column": null,
            "grid_gap": null,
            "grid_row": null,
            "grid_template_areas": null,
            "grid_template_columns": null,
            "grid_template_rows": null,
            "height": null,
            "justify_content": null,
            "justify_items": null,
            "left": null,
            "margin": null,
            "max_height": null,
            "max_width": null,
            "min_height": null,
            "min_width": null,
            "object_fit": null,
            "object_position": null,
            "order": null,
            "overflow": null,
            "overflow_x": null,
            "overflow_y": null,
            "padding": null,
            "right": null,
            "top": null,
            "visibility": null,
            "width": null
          }
        },
        "61c73f72faf6407fb57b6c6a67f61914": {
          "model_module": "@jupyter-widgets/controls",
          "model_name": "ProgressStyleModel",
          "model_module_version": "1.5.0",
          "state": {
            "_model_module": "@jupyter-widgets/controls",
            "_model_module_version": "1.5.0",
            "_model_name": "ProgressStyleModel",
            "_view_count": null,
            "_view_module": "@jupyter-widgets/base",
            "_view_module_version": "1.2.0",
            "_view_name": "StyleView",
            "bar_color": null,
            "description_width": ""
          }
        },
        "a3c18af5d2cd4383b3fcd1ff7ca1c846": {
          "model_module": "@jupyter-widgets/base",
          "model_name": "LayoutModel",
          "model_module_version": "1.2.0",
          "state": {
            "_model_module": "@jupyter-widgets/base",
            "_model_module_version": "1.2.0",
            "_model_name": "LayoutModel",
            "_view_count": null,
            "_view_module": "@jupyter-widgets/base",
            "_view_module_version": "1.2.0",
            "_view_name": "LayoutView",
            "align_content": null,
            "align_items": null,
            "align_self": null,
            "border": null,
            "bottom": null,
            "display": null,
            "flex": null,
            "flex_flow": null,
            "grid_area": null,
            "grid_auto_columns": null,
            "grid_auto_flow": null,
            "grid_auto_rows": null,
            "grid_column": null,
            "grid_gap": null,
            "grid_row": null,
            "grid_template_areas": null,
            "grid_template_columns": null,
            "grid_template_rows": null,
            "height": null,
            "justify_content": null,
            "justify_items": null,
            "left": null,
            "margin": null,
            "max_height": null,
            "max_width": null,
            "min_height": null,
            "min_width": null,
            "object_fit": null,
            "object_position": null,
            "order": null,
            "overflow": null,
            "overflow_x": null,
            "overflow_y": null,
            "padding": null,
            "right": null,
            "top": null,
            "visibility": null,
            "width": null
          }
        },
        "22a0c50581c64d3b9e89bc45776f27a7": {
          "model_module": "@jupyter-widgets/controls",
          "model_name": "DescriptionStyleModel",
          "model_module_version": "1.5.0",
          "state": {
            "_model_module": "@jupyter-widgets/controls",
            "_model_module_version": "1.5.0",
            "_model_name": "DescriptionStyleModel",
            "_view_count": null,
            "_view_module": "@jupyter-widgets/base",
            "_view_module_version": "1.2.0",
            "_view_name": "StyleView",
            "description_width": ""
          }
        },
        "ddefe3b294784b76a20a9417abae0a72": {
          "model_module": "@jupyter-widgets/controls",
          "model_name": "HBoxModel",
          "model_module_version": "1.5.0",
          "state": {
            "_dom_classes": [],
            "_model_module": "@jupyter-widgets/controls",
            "_model_module_version": "1.5.0",
            "_model_name": "HBoxModel",
            "_view_count": null,
            "_view_module": "@jupyter-widgets/controls",
            "_view_module_version": "1.5.0",
            "_view_name": "HBoxView",
            "box_style": "",
            "children": [
              "IPY_MODEL_540a361b89cf42e8a33af53e602e00c0",
              "IPY_MODEL_c405efafb09e4aa19fc26b0af96741e6",
              "IPY_MODEL_5567c668a0df489cba099552cd8a984f"
            ],
            "layout": "IPY_MODEL_e3e76006de0e455aaad466c32bbc806b"
          }
        },
        "540a361b89cf42e8a33af53e602e00c0": {
          "model_module": "@jupyter-widgets/controls",
          "model_name": "HTMLModel",
          "model_module_version": "1.5.0",
          "state": {
            "_dom_classes": [],
            "_model_module": "@jupyter-widgets/controls",
            "_model_module_version": "1.5.0",
            "_model_name": "HTMLModel",
            "_view_count": null,
            "_view_module": "@jupyter-widgets/controls",
            "_view_module_version": "1.5.0",
            "_view_name": "HTMLView",
            "description": "",
            "description_tooltip": null,
            "layout": "IPY_MODEL_dcc455cc78794709904c6c3b066b4488",
            "placeholder": "​",
            "style": "IPY_MODEL_229bc75c55bd4a73b165da34f67571df",
            "value": "100%"
          }
        },
        "c405efafb09e4aa19fc26b0af96741e6": {
          "model_module": "@jupyter-widgets/controls",
          "model_name": "FloatProgressModel",
          "model_module_version": "1.5.0",
          "state": {
            "_dom_classes": [],
            "_model_module": "@jupyter-widgets/controls",
            "_model_module_version": "1.5.0",
            "_model_name": "FloatProgressModel",
            "_view_count": null,
            "_view_module": "@jupyter-widgets/controls",
            "_view_module_version": "1.5.0",
            "_view_name": "ProgressView",
            "bar_style": "success",
            "description": "",
            "description_tooltip": null,
            "layout": "IPY_MODEL_1d6c5ca3664b475090909b6a5654763f",
            "max": 2,
            "min": 0,
            "orientation": "horizontal",
            "style": "IPY_MODEL_0728c8eddd014bd3a083ea598d09b73d",
            "value": 2
          }
        },
        "5567c668a0df489cba099552cd8a984f": {
          "model_module": "@jupyter-widgets/controls",
          "model_name": "HTMLModel",
          "model_module_version": "1.5.0",
          "state": {
            "_dom_classes": [],
            "_model_module": "@jupyter-widgets/controls",
            "_model_module_version": "1.5.0",
            "_model_name": "HTMLModel",
            "_view_count": null,
            "_view_module": "@jupyter-widgets/controls",
            "_view_module_version": "1.5.0",
            "_view_name": "HTMLView",
            "description": "",
            "description_tooltip": null,
            "layout": "IPY_MODEL_dbdfc91109fc4bda82d27d81ee212e38",
            "placeholder": "​",
            "style": "IPY_MODEL_78c4972e9287410eb80110863bad95f0",
            "value": " 2/2 [00:00&lt;00:00,  2.79ba/s]"
          }
        },
        "e3e76006de0e455aaad466c32bbc806b": {
          "model_module": "@jupyter-widgets/base",
          "model_name": "LayoutModel",
          "model_module_version": "1.2.0",
          "state": {
            "_model_module": "@jupyter-widgets/base",
            "_model_module_version": "1.2.0",
            "_model_name": "LayoutModel",
            "_view_count": null,
            "_view_module": "@jupyter-widgets/base",
            "_view_module_version": "1.2.0",
            "_view_name": "LayoutView",
            "align_content": null,
            "align_items": null,
            "align_self": null,
            "border": null,
            "bottom": null,
            "display": null,
            "flex": null,
            "flex_flow": null,
            "grid_area": null,
            "grid_auto_columns": null,
            "grid_auto_flow": null,
            "grid_auto_rows": null,
            "grid_column": null,
            "grid_gap": null,
            "grid_row": null,
            "grid_template_areas": null,
            "grid_template_columns": null,
            "grid_template_rows": null,
            "height": null,
            "justify_content": null,
            "justify_items": null,
            "left": null,
            "margin": null,
            "max_height": null,
            "max_width": null,
            "min_height": null,
            "min_width": null,
            "object_fit": null,
            "object_position": null,
            "order": null,
            "overflow": null,
            "overflow_x": null,
            "overflow_y": null,
            "padding": null,
            "right": null,
            "top": null,
            "visibility": null,
            "width": null
          }
        },
        "dcc455cc78794709904c6c3b066b4488": {
          "model_module": "@jupyter-widgets/base",
          "model_name": "LayoutModel",
          "model_module_version": "1.2.0",
          "state": {
            "_model_module": "@jupyter-widgets/base",
            "_model_module_version": "1.2.0",
            "_model_name": "LayoutModel",
            "_view_count": null,
            "_view_module": "@jupyter-widgets/base",
            "_view_module_version": "1.2.0",
            "_view_name": "LayoutView",
            "align_content": null,
            "align_items": null,
            "align_self": null,
            "border": null,
            "bottom": null,
            "display": null,
            "flex": null,
            "flex_flow": null,
            "grid_area": null,
            "grid_auto_columns": null,
            "grid_auto_flow": null,
            "grid_auto_rows": null,
            "grid_column": null,
            "grid_gap": null,
            "grid_row": null,
            "grid_template_areas": null,
            "grid_template_columns": null,
            "grid_template_rows": null,
            "height": null,
            "justify_content": null,
            "justify_items": null,
            "left": null,
            "margin": null,
            "max_height": null,
            "max_width": null,
            "min_height": null,
            "min_width": null,
            "object_fit": null,
            "object_position": null,
            "order": null,
            "overflow": null,
            "overflow_x": null,
            "overflow_y": null,
            "padding": null,
            "right": null,
            "top": null,
            "visibility": null,
            "width": null
          }
        },
        "229bc75c55bd4a73b165da34f67571df": {
          "model_module": "@jupyter-widgets/controls",
          "model_name": "DescriptionStyleModel",
          "model_module_version": "1.5.0",
          "state": {
            "_model_module": "@jupyter-widgets/controls",
            "_model_module_version": "1.5.0",
            "_model_name": "DescriptionStyleModel",
            "_view_count": null,
            "_view_module": "@jupyter-widgets/base",
            "_view_module_version": "1.2.0",
            "_view_name": "StyleView",
            "description_width": ""
          }
        },
        "1d6c5ca3664b475090909b6a5654763f": {
          "model_module": "@jupyter-widgets/base",
          "model_name": "LayoutModel",
          "model_module_version": "1.2.0",
          "state": {
            "_model_module": "@jupyter-widgets/base",
            "_model_module_version": "1.2.0",
            "_model_name": "LayoutModel",
            "_view_count": null,
            "_view_module": "@jupyter-widgets/base",
            "_view_module_version": "1.2.0",
            "_view_name": "LayoutView",
            "align_content": null,
            "align_items": null,
            "align_self": null,
            "border": null,
            "bottom": null,
            "display": null,
            "flex": null,
            "flex_flow": null,
            "grid_area": null,
            "grid_auto_columns": null,
            "grid_auto_flow": null,
            "grid_auto_rows": null,
            "grid_column": null,
            "grid_gap": null,
            "grid_row": null,
            "grid_template_areas": null,
            "grid_template_columns": null,
            "grid_template_rows": null,
            "height": null,
            "justify_content": null,
            "justify_items": null,
            "left": null,
            "margin": null,
            "max_height": null,
            "max_width": null,
            "min_height": null,
            "min_width": null,
            "object_fit": null,
            "object_position": null,
            "order": null,
            "overflow": null,
            "overflow_x": null,
            "overflow_y": null,
            "padding": null,
            "right": null,
            "top": null,
            "visibility": null,
            "width": null
          }
        },
        "0728c8eddd014bd3a083ea598d09b73d": {
          "model_module": "@jupyter-widgets/controls",
          "model_name": "ProgressStyleModel",
          "model_module_version": "1.5.0",
          "state": {
            "_model_module": "@jupyter-widgets/controls",
            "_model_module_version": "1.5.0",
            "_model_name": "ProgressStyleModel",
            "_view_count": null,
            "_view_module": "@jupyter-widgets/base",
            "_view_module_version": "1.2.0",
            "_view_name": "StyleView",
            "bar_color": null,
            "description_width": ""
          }
        },
        "dbdfc91109fc4bda82d27d81ee212e38": {
          "model_module": "@jupyter-widgets/base",
          "model_name": "LayoutModel",
          "model_module_version": "1.2.0",
          "state": {
            "_model_module": "@jupyter-widgets/base",
            "_model_module_version": "1.2.0",
            "_model_name": "LayoutModel",
            "_view_count": null,
            "_view_module": "@jupyter-widgets/base",
            "_view_module_version": "1.2.0",
            "_view_name": "LayoutView",
            "align_content": null,
            "align_items": null,
            "align_self": null,
            "border": null,
            "bottom": null,
            "display": null,
            "flex": null,
            "flex_flow": null,
            "grid_area": null,
            "grid_auto_columns": null,
            "grid_auto_flow": null,
            "grid_auto_rows": null,
            "grid_column": null,
            "grid_gap": null,
            "grid_row": null,
            "grid_template_areas": null,
            "grid_template_columns": null,
            "grid_template_rows": null,
            "height": null,
            "justify_content": null,
            "justify_items": null,
            "left": null,
            "margin": null,
            "max_height": null,
            "max_width": null,
            "min_height": null,
            "min_width": null,
            "object_fit": null,
            "object_position": null,
            "order": null,
            "overflow": null,
            "overflow_x": null,
            "overflow_y": null,
            "padding": null,
            "right": null,
            "top": null,
            "visibility": null,
            "width": null
          }
        },
        "78c4972e9287410eb80110863bad95f0": {
          "model_module": "@jupyter-widgets/controls",
          "model_name": "DescriptionStyleModel",
          "model_module_version": "1.5.0",
          "state": {
            "_model_module": "@jupyter-widgets/controls",
            "_model_module_version": "1.5.0",
            "_model_name": "DescriptionStyleModel",
            "_view_count": null,
            "_view_module": "@jupyter-widgets/base",
            "_view_module_version": "1.2.0",
            "_view_name": "StyleView",
            "description_width": ""
          }
        },
        "e0f987c98a7040bb92b90333951cff0f": {
          "model_module": "@jupyter-widgets/controls",
          "model_name": "HBoxModel",
          "model_module_version": "1.5.0",
          "state": {
            "_dom_classes": [],
            "_model_module": "@jupyter-widgets/controls",
            "_model_module_version": "1.5.0",
            "_model_name": "HBoxModel",
            "_view_count": null,
            "_view_module": "@jupyter-widgets/controls",
            "_view_module_version": "1.5.0",
            "_view_name": "HBoxView",
            "box_style": "",
            "children": [
              "IPY_MODEL_14e3428d651d4afa928a27d2d094fad1",
              "IPY_MODEL_d79cbd4ea1364c46bb2cf0d947441191",
              "IPY_MODEL_53c2d6d8f5f143c28768bc5a46b78667"
            ],
            "layout": "IPY_MODEL_34630bd70338478d91671eeef45dd522"
          }
        },
        "14e3428d651d4afa928a27d2d094fad1": {
          "model_module": "@jupyter-widgets/controls",
          "model_name": "HTMLModel",
          "model_module_version": "1.5.0",
          "state": {
            "_dom_classes": [],
            "_model_module": "@jupyter-widgets/controls",
            "_model_module_version": "1.5.0",
            "_model_name": "HTMLModel",
            "_view_count": null,
            "_view_module": "@jupyter-widgets/controls",
            "_view_module_version": "1.5.0",
            "_view_name": "HTMLView",
            "description": "",
            "description_tooltip": null,
            "layout": "IPY_MODEL_dbcb4c35936149959894e818b84dcc2d",
            "placeholder": "​",
            "style": "IPY_MODEL_a465b98c877d4040a5c3f9a7fe441cab",
            "value": "100%"
          }
        },
        "d79cbd4ea1364c46bb2cf0d947441191": {
          "model_module": "@jupyter-widgets/controls",
          "model_name": "FloatProgressModel",
          "model_module_version": "1.5.0",
          "state": {
            "_dom_classes": [],
            "_model_module": "@jupyter-widgets/controls",
            "_model_module_version": "1.5.0",
            "_model_name": "FloatProgressModel",
            "_view_count": null,
            "_view_module": "@jupyter-widgets/controls",
            "_view_module_version": "1.5.0",
            "_view_name": "ProgressView",
            "bar_style": "success",
            "description": "",
            "description_tooltip": null,
            "layout": "IPY_MODEL_6e8fb65400ea4e2abc1ab1c131bcb6cb",
            "max": 3,
            "min": 0,
            "orientation": "horizontal",
            "style": "IPY_MODEL_093ced918cba4ae4a2321cea262207bc",
            "value": 3
          }
        },
        "53c2d6d8f5f143c28768bc5a46b78667": {
          "model_module": "@jupyter-widgets/controls",
          "model_name": "HTMLModel",
          "model_module_version": "1.5.0",
          "state": {
            "_dom_classes": [],
            "_model_module": "@jupyter-widgets/controls",
            "_model_module_version": "1.5.0",
            "_model_name": "HTMLModel",
            "_view_count": null,
            "_view_module": "@jupyter-widgets/controls",
            "_view_module_version": "1.5.0",
            "_view_name": "HTMLView",
            "description": "",
            "description_tooltip": null,
            "layout": "IPY_MODEL_8ad689e5711741b1a74903f8503a93c5",
            "placeholder": "​",
            "style": "IPY_MODEL_6ad2b28ad02c4dad8dd5fab926cb103a",
            "value": " 3/3 [00:00&lt;00:00,  3.15ba/s]"
          }
        },
        "34630bd70338478d91671eeef45dd522": {
          "model_module": "@jupyter-widgets/base",
          "model_name": "LayoutModel",
          "model_module_version": "1.2.0",
          "state": {
            "_model_module": "@jupyter-widgets/base",
            "_model_module_version": "1.2.0",
            "_model_name": "LayoutModel",
            "_view_count": null,
            "_view_module": "@jupyter-widgets/base",
            "_view_module_version": "1.2.0",
            "_view_name": "LayoutView",
            "align_content": null,
            "align_items": null,
            "align_self": null,
            "border": null,
            "bottom": null,
            "display": null,
            "flex": null,
            "flex_flow": null,
            "grid_area": null,
            "grid_auto_columns": null,
            "grid_auto_flow": null,
            "grid_auto_rows": null,
            "grid_column": null,
            "grid_gap": null,
            "grid_row": null,
            "grid_template_areas": null,
            "grid_template_columns": null,
            "grid_template_rows": null,
            "height": null,
            "justify_content": null,
            "justify_items": null,
            "left": null,
            "margin": null,
            "max_height": null,
            "max_width": null,
            "min_height": null,
            "min_width": null,
            "object_fit": null,
            "object_position": null,
            "order": null,
            "overflow": null,
            "overflow_x": null,
            "overflow_y": null,
            "padding": null,
            "right": null,
            "top": null,
            "visibility": null,
            "width": null
          }
        },
        "dbcb4c35936149959894e818b84dcc2d": {
          "model_module": "@jupyter-widgets/base",
          "model_name": "LayoutModel",
          "model_module_version": "1.2.0",
          "state": {
            "_model_module": "@jupyter-widgets/base",
            "_model_module_version": "1.2.0",
            "_model_name": "LayoutModel",
            "_view_count": null,
            "_view_module": "@jupyter-widgets/base",
            "_view_module_version": "1.2.0",
            "_view_name": "LayoutView",
            "align_content": null,
            "align_items": null,
            "align_self": null,
            "border": null,
            "bottom": null,
            "display": null,
            "flex": null,
            "flex_flow": null,
            "grid_area": null,
            "grid_auto_columns": null,
            "grid_auto_flow": null,
            "grid_auto_rows": null,
            "grid_column": null,
            "grid_gap": null,
            "grid_row": null,
            "grid_template_areas": null,
            "grid_template_columns": null,
            "grid_template_rows": null,
            "height": null,
            "justify_content": null,
            "justify_items": null,
            "left": null,
            "margin": null,
            "max_height": null,
            "max_width": null,
            "min_height": null,
            "min_width": null,
            "object_fit": null,
            "object_position": null,
            "order": null,
            "overflow": null,
            "overflow_x": null,
            "overflow_y": null,
            "padding": null,
            "right": null,
            "top": null,
            "visibility": null,
            "width": null
          }
        },
        "a465b98c877d4040a5c3f9a7fe441cab": {
          "model_module": "@jupyter-widgets/controls",
          "model_name": "DescriptionStyleModel",
          "model_module_version": "1.5.0",
          "state": {
            "_model_module": "@jupyter-widgets/controls",
            "_model_module_version": "1.5.0",
            "_model_name": "DescriptionStyleModel",
            "_view_count": null,
            "_view_module": "@jupyter-widgets/base",
            "_view_module_version": "1.2.0",
            "_view_name": "StyleView",
            "description_width": ""
          }
        },
        "6e8fb65400ea4e2abc1ab1c131bcb6cb": {
          "model_module": "@jupyter-widgets/base",
          "model_name": "LayoutModel",
          "model_module_version": "1.2.0",
          "state": {
            "_model_module": "@jupyter-widgets/base",
            "_model_module_version": "1.2.0",
            "_model_name": "LayoutModel",
            "_view_count": null,
            "_view_module": "@jupyter-widgets/base",
            "_view_module_version": "1.2.0",
            "_view_name": "LayoutView",
            "align_content": null,
            "align_items": null,
            "align_self": null,
            "border": null,
            "bottom": null,
            "display": null,
            "flex": null,
            "flex_flow": null,
            "grid_area": null,
            "grid_auto_columns": null,
            "grid_auto_flow": null,
            "grid_auto_rows": null,
            "grid_column": null,
            "grid_gap": null,
            "grid_row": null,
            "grid_template_areas": null,
            "grid_template_columns": null,
            "grid_template_rows": null,
            "height": null,
            "justify_content": null,
            "justify_items": null,
            "left": null,
            "margin": null,
            "max_height": null,
            "max_width": null,
            "min_height": null,
            "min_width": null,
            "object_fit": null,
            "object_position": null,
            "order": null,
            "overflow": null,
            "overflow_x": null,
            "overflow_y": null,
            "padding": null,
            "right": null,
            "top": null,
            "visibility": null,
            "width": null
          }
        },
        "093ced918cba4ae4a2321cea262207bc": {
          "model_module": "@jupyter-widgets/controls",
          "model_name": "ProgressStyleModel",
          "model_module_version": "1.5.0",
          "state": {
            "_model_module": "@jupyter-widgets/controls",
            "_model_module_version": "1.5.0",
            "_model_name": "ProgressStyleModel",
            "_view_count": null,
            "_view_module": "@jupyter-widgets/base",
            "_view_module_version": "1.2.0",
            "_view_name": "StyleView",
            "bar_color": null,
            "description_width": ""
          }
        },
        "8ad689e5711741b1a74903f8503a93c5": {
          "model_module": "@jupyter-widgets/base",
          "model_name": "LayoutModel",
          "model_module_version": "1.2.0",
          "state": {
            "_model_module": "@jupyter-widgets/base",
            "_model_module_version": "1.2.0",
            "_model_name": "LayoutModel",
            "_view_count": null,
            "_view_module": "@jupyter-widgets/base",
            "_view_module_version": "1.2.0",
            "_view_name": "LayoutView",
            "align_content": null,
            "align_items": null,
            "align_self": null,
            "border": null,
            "bottom": null,
            "display": null,
            "flex": null,
            "flex_flow": null,
            "grid_area": null,
            "grid_auto_columns": null,
            "grid_auto_flow": null,
            "grid_auto_rows": null,
            "grid_column": null,
            "grid_gap": null,
            "grid_row": null,
            "grid_template_areas": null,
            "grid_template_columns": null,
            "grid_template_rows": null,
            "height": null,
            "justify_content": null,
            "justify_items": null,
            "left": null,
            "margin": null,
            "max_height": null,
            "max_width": null,
            "min_height": null,
            "min_width": null,
            "object_fit": null,
            "object_position": null,
            "order": null,
            "overflow": null,
            "overflow_x": null,
            "overflow_y": null,
            "padding": null,
            "right": null,
            "top": null,
            "visibility": null,
            "width": null
          }
        },
        "6ad2b28ad02c4dad8dd5fab926cb103a": {
          "model_module": "@jupyter-widgets/controls",
          "model_name": "DescriptionStyleModel",
          "model_module_version": "1.5.0",
          "state": {
            "_model_module": "@jupyter-widgets/controls",
            "_model_module_version": "1.5.0",
            "_model_name": "DescriptionStyleModel",
            "_view_count": null,
            "_view_module": "@jupyter-widgets/base",
            "_view_module_version": "1.2.0",
            "_view_name": "StyleView",
            "description_width": ""
          }
        }
      }
    }
  },
  "cells": [
    {
      "cell_type": "code",
      "source": [
        "import os\n",
        "os.environ[\"WANDB_DISABLED\"]=\"true\""
      ],
      "metadata": {
        "id": "xZJCIYII7SH3"
      },
      "execution_count": null,
      "outputs": []
    },
    {
      "cell_type": "code",
      "source": [
        "! pip install datasets transformers sacrebleu torch sentencepiece transformers[sentencepiece] -q"
      ],
      "metadata": {
        "colab": {
          "base_uri": "https://localhost:8080/"
        },
        "id": "eEsnIQZl2T03",
        "outputId": "d64dc295-cf42-4fd2-ed1c-0fbc9aed720e"
      },
      "execution_count": null,
      "outputs": [
        {
          "output_type": "stream",
          "name": "stdout",
          "text": [
            "\u001b[K     |████████████████████████████████| 431 kB 27.1 MB/s \n",
            "\u001b[K     |████████████████████████████████| 4.9 MB 58.7 MB/s \n",
            "\u001b[K     |████████████████████████████████| 116 kB 76.0 MB/s \n",
            "\u001b[K     |████████████████████████████████| 1.3 MB 54.3 MB/s \n",
            "\u001b[K     |████████████████████████████████| 163 kB 75.9 MB/s \n",
            "\u001b[K     |████████████████████████████████| 212 kB 75.1 MB/s \n",
            "\u001b[K     |████████████████████████████████| 115 kB 74.6 MB/s \n",
            "\u001b[K     |████████████████████████████████| 127 kB 74.8 MB/s \n",
            "\u001b[K     |████████████████████████████████| 6.6 MB 38.8 MB/s \n",
            "\u001b[?25h"
          ]
        }
      ]
    },
    {
      "cell_type": "code",
      "source": [
        "# step 1. download data"
      ],
      "metadata": {
        "id": "cwFnmdUO7FB4"
      },
      "execution_count": null,
      "outputs": []
    },
    {
      "cell_type": "code",
      "source": [
        "from datasets import load_dataset, load_metric\n",
        "raw_datasets = load_dataset(\"wmt16\", \"tr-en\")\n",
        "metric = load_metric(\"sacrebleu\")"
      ],
      "metadata": {
        "colab": {
          "base_uri": "https://localhost:8080/",
          "height": 124,
          "referenced_widgets": [
            "cae6535156d545589c42ac6fa97aa990",
            "fdc70e5280664d91924cab7c60b09a4c",
            "7e0bf50d75174c8e816969fe574702b2",
            "780cf430572a42c5ab26149fde484cc4",
            "18e141de67054b3983fbb1605d3d1d2e",
            "9a0219c70d8f4126bd4e14834dc6ddc8",
            "ff1adc718abe46139e0b03ec8e6604c9",
            "e37ca36649cf4bc59bdec08e0d6cf643",
            "c6225fd65857417f962172160028d225",
            "b0fc75ce452b47bc8aba1237e1f99d0d",
            "ffb95f7fdd264b04960afc306efff044"
          ]
        },
        "id": "jOIGw9ve7x2P",
        "outputId": "061cdf39-a7ea-466d-8545-cc59925b269c"
      },
      "execution_count": null,
      "outputs": [
        {
          "output_type": "stream",
          "name": "stderr",
          "text": [
            "/usr/local/lib/python3.7/dist-packages/huggingface_hub/utils/_deprecation.py:97: FutureWarning: Deprecated argument(s) used in 'dataset_info': token. Will not be supported from version '0.12'.\n",
            "  warnings.warn(message, FutureWarning)\n",
            "WARNING:datasets.builder:Found cached dataset wmt16 (/root/.cache/huggingface/datasets/wmt16/tr-en/1.0.0/746749a11d25c02058042da7502d973ff410e73457f3d305fc1177dc0e8c4227)\n"
          ]
        },
        {
          "output_type": "display_data",
          "data": {
            "text/plain": [
              "  0%|          | 0/3 [00:00<?, ?it/s]"
            ],
            "application/vnd.jupyter.widget-view+json": {
              "version_major": 2,
              "version_minor": 0,
              "model_id": "cae6535156d545589c42ac6fa97aa990"
            }
          },
          "metadata": {}
        }
      ]
    },
    {
      "cell_type": "code",
      "source": [
        "raw_datasets"
      ],
      "metadata": {
        "colab": {
          "base_uri": "https://localhost:8080/"
        },
        "id": "zr8L7sch-9xE",
        "outputId": "2a4c700a-1b43-4146-e220-eeed65af098d"
      },
      "execution_count": null,
      "outputs": [
        {
          "output_type": "execute_result",
          "data": {
            "text/plain": [
              "DatasetDict({\n",
              "    train: Dataset({\n",
              "        features: ['translation'],\n",
              "        num_rows: 205756\n",
              "    })\n",
              "    validation: Dataset({\n",
              "        features: ['translation'],\n",
              "        num_rows: 1001\n",
              "    })\n",
              "    test: Dataset({\n",
              "        features: ['translation'],\n",
              "        num_rows: 3000\n",
              "    })\n",
              "})"
            ]
          },
          "metadata": {},
          "execution_count": 29
        }
      ]
    },
    {
      "cell_type": "code",
      "source": [
        "import numpy as np\n",
        "import pandas as pd\n",
        "import datasets"
      ],
      "metadata": {
        "id": "zfXUrfsx-gMg"
      },
      "execution_count": null,
      "outputs": []
    },
    {
      "cell_type": "code",
      "source": [
        "train_df=pd.DataFrame([[i['translation']['en'],i['translation']['tr']] for i in raw_datasets['train']],columns=['src','dst'])\n",
        "val_df=pd.DataFrame([[i['translation']['en'],i['translation']['tr']] for i in raw_datasets['validation']],columns=['src','dst'])\n",
        "test_df=pd.DataFrame([[i['translation']['en'],i['translation']['tr']] for i in raw_datasets['test']],columns=['src','dst'])\n",
        "print(len(train_df),len(val_df),len(test_df))"
      ],
      "metadata": {
        "colab": {
          "base_uri": "https://localhost:8080/"
        },
        "id": "wS5E4wkM8C99",
        "outputId": "7400c69c-c278-4124-9d44-86ce693f80f2"
      },
      "execution_count": null,
      "outputs": [
        {
          "output_type": "stream",
          "name": "stdout",
          "text": [
            "205756 1001 3000\n"
          ]
        }
      ]
    },
    {
      "cell_type": "code",
      "source": [
        "#create a dataset with scr sentence and target sentence\n",
        "train_df.head()"
      ],
      "metadata": {
        "colab": {
          "base_uri": "https://localhost:8080/",
          "height": 206
        },
        "id": "NVPSPVww_naS",
        "outputId": "2a842c27-4b85-4592-88d4-c5c0a0a7fe98"
      },
      "execution_count": null,
      "outputs": [
        {
          "output_type": "execute_result",
          "data": {
            "text/plain": [
              "                                                 src  \\\n",
              "0   Kosovo's privatisation process is under scrutiny   \n",
              "1  Kosovo is taking a hard look at its privatisat...   \n",
              "2  By Muhamet Brajshori for Southeast European Ti...   \n",
              "3  Feronikel was privatised five years ago, and i...   \n",
              "4     On paper at least, it looks like a great idea.   \n",
              "\n",
              "                                                 dst  \n",
              "0     Kosova'nın özelleştirme süreci büyüteç altında  \n",
              "1  Kosova, tekrar eden şikayetler ışığında özelle...  \n",
              "2  Southeast European Times için Priştine'den Muh...  \n",
              "3  Feronikel beş yıl önce özelleştirilmesine ve h...  \n",
              "4  En azından kağıt üzerinde, harika bir fikir gi...  "
            ],
            "text/html": [
              "\n",
              "  <div id=\"df-d3d224db-e780-43f4-ac14-49ffb29d612f\">\n",
              "    <div class=\"colab-df-container\">\n",
              "      <div>\n",
              "<style scoped>\n",
              "    .dataframe tbody tr th:only-of-type {\n",
              "        vertical-align: middle;\n",
              "    }\n",
              "\n",
              "    .dataframe tbody tr th {\n",
              "        vertical-align: top;\n",
              "    }\n",
              "\n",
              "    .dataframe thead th {\n",
              "        text-align: right;\n",
              "    }\n",
              "</style>\n",
              "<table border=\"1\" class=\"dataframe\">\n",
              "  <thead>\n",
              "    <tr style=\"text-align: right;\">\n",
              "      <th></th>\n",
              "      <th>src</th>\n",
              "      <th>dst</th>\n",
              "    </tr>\n",
              "  </thead>\n",
              "  <tbody>\n",
              "    <tr>\n",
              "      <th>0</th>\n",
              "      <td>Kosovo's privatisation process is under scrutiny</td>\n",
              "      <td>Kosova'nın özelleştirme süreci büyüteç altında</td>\n",
              "    </tr>\n",
              "    <tr>\n",
              "      <th>1</th>\n",
              "      <td>Kosovo is taking a hard look at its privatisat...</td>\n",
              "      <td>Kosova, tekrar eden şikayetler ışığında özelle...</td>\n",
              "    </tr>\n",
              "    <tr>\n",
              "      <th>2</th>\n",
              "      <td>By Muhamet Brajshori for Southeast European Ti...</td>\n",
              "      <td>Southeast European Times için Priştine'den Muh...</td>\n",
              "    </tr>\n",
              "    <tr>\n",
              "      <th>3</th>\n",
              "      <td>Feronikel was privatised five years ago, and i...</td>\n",
              "      <td>Feronikel beş yıl önce özelleştirilmesine ve h...</td>\n",
              "    </tr>\n",
              "    <tr>\n",
              "      <th>4</th>\n",
              "      <td>On paper at least, it looks like a great idea.</td>\n",
              "      <td>En azından kağıt üzerinde, harika bir fikir gi...</td>\n",
              "    </tr>\n",
              "  </tbody>\n",
              "</table>\n",
              "</div>\n",
              "      <button class=\"colab-df-convert\" onclick=\"convertToInteractive('df-d3d224db-e780-43f4-ac14-49ffb29d612f')\"\n",
              "              title=\"Convert this dataframe to an interactive table.\"\n",
              "              style=\"display:none;\">\n",
              "        \n",
              "  <svg xmlns=\"http://www.w3.org/2000/svg\" height=\"24px\"viewBox=\"0 0 24 24\"\n",
              "       width=\"24px\">\n",
              "    <path d=\"M0 0h24v24H0V0z\" fill=\"none\"/>\n",
              "    <path d=\"M18.56 5.44l.94 2.06.94-2.06 2.06-.94-2.06-.94-.94-2.06-.94 2.06-2.06.94zm-11 1L8.5 8.5l.94-2.06 2.06-.94-2.06-.94L8.5 2.5l-.94 2.06-2.06.94zm10 10l.94 2.06.94-2.06 2.06-.94-2.06-.94-.94-2.06-.94 2.06-2.06.94z\"/><path d=\"M17.41 7.96l-1.37-1.37c-.4-.4-.92-.59-1.43-.59-.52 0-1.04.2-1.43.59L10.3 9.45l-7.72 7.72c-.78.78-.78 2.05 0 2.83L4 21.41c.39.39.9.59 1.41.59.51 0 1.02-.2 1.41-.59l7.78-7.78 2.81-2.81c.8-.78.8-2.07 0-2.86zM5.41 20L4 18.59l7.72-7.72 1.47 1.35L5.41 20z\"/>\n",
              "  </svg>\n",
              "      </button>\n",
              "      \n",
              "  <style>\n",
              "    .colab-df-container {\n",
              "      display:flex;\n",
              "      flex-wrap:wrap;\n",
              "      gap: 12px;\n",
              "    }\n",
              "\n",
              "    .colab-df-convert {\n",
              "      background-color: #E8F0FE;\n",
              "      border: none;\n",
              "      border-radius: 50%;\n",
              "      cursor: pointer;\n",
              "      display: none;\n",
              "      fill: #1967D2;\n",
              "      height: 32px;\n",
              "      padding: 0 0 0 0;\n",
              "      width: 32px;\n",
              "    }\n",
              "\n",
              "    .colab-df-convert:hover {\n",
              "      background-color: #E2EBFA;\n",
              "      box-shadow: 0px 1px 2px rgba(60, 64, 67, 0.3), 0px 1px 3px 1px rgba(60, 64, 67, 0.15);\n",
              "      fill: #174EA6;\n",
              "    }\n",
              "\n",
              "    [theme=dark] .colab-df-convert {\n",
              "      background-color: #3B4455;\n",
              "      fill: #D2E3FC;\n",
              "    }\n",
              "\n",
              "    [theme=dark] .colab-df-convert:hover {\n",
              "      background-color: #434B5C;\n",
              "      box-shadow: 0px 1px 3px 1px rgba(0, 0, 0, 0.15);\n",
              "      filter: drop-shadow(0px 1px 2px rgba(0, 0, 0, 0.3));\n",
              "      fill: #FFFFFF;\n",
              "    }\n",
              "  </style>\n",
              "\n",
              "      <script>\n",
              "        const buttonEl =\n",
              "          document.querySelector('#df-d3d224db-e780-43f4-ac14-49ffb29d612f button.colab-df-convert');\n",
              "        buttonEl.style.display =\n",
              "          google.colab.kernel.accessAllowed ? 'block' : 'none';\n",
              "\n",
              "        async function convertToInteractive(key) {\n",
              "          const element = document.querySelector('#df-d3d224db-e780-43f4-ac14-49ffb29d612f');\n",
              "          const dataTable =\n",
              "            await google.colab.kernel.invokeFunction('convertToInteractive',\n",
              "                                                     [key], {});\n",
              "          if (!dataTable) return;\n",
              "\n",
              "          const docLinkHtml = 'Like what you see? Visit the ' +\n",
              "            '<a target=\"_blank\" href=https://colab.research.google.com/notebooks/data_table.ipynb>data table notebook</a>'\n",
              "            + ' to learn more about interactive tables.';\n",
              "          element.innerHTML = '';\n",
              "          dataTable['output_type'] = 'display_data';\n",
              "          await google.colab.output.renderOutput(dataTable, element);\n",
              "          const docLink = document.createElement('div');\n",
              "          docLink.innerHTML = docLinkHtml;\n",
              "          element.appendChild(docLink);\n",
              "        }\n",
              "      </script>\n",
              "    </div>\n",
              "  </div>\n",
              "  "
            ]
          },
          "metadata": {},
          "execution_count": 32
        }
      ]
    },
    {
      "cell_type": "code",
      "source": [
        "# from the dataframe let create a huggingface data\n",
        "test_data=datasets.Dataset.from_pandas(test_df)\n",
        "train_data=datasets.Dataset.from_pandas(train_df)\n",
        "val_data=datasets.Dataset.from_pandas(val_df)"
      ],
      "metadata": {
        "id": "ZDPGjQCq-40l"
      },
      "execution_count": null,
      "outputs": []
    },
    {
      "cell_type": "code",
      "source": [
        "#combine all these data into main dataset dictionary\n",
        "data = datasets.DatasetDict({\n",
        "    'train': train_data,\n",
        "    'val':val_data,\n",
        "    'test':test_data})\n",
        "data"
      ],
      "metadata": {
        "colab": {
          "base_uri": "https://localhost:8080/"
        },
        "id": "kuGRR5Z7_aN8",
        "outputId": "e244f3ba-993f-4aba-bae7-42b7706d51bf"
      },
      "execution_count": null,
      "outputs": [
        {
          "output_type": "execute_result",
          "data": {
            "text/plain": [
              "DatasetDict({\n",
              "    train: Dataset({\n",
              "        features: ['src', 'dst'],\n",
              "        num_rows: 205756\n",
              "    })\n",
              "    val: Dataset({\n",
              "        features: ['src', 'dst'],\n",
              "        num_rows: 1001\n",
              "    })\n",
              "    test: Dataset({\n",
              "        features: ['src', 'dst'],\n",
              "        num_rows: 3000\n",
              "    })\n",
              "})"
            ]
          },
          "metadata": {},
          "execution_count": 34
        }
      ]
    },
    {
      "cell_type": "code",
      "source": [
        "#load tokenizer and model\n",
        "model_name = \"penpen/novel-zh-en\"\n",
        "# from transformers import MarianTokenizer, MarianMTModel\n",
        "# tokenizer = MarianTokenizer.from_pretrained(model_name)\n",
        "# model = MarianMTModel.from_pretrained(model_name)\n",
        "\n",
        "from transformers import AutoTokenizer,AutoModelForSeq2SeqLM\n",
        "\n",
        "tokenizer = AutoTokenizer.from_pretrained(model_name)\n",
        "model = AutoModelForSeq2SeqLM.from_pretrained(model_name)"
      ],
      "metadata": {
        "colab": {
          "base_uri": "https://localhost:8080/"
        },
        "id": "JuF837LK8RLq",
        "outputId": "841f2a21-ffbd-48df-ba26-540d9fc332ac"
      },
      "execution_count": null,
      "outputs": [
        {
          "output_type": "stream",
          "name": "stderr",
          "text": [
            "loading file source.spm from cache at /root/.cache/huggingface/hub/models--penpen--novel-zh-en/snapshots/ddcbb4bbec89c1446c7b97b4e3be30aee05ad756/source.spm\n",
            "loading file target.spm from cache at /root/.cache/huggingface/hub/models--penpen--novel-zh-en/snapshots/ddcbb4bbec89c1446c7b97b4e3be30aee05ad756/target.spm\n",
            "loading file vocab.json from cache at /root/.cache/huggingface/hub/models--penpen--novel-zh-en/snapshots/ddcbb4bbec89c1446c7b97b4e3be30aee05ad756/vocab.json\n",
            "loading file target_vocab.json from cache at None\n",
            "loading file tokenizer_config.json from cache at /root/.cache/huggingface/hub/models--penpen--novel-zh-en/snapshots/ddcbb4bbec89c1446c7b97b4e3be30aee05ad756/tokenizer_config.json\n",
            "loading file added_tokens.json from cache at /root/.cache/huggingface/hub/models--penpen--novel-zh-en/snapshots/ddcbb4bbec89c1446c7b97b4e3be30aee05ad756/added_tokens.json\n",
            "loading file special_tokens_map.json from cache at /root/.cache/huggingface/hub/models--penpen--novel-zh-en/snapshots/ddcbb4bbec89c1446c7b97b4e3be30aee05ad756/special_tokens_map.json\n",
            "/usr/local/lib/python3.7/dist-packages/transformers/models/marian/tokenization_marian.py:194: UserWarning: Recommended: pip install sacremoses.\n",
            "  warnings.warn(\"Recommended: pip install sacremoses.\")\n",
            "Adding <TERM> to the vocabulary\n",
            "Adding <GLOS> to the vocabulary\n",
            "Adding </GLOS> to the vocabulary\n",
            "Adding MASK to the vocabulary\n",
            "loading configuration file config.json from cache at /root/.cache/huggingface/hub/models--penpen--novel-zh-en/snapshots/ddcbb4bbec89c1446c7b97b4e3be30aee05ad756/config.json\n",
            "Model config MarianConfig {\n",
            "  \"_name_or_path\": \"penpen/novel-zh-en\",\n",
            "  \"activation_dropout\": 0.0,\n",
            "  \"activation_function\": \"swish\",\n",
            "  \"add_bias_logits\": false,\n",
            "  \"add_final_layer_norm\": false,\n",
            "  \"architectures\": [\n",
            "    \"MarianMTModel\"\n",
            "  ],\n",
            "  \"attention_dropout\": 0.0,\n",
            "  \"bad_words_ids\": [\n",
            "    [\n",
            "      65000\n",
            "    ]\n",
            "  ],\n",
            "  \"bos_token_id\": 0,\n",
            "  \"classif_dropout\": 0.0,\n",
            "  \"classifier_dropout\": 0.0,\n",
            "  \"d_model\": 512,\n",
            "  \"decoder_attention_heads\": 8,\n",
            "  \"decoder_ffn_dim\": 2048,\n",
            "  \"decoder_layerdrop\": 0.0,\n",
            "  \"decoder_layers\": 6,\n",
            "  \"decoder_start_token_id\": 65000,\n",
            "  \"decoder_vocab_size\": 65005,\n",
            "  \"dropout\": 0.1,\n",
            "  \"encoder_attention_heads\": 8,\n",
            "  \"encoder_ffn_dim\": 2048,\n",
            "  \"encoder_layerdrop\": 0.0,\n",
            "  \"encoder_layers\": 6,\n",
            "  \"eos_token_id\": 0,\n",
            "  \"extra_pos_embeddings\": 65001,\n",
            "  \"forced_eos_token_id\": 0,\n",
            "  \"id2label\": {\n",
            "    \"0\": \"LABEL_0\",\n",
            "    \"1\": \"LABEL_1\",\n",
            "    \"2\": \"LABEL_2\"\n",
            "  },\n",
            "  \"init_std\": 0.02,\n",
            "  \"is_encoder_decoder\": true,\n",
            "  \"label2id\": {\n",
            "    \"LABEL_0\": 0,\n",
            "    \"LABEL_1\": 1,\n",
            "    \"LABEL_2\": 2\n",
            "  },\n",
            "  \"max_length\": 512,\n",
            "  \"max_position_embeddings\": 512,\n",
            "  \"model_type\": \"marian\",\n",
            "  \"normalize_before\": false,\n",
            "  \"normalize_embedding\": false,\n",
            "  \"num_beams\": 6,\n",
            "  \"num_hidden_layers\": 6,\n",
            "  \"pad_token_id\": 65000,\n",
            "  \"scale_embedding\": true,\n",
            "  \"share_encoder_decoder_embeddings\": true,\n",
            "  \"static_position_embeddings\": true,\n",
            "  \"torch_dtype\": \"float32\",\n",
            "  \"transformers_version\": \"4.22.2\",\n",
            "  \"use_cache\": true,\n",
            "  \"vocab_size\": 65005\n",
            "}\n",
            "\n",
            "loading weights file pytorch_model.bin from cache at /root/.cache/huggingface/hub/models--penpen--novel-zh-en/snapshots/ddcbb4bbec89c1446c7b97b4e3be30aee05ad756/pytorch_model.bin\n",
            "All model checkpoint weights were used when initializing MarianMTModel.\n",
            "\n",
            "All the weights of MarianMTModel were initialized from the model checkpoint at penpen/novel-zh-en.\n",
            "If your task is similar to the task the model of the checkpoint was trained on, you can already use MarianMTModel for predictions without further training.\n"
          ]
        }
      ]
    },
    {
      "cell_type": "code",
      "source": [
        "\n",
        "prefix = \"\"\n",
        "max_input_length = 128\n",
        "max_target_length = 128\n",
        "source_lang = \"en\"\n",
        "target_lang = \"tr\"\n",
        "\n",
        "#write a preprocess function, which take input and targer and tokenize it\n",
        "def preprocess_function(examples):\n",
        "    inputs =examples['src']\n",
        "    targets = examples['dst']\n",
        "    model_inputs = tokenizer(inputs, max_length=max_input_length, truncation=True)\n",
        "    # Setup the tokenizer for targets\n",
        "    with tokenizer.as_target_tokenizer():\n",
        "        labels = tokenizer(targets, max_length=max_target_length, truncation=True)\n",
        "    model_inputs[\"labels\"] = labels[\"input_ids\"]#put labels in the variable having input to make a single variable\n",
        "    return model_inputs"
      ],
      "metadata": {
        "id": "0600S2W686Q2"
      },
      "execution_count": null,
      "outputs": []
    },
    {
      "cell_type": "code",
      "source": [
        "preprocess_function(data['test'][:2])\n"
      ],
      "metadata": {
        "colab": {
          "base_uri": "https://localhost:8080/"
        },
        "id": "Ck3BlNWg_9bD",
        "outputId": "b4846f9f-1da8-4886-e2b3-e27f6490b0a5"
      },
      "execution_count": null,
      "outputs": [
        {
          "output_type": "stream",
          "name": "stderr",
          "text": [
            "/usr/local/lib/python3.7/dist-packages/transformers/tokenization_utils_base.py:3543: UserWarning: `as_target_tokenizer` is deprecated and will be removed in v5 of Transformers. You can tokenize your labels by using the argument `text_target` of the regular `__call__` method (either in the same call as your input texts if you use the same keyword arguments, or in a separate call.\n",
            "  \"`as_target_tokenizer` is deprecated and will be removed in v5 of Transformers. You can tokenize your \"\n"
          ]
        },
        {
          "output_type": "execute_result",
          "data": {
            "text/plain": [
              "{'input_ids': [[66, 727, 254, 337, 5689, 2, 7, 10906, 589, 9868, 672, 78, 104, 11504, 22, 8, 7, 21674, 11923, 4867, 1240, 3253, 1490, 589, 3804, 7828, 0], [66, 12, 727, 254, 1119, 2, 174, 7, 8938, 10532, 18, 480, 95, 1490, 12097, 480, 7, 6436, 5613, 466, 2, 2482, 23102, 177, 6400, 7, 8528, 589, 9868, 672, 10033, 13401, 800, 5283, 26513, 9224, 6331, 804, 5128, 10532, 169, 7, 18043, 7, 6436, 8193, 174, 15754, 1232, 1490, 589, 3804, 7828, 6, 7, 22043, 1232, 22, 204, 250, 8, 400, 7, 10611, 8, 3, 3253, 7, 5561, 4694, 5, 0]], 'attention_mask': [[1, 1, 1, 1, 1, 1, 1, 1, 1, 1, 1, 1, 1, 1, 1, 1, 1, 1, 1, 1, 1, 1, 1, 1, 1, 1, 1], [1, 1, 1, 1, 1, 1, 1, 1, 1, 1, 1, 1, 1, 1, 1, 1, 1, 1, 1, 1, 1, 1, 1, 1, 1, 1, 1, 1, 1, 1, 1, 1, 1, 1, 1, 1, 1, 1, 1, 1, 1, 1, 1, 1, 1, 1, 1, 1, 1, 1, 1, 1, 1, 1, 1, 1, 1, 1, 1, 1, 1, 1, 1, 1, 1, 1, 1, 1, 1, 1, 1, 1]], 'labels': [[44144, 1199, 8543, 1232, 50444, 21, 373, 11179, 17123, 43940, 1874, 57546, 3908, 50544, 12950, 1, 746, 57546, 7, 54624, 12643, 12626, 5170, 1, 746, 12626, 7, 62329, 59, 14348, 589, 471, 32180, 0], [50444, 21, 373, 12, 18662, 1813, 7, 60866, 7114, 10589, 17447, 44144, 1199, 8543, 1232, 12626, 53902, 57111, 2, 7, 30729, 4009, 7067, 57546, 3908, 12, 13176, 12950, 1, 746, 57546, 95, 373, 23658, 3335, 3100, 3657, 10622, 51109, 1203, 1568, 7, 419, 7, 30729, 22, 748, 7, 7256, 9166, 748, 7, 44653, 24164, 373, 7, 12648, 7304, 5491, 51109, 13716, 95, 1199, 373, 14638, 31314, 57546, 3908, 6493, 18503, 37806, 26801, 59, 129, 1664, 7, 55615, 7304, 3289, 3789, 95, 8543, 52505, 5168, 5, 0]]}"
            ]
          },
          "metadata": {},
          "execution_count": 37
        }
      ]
    },
    {
      "cell_type": "code",
      "source": [
        "tokenized_datasets = data.map(preprocess_function, batched=True,remove_columns=data.column_names[\"train\"])"
      ],
      "metadata": {
        "colab": {
          "base_uri": "https://localhost:8080/",
          "height": 113,
          "referenced_widgets": [
            "a05fd06adcc043cea0798c331f6ca437",
            "6f7b3ef5a1844f88aa15efd292086b90",
            "93f80c8d9cd940df82d349749cd8b9dc",
            "3f0f330f93ab467f9ba9d974ec3560e0",
            "416fcb948a794323aa64a29efe6d47c8",
            "c5b292432bf24f669aa8b070eb7a8976",
            "0d250fc38a6446b9a432af5475cc0977",
            "a0498925d6184631b5d9841ad42c44c3",
            "61c73f72faf6407fb57b6c6a67f61914",
            "a3c18af5d2cd4383b3fcd1ff7ca1c846",
            "22a0c50581c64d3b9e89bc45776f27a7",
            "ddefe3b294784b76a20a9417abae0a72",
            "540a361b89cf42e8a33af53e602e00c0",
            "c405efafb09e4aa19fc26b0af96741e6",
            "5567c668a0df489cba099552cd8a984f",
            "e3e76006de0e455aaad466c32bbc806b",
            "dcc455cc78794709904c6c3b066b4488",
            "229bc75c55bd4a73b165da34f67571df",
            "1d6c5ca3664b475090909b6a5654763f",
            "0728c8eddd014bd3a083ea598d09b73d",
            "dbdfc91109fc4bda82d27d81ee212e38",
            "78c4972e9287410eb80110863bad95f0",
            "e0f987c98a7040bb92b90333951cff0f",
            "14e3428d651d4afa928a27d2d094fad1",
            "d79cbd4ea1364c46bb2cf0d947441191",
            "53c2d6d8f5f143c28768bc5a46b78667",
            "34630bd70338478d91671eeef45dd522",
            "dbcb4c35936149959894e818b84dcc2d",
            "a465b98c877d4040a5c3f9a7fe441cab",
            "6e8fb65400ea4e2abc1ab1c131bcb6cb",
            "093ced918cba4ae4a2321cea262207bc",
            "8ad689e5711741b1a74903f8503a93c5",
            "6ad2b28ad02c4dad8dd5fab926cb103a"
          ]
        },
        "id": "5Dg0BuToANoF",
        "outputId": "d124216b-b5da-42fc-b424-29a682ef9f8b"
      },
      "execution_count": null,
      "outputs": [
        {
          "output_type": "display_data",
          "data": {
            "text/plain": [
              "  0%|          | 0/206 [00:00<?, ?ba/s]"
            ],
            "application/vnd.jupyter.widget-view+json": {
              "version_major": 2,
              "version_minor": 0,
              "model_id": "a05fd06adcc043cea0798c331f6ca437"
            }
          },
          "metadata": {}
        },
        {
          "output_type": "display_data",
          "data": {
            "text/plain": [
              "  0%|          | 0/2 [00:00<?, ?ba/s]"
            ],
            "application/vnd.jupyter.widget-view+json": {
              "version_major": 2,
              "version_minor": 0,
              "model_id": "ddefe3b294784b76a20a9417abae0a72"
            }
          },
          "metadata": {}
        },
        {
          "output_type": "display_data",
          "data": {
            "text/plain": [
              "  0%|          | 0/3 [00:00<?, ?ba/s]"
            ],
            "application/vnd.jupyter.widget-view+json": {
              "version_major": 2,
              "version_minor": 0,
              "model_id": "e0f987c98a7040bb92b90333951cff0f"
            }
          },
          "metadata": {}
        }
      ]
    },
    {
      "cell_type": "code",
      "source": [
        "tokenized_datasets"
      ],
      "metadata": {
        "colab": {
          "base_uri": "https://localhost:8080/"
        },
        "id": "L1WbAWmWIjkm",
        "outputId": "aa4591a7-b388-48e7-dbee-28b87fd4eeb9"
      },
      "execution_count": null,
      "outputs": [
        {
          "output_type": "execute_result",
          "data": {
            "text/plain": [
              "DatasetDict({\n",
              "    train: Dataset({\n",
              "        features: ['input_ids', 'attention_mask', 'labels'],\n",
              "        num_rows: 205756\n",
              "    })\n",
              "    val: Dataset({\n",
              "        features: ['input_ids', 'attention_mask', 'labels'],\n",
              "        num_rows: 1001\n",
              "    })\n",
              "    test: Dataset({\n",
              "        features: ['input_ids', 'attention_mask', 'labels'],\n",
              "        num_rows: 3000\n",
              "    })\n",
              "})"
            ]
          },
          "metadata": {},
          "execution_count": 39
        }
      ]
    },
    {
      "cell_type": "code",
      "source": [
        "from transformers import AutoModelForSeq2SeqLM, DataCollatorForSeq2Seq, Seq2SeqTrainingArguments, Seq2SeqTrainer\n",
        "batch_size=12\n",
        "args = Seq2SeqTrainingArguments(\n",
        "   output_dir=\"./mymodel\",\n",
        "  group_by_length=True,\n",
        "  per_device_train_batch_size=batch_size,\n",
        "  per_device_eval_batch_size=batch_size,\n",
        "  gradient_accumulation_steps=4,\n",
        "  evaluation_strategy=\"epoch\",\n",
        "  num_train_epochs=2,\n",
        "  fp16=True,\n",
        "  save_steps=500,\n",
        "  eval_steps=500,\n",
        "  logging_steps=500,\n",
        "  learning_rate=3e-4,\n",
        "  save_total_limit=2,\n",
        "  predict_with_generate=True    \n",
        ")"
      ],
      "metadata": {
        "colab": {
          "base_uri": "https://localhost:8080/"
        },
        "id": "DPY43WFeAhF4",
        "outputId": "19dc500a-90f3-4b89-fb8d-869a1e0b069c"
      },
      "execution_count": null,
      "outputs": [
        {
          "output_type": "stream",
          "name": "stderr",
          "text": [
            "PyTorch: setting up devices\n",
            "The default value for the training argument `--report_to` will change in v5 (from all installed integrations to none). In v5, you will need to use `--report_to all` to get the same behavior as now. You should start updating your code and make this info disappear :-).\n"
          ]
        }
      ]
    },
    {
      "cell_type": "code",
      "source": [
        "data_collator = DataCollatorForSeq2Seq(tokenizer, model=model)\n"
      ],
      "metadata": {
        "id": "WYqAGUIdBz4R"
      },
      "execution_count": null,
      "outputs": []
    },
    {
      "cell_type": "code",
      "source": [
        "def postprocess_text(preds, labels):\n",
        "    preds = [pred.strip() for pred in preds]\n",
        "    labels = [[label.strip()] for label in labels]#ValueError: Got a string but expected a list instead: 'Norveç'in rakfisk'i: Dünyanın en kokulu bal bu mu?'\n",
        "    return preds, labels\n",
        "def compute_metrics(eval_preds):\n",
        "    preds, labels = eval_preds\n",
        "    if isinstance(preds, tuple):\n",
        "        preds = preds[0]\n",
        "    decoded_preds = tokenizer.batch_decode(preds, skip_special_tokens=True)\n",
        "    # Replace -100 in the labels as we can't decode them.\n",
        "    labels = np.where(labels != -100, labels, tokenizer.pad_token_id)\n",
        "    decoded_labels = tokenizer.batch_decode(labels, skip_special_tokens=True)\n",
        "\n",
        "    # Some simple post-processing\n",
        "    decoded_preds, decoded_labels = postprocess_text(decoded_preds, decoded_labels)\n",
        "    result = metric.compute(predictions=decoded_preds, references=decoded_labels)\n",
        "   \n",
        "    result = {\"bleu\": result[\"score\"]}\n",
        "   \n",
        "    return result"
      ],
      "metadata": {
        "id": "f3sXusYlE7Gq"
      },
      "execution_count": null,
      "outputs": []
    },
    {
      "cell_type": "code",
      "source": [
        "trainer = Seq2SeqTrainer(\n",
        "    model,\n",
        "    args,\n",
        "    train_dataset=tokenized_datasets[\"train\"],\n",
        "    eval_dataset=tokenized_datasets[\"val\"],\n",
        "    data_collator=data_collator,\n",
        "    tokenizer=tokenizer,\n",
        "    compute_metrics=compute_metrics\n",
        ")"
      ],
      "metadata": {
        "colab": {
          "base_uri": "https://localhost:8080/"
        },
        "id": "bURoZ4MoGpi6",
        "outputId": "75954184-0767-4e1f-dade-a2400a7083fa"
      },
      "execution_count": null,
      "outputs": [
        {
          "output_type": "stream",
          "name": "stderr",
          "text": [
            "Using cuda_amp half precision backend\n"
          ]
        }
      ]
    },
    {
      "cell_type": "code",
      "source": [
        "trainer.train()\n"
      ],
      "metadata": {
        "colab": {
          "base_uri": "https://localhost:8080/",
          "height": 1000
        },
        "id": "Bf0m2DvJGz00",
        "outputId": "6e0123a7-a791-4899-de3a-41c4148b8eaa"
      },
      "execution_count": null,
      "outputs": [
        {
          "output_type": "stream",
          "name": "stderr",
          "text": [
            "/usr/local/lib/python3.7/dist-packages/transformers/optimization.py:310: FutureWarning: This implementation of AdamW is deprecated and will be removed in a future version. Use the PyTorch implementation torch.optim.AdamW instead, or set `no_deprecation_warning=True` to disable this warning\n",
            "  FutureWarning,\n",
            "***** Running training *****\n",
            "  Num examples = 205756\n",
            "  Num Epochs = 2\n",
            "  Instantaneous batch size per device = 12\n",
            "  Total train batch size (w. parallel, distributed & accumulation) = 48\n",
            "  Gradient Accumulation steps = 4\n",
            "  Total optimization steps = 8572\n"
          ]
        },
        {
          "output_type": "display_data",
          "data": {
            "text/plain": [
              "<IPython.core.display.HTML object>"
            ],
            "text/html": [
              "\n",
              "    <div>\n",
              "      \n",
              "      <progress value='8572' max='8572' style='width:300px; height:20px; vertical-align: middle;'></progress>\n",
              "      [8572/8572 1:02:27, Epoch 1/2]\n",
              "    </div>\n",
              "    <table border=\"1\" class=\"dataframe\">\n",
              "  <thead>\n",
              " <tr style=\"text-align: left;\">\n",
              "      <th>Epoch</th>\n",
              "      <th>Training Loss</th>\n",
              "      <th>Validation Loss</th>\n",
              "      <th>Bleu</th>\n",
              "    </tr>\n",
              "  </thead>\n",
              "  <tbody>\n",
              "    <tr>\n",
              "      <td>0</td>\n",
              "      <td>0.995600</td>\n",
              "      <td>1.720004</td>\n",
              "      <td>6.921028</td>\n",
              "    </tr>\n",
              "    <tr>\n",
              "      <td>1</td>\n",
              "      <td>0.744900</td>\n",
              "      <td>1.493166</td>\n",
              "      <td>9.507468</td>\n",
              "    </tr>\n",
              "  </tbody>\n",
              "</table><p>"
            ]
          },
          "metadata": {}
        },
        {
          "output_type": "stream",
          "name": "stderr",
          "text": [
            "Saving model checkpoint to ./mymodel/checkpoint-500\n",
            "Configuration saved in ./mymodel/checkpoint-500/config.json\n",
            "Model weights saved in ./mymodel/checkpoint-500/pytorch_model.bin\n",
            "tokenizer config file saved in ./mymodel/checkpoint-500/tokenizer_config.json\n",
            "Special tokens file saved in ./mymodel/checkpoint-500/special_tokens_map.json\n",
            "added tokens file saved in ./mymodel/checkpoint-500/added_tokens.json\n",
            "Saving model checkpoint to ./mymodel/checkpoint-1000\n",
            "Configuration saved in ./mymodel/checkpoint-1000/config.json\n",
            "Model weights saved in ./mymodel/checkpoint-1000/pytorch_model.bin\n",
            "tokenizer config file saved in ./mymodel/checkpoint-1000/tokenizer_config.json\n",
            "Special tokens file saved in ./mymodel/checkpoint-1000/special_tokens_map.json\n",
            "added tokens file saved in ./mymodel/checkpoint-1000/added_tokens.json\n",
            "Saving model checkpoint to ./mymodel/checkpoint-1500\n",
            "Configuration saved in ./mymodel/checkpoint-1500/config.json\n",
            "Model weights saved in ./mymodel/checkpoint-1500/pytorch_model.bin\n",
            "tokenizer config file saved in ./mymodel/checkpoint-1500/tokenizer_config.json\n",
            "Special tokens file saved in ./mymodel/checkpoint-1500/special_tokens_map.json\n",
            "added tokens file saved in ./mymodel/checkpoint-1500/added_tokens.json\n",
            "Deleting older checkpoint [mymodel/checkpoint-500] due to args.save_total_limit\n",
            "Saving model checkpoint to ./mymodel/checkpoint-2000\n",
            "Configuration saved in ./mymodel/checkpoint-2000/config.json\n",
            "Model weights saved in ./mymodel/checkpoint-2000/pytorch_model.bin\n",
            "tokenizer config file saved in ./mymodel/checkpoint-2000/tokenizer_config.json\n",
            "Special tokens file saved in ./mymodel/checkpoint-2000/special_tokens_map.json\n",
            "added tokens file saved in ./mymodel/checkpoint-2000/added_tokens.json\n",
            "Deleting older checkpoint [mymodel/checkpoint-1000] due to args.save_total_limit\n",
            "Saving model checkpoint to ./mymodel/checkpoint-2500\n",
            "Configuration saved in ./mymodel/checkpoint-2500/config.json\n",
            "Model weights saved in ./mymodel/checkpoint-2500/pytorch_model.bin\n",
            "tokenizer config file saved in ./mymodel/checkpoint-2500/tokenizer_config.json\n",
            "Special tokens file saved in ./mymodel/checkpoint-2500/special_tokens_map.json\n",
            "added tokens file saved in ./mymodel/checkpoint-2500/added_tokens.json\n",
            "Deleting older checkpoint [mymodel/checkpoint-1500] due to args.save_total_limit\n",
            "Saving model checkpoint to ./mymodel/checkpoint-3000\n",
            "Configuration saved in ./mymodel/checkpoint-3000/config.json\n",
            "Model weights saved in ./mymodel/checkpoint-3000/pytorch_model.bin\n",
            "tokenizer config file saved in ./mymodel/checkpoint-3000/tokenizer_config.json\n",
            "Special tokens file saved in ./mymodel/checkpoint-3000/special_tokens_map.json\n",
            "added tokens file saved in ./mymodel/checkpoint-3000/added_tokens.json\n",
            "Deleting older checkpoint [mymodel/checkpoint-2000] due to args.save_total_limit\n",
            "Saving model checkpoint to ./mymodel/checkpoint-3500\n",
            "Configuration saved in ./mymodel/checkpoint-3500/config.json\n",
            "Model weights saved in ./mymodel/checkpoint-3500/pytorch_model.bin\n",
            "tokenizer config file saved in ./mymodel/checkpoint-3500/tokenizer_config.json\n",
            "Special tokens file saved in ./mymodel/checkpoint-3500/special_tokens_map.json\n",
            "added tokens file saved in ./mymodel/checkpoint-3500/added_tokens.json\n",
            "Deleting older checkpoint [mymodel/checkpoint-2500] due to args.save_total_limit\n",
            "Saving model checkpoint to ./mymodel/checkpoint-4000\n",
            "Configuration saved in ./mymodel/checkpoint-4000/config.json\n",
            "Model weights saved in ./mymodel/checkpoint-4000/pytorch_model.bin\n",
            "tokenizer config file saved in ./mymodel/checkpoint-4000/tokenizer_config.json\n",
            "Special tokens file saved in ./mymodel/checkpoint-4000/special_tokens_map.json\n",
            "added tokens file saved in ./mymodel/checkpoint-4000/added_tokens.json\n",
            "Deleting older checkpoint [mymodel/checkpoint-3000] due to args.save_total_limit\n",
            "***** Running Evaluation *****\n",
            "  Num examples = 1001\n",
            "  Batch size = 12\n",
            "Saving model checkpoint to ./mymodel/checkpoint-4500\n",
            "Configuration saved in ./mymodel/checkpoint-4500/config.json\n",
            "Model weights saved in ./mymodel/checkpoint-4500/pytorch_model.bin\n",
            "tokenizer config file saved in ./mymodel/checkpoint-4500/tokenizer_config.json\n",
            "Special tokens file saved in ./mymodel/checkpoint-4500/special_tokens_map.json\n",
            "added tokens file saved in ./mymodel/checkpoint-4500/added_tokens.json\n",
            "Deleting older checkpoint [mymodel/checkpoint-3500] due to args.save_total_limit\n",
            "Saving model checkpoint to ./mymodel/checkpoint-5000\n",
            "Configuration saved in ./mymodel/checkpoint-5000/config.json\n",
            "Model weights saved in ./mymodel/checkpoint-5000/pytorch_model.bin\n",
            "tokenizer config file saved in ./mymodel/checkpoint-5000/tokenizer_config.json\n",
            "Special tokens file saved in ./mymodel/checkpoint-5000/special_tokens_map.json\n",
            "added tokens file saved in ./mymodel/checkpoint-5000/added_tokens.json\n",
            "Deleting older checkpoint [mymodel/checkpoint-4000] due to args.save_total_limit\n",
            "Saving model checkpoint to ./mymodel/checkpoint-5500\n",
            "Configuration saved in ./mymodel/checkpoint-5500/config.json\n",
            "Model weights saved in ./mymodel/checkpoint-5500/pytorch_model.bin\n",
            "tokenizer config file saved in ./mymodel/checkpoint-5500/tokenizer_config.json\n",
            "Special tokens file saved in ./mymodel/checkpoint-5500/special_tokens_map.json\n",
            "added tokens file saved in ./mymodel/checkpoint-5500/added_tokens.json\n",
            "Deleting older checkpoint [mymodel/checkpoint-4500] due to args.save_total_limit\n",
            "Saving model checkpoint to ./mymodel/checkpoint-6000\n",
            "Configuration saved in ./mymodel/checkpoint-6000/config.json\n",
            "Model weights saved in ./mymodel/checkpoint-6000/pytorch_model.bin\n",
            "tokenizer config file saved in ./mymodel/checkpoint-6000/tokenizer_config.json\n",
            "Special tokens file saved in ./mymodel/checkpoint-6000/special_tokens_map.json\n",
            "added tokens file saved in ./mymodel/checkpoint-6000/added_tokens.json\n",
            "Deleting older checkpoint [mymodel/checkpoint-5000] due to args.save_total_limit\n",
            "Saving model checkpoint to ./mymodel/checkpoint-6500\n",
            "Configuration saved in ./mymodel/checkpoint-6500/config.json\n",
            "Model weights saved in ./mymodel/checkpoint-6500/pytorch_model.bin\n",
            "tokenizer config file saved in ./mymodel/checkpoint-6500/tokenizer_config.json\n",
            "Special tokens file saved in ./mymodel/checkpoint-6500/special_tokens_map.json\n",
            "added tokens file saved in ./mymodel/checkpoint-6500/added_tokens.json\n",
            "Deleting older checkpoint [mymodel/checkpoint-5500] due to args.save_total_limit\n",
            "Saving model checkpoint to ./mymodel/checkpoint-7000\n",
            "Configuration saved in ./mymodel/checkpoint-7000/config.json\n",
            "Model weights saved in ./mymodel/checkpoint-7000/pytorch_model.bin\n",
            "tokenizer config file saved in ./mymodel/checkpoint-7000/tokenizer_config.json\n",
            "Special tokens file saved in ./mymodel/checkpoint-7000/special_tokens_map.json\n",
            "added tokens file saved in ./mymodel/checkpoint-7000/added_tokens.json\n",
            "Deleting older checkpoint [mymodel/checkpoint-6000] due to args.save_total_limit\n",
            "Saving model checkpoint to ./mymodel/checkpoint-7500\n",
            "Configuration saved in ./mymodel/checkpoint-7500/config.json\n",
            "Model weights saved in ./mymodel/checkpoint-7500/pytorch_model.bin\n",
            "tokenizer config file saved in ./mymodel/checkpoint-7500/tokenizer_config.json\n",
            "Special tokens file saved in ./mymodel/checkpoint-7500/special_tokens_map.json\n",
            "added tokens file saved in ./mymodel/checkpoint-7500/added_tokens.json\n",
            "Deleting older checkpoint [mymodel/checkpoint-6500] due to args.save_total_limit\n",
            "Saving model checkpoint to ./mymodel/checkpoint-8000\n",
            "Configuration saved in ./mymodel/checkpoint-8000/config.json\n",
            "Model weights saved in ./mymodel/checkpoint-8000/pytorch_model.bin\n",
            "tokenizer config file saved in ./mymodel/checkpoint-8000/tokenizer_config.json\n",
            "Special tokens file saved in ./mymodel/checkpoint-8000/special_tokens_map.json\n",
            "added tokens file saved in ./mymodel/checkpoint-8000/added_tokens.json\n",
            "Deleting older checkpoint [mymodel/checkpoint-7000] due to args.save_total_limit\n",
            "Saving model checkpoint to ./mymodel/checkpoint-8500\n",
            "Configuration saved in ./mymodel/checkpoint-8500/config.json\n",
            "Model weights saved in ./mymodel/checkpoint-8500/pytorch_model.bin\n",
            "tokenizer config file saved in ./mymodel/checkpoint-8500/tokenizer_config.json\n",
            "Special tokens file saved in ./mymodel/checkpoint-8500/special_tokens_map.json\n",
            "added tokens file saved in ./mymodel/checkpoint-8500/added_tokens.json\n",
            "Deleting older checkpoint [mymodel/checkpoint-7500] due to args.save_total_limit\n",
            "***** Running Evaluation *****\n",
            "  Num examples = 1001\n",
            "  Batch size = 12\n",
            "\n",
            "\n",
            "Training completed. Do not forget to share your model on huggingface.co/models =)\n",
            "\n",
            "\n"
          ]
        },
        {
          "output_type": "execute_result",
          "data": {
            "text/plain": [
              "TrainOutput(global_step=8572, training_loss=1.1197710655806947, metrics={'train_runtime': 3747.716, 'train_samples_per_second': 109.803, 'train_steps_per_second': 2.287, 'total_flos': 6594485158674432.0, 'train_loss': 1.1197710655806947, 'epoch': 2.0})"
            ]
          },
          "metadata": {},
          "execution_count": 44
        }
      ]
    },
    {
      "cell_type": "code",
      "source": [
        "trainer.save_model(\"./saved_model\")\n",
        "tokenizer.save_pretrained(\"./saved_model\")\n"
      ],
      "metadata": {
        "colab": {
          "base_uri": "https://localhost:8080/"
        },
        "id": "TQE8azrKZD87",
        "outputId": "69acb185-af98-40a1-a26e-4639cf4f75ec"
      },
      "execution_count": null,
      "outputs": [
        {
          "output_type": "stream",
          "name": "stderr",
          "text": [
            "Saving model checkpoint to ./saved_model\n",
            "Configuration saved in ./saved_model/config.json\n",
            "Model weights saved in ./saved_model/pytorch_model.bin\n",
            "tokenizer config file saved in ./saved_model/tokenizer_config.json\n",
            "Special tokens file saved in ./saved_model/special_tokens_map.json\n",
            "added tokens file saved in ./saved_model/added_tokens.json\n",
            "tokenizer config file saved in ./saved_model/tokenizer_config.json\n",
            "Special tokens file saved in ./saved_model/special_tokens_map.json\n",
            "added tokens file saved in ./saved_model/added_tokens.json\n"
          ]
        },
        {
          "output_type": "execute_result",
          "data": {
            "text/plain": [
              "('./saved_model/tokenizer_config.json',\n",
              " './saved_model/special_tokens_map.json',\n",
              " './saved_model/vocab.json',\n",
              " './saved_model/source.spm',\n",
              " './saved_model/target.spm',\n",
              " './saved_model/added_tokens.json')"
            ]
          },
          "metadata": {},
          "execution_count": 45
        }
      ]
    },
    {
      "cell_type": "code",
      "source": [
        "from transformers import MarianTokenizer, MarianMTModel\n",
        "tokenizer = MarianTokenizer.from_pretrained('./saved_model')\n",
        "model = MarianMTModel.from_pretrained('./saved_model')\n",
        "\n",
        "\n",
        "def translate(text):\n",
        "    batch = tokenizer([text], return_tensors=\"pt\"  )\n",
        "    generated_ids = model.generate(**batch)\n",
        "    result = tokenizer.batch_decode(generated_ids, skip_special_tokens=True)[0]\n",
        "    return result"
      ],
      "metadata": {
        "colab": {
          "base_uri": "https://localhost:8080/"
        },
        "id": "E83hGkYNdsut",
        "outputId": "038bd86a-1049-4be6-add5-75509e5b4325"
      },
      "execution_count": null,
      "outputs": [
        {
          "output_type": "stream",
          "name": "stderr",
          "text": [
            "loading file source.spm\n",
            "loading file target.spm\n",
            "loading file vocab.json\n",
            "loading file target_vocab.json\n",
            "loading file tokenizer_config.json\n",
            "loading file added_tokens.json\n",
            "loading file special_tokens_map.json\n",
            "/usr/local/lib/python3.7/dist-packages/transformers/models/marian/tokenization_marian.py:194: UserWarning: Recommended: pip install sacremoses.\n",
            "  warnings.warn(\"Recommended: pip install sacremoses.\")\n",
            "Adding <TERM> to the vocabulary\n",
            "Adding <GLOS> to the vocabulary\n",
            "Adding </GLOS> to the vocabulary\n",
            "Adding MASK to the vocabulary\n",
            "loading configuration file ./saved_model/config.json\n",
            "Model config MarianConfig {\n",
            "  \"_name_or_path\": \"penpen/novel-zh-en\",\n",
            "  \"activation_dropout\": 0.0,\n",
            "  \"activation_function\": \"swish\",\n",
            "  \"add_bias_logits\": false,\n",
            "  \"add_final_layer_norm\": false,\n",
            "  \"architectures\": [\n",
            "    \"MarianMTModel\"\n",
            "  ],\n",
            "  \"attention_dropout\": 0.0,\n",
            "  \"bad_words_ids\": [\n",
            "    [\n",
            "      65000\n",
            "    ]\n",
            "  ],\n",
            "  \"bos_token_id\": 0,\n",
            "  \"classif_dropout\": 0.0,\n",
            "  \"classifier_dropout\": 0.0,\n",
            "  \"d_model\": 512,\n",
            "  \"decoder_attention_heads\": 8,\n",
            "  \"decoder_ffn_dim\": 2048,\n",
            "  \"decoder_layerdrop\": 0.0,\n",
            "  \"decoder_layers\": 6,\n",
            "  \"decoder_start_token_id\": 65000,\n",
            "  \"decoder_vocab_size\": 65005,\n",
            "  \"dropout\": 0.1,\n",
            "  \"encoder_attention_heads\": 8,\n",
            "  \"encoder_ffn_dim\": 2048,\n",
            "  \"encoder_layerdrop\": 0.0,\n",
            "  \"encoder_layers\": 6,\n",
            "  \"eos_token_id\": 0,\n",
            "  \"extra_pos_embeddings\": 65001,\n",
            "  \"forced_eos_token_id\": 0,\n",
            "  \"id2label\": {\n",
            "    \"0\": \"LABEL_0\",\n",
            "    \"1\": \"LABEL_1\",\n",
            "    \"2\": \"LABEL_2\"\n",
            "  },\n",
            "  \"init_std\": 0.02,\n",
            "  \"is_encoder_decoder\": true,\n",
            "  \"label2id\": {\n",
            "    \"LABEL_0\": 0,\n",
            "    \"LABEL_1\": 1,\n",
            "    \"LABEL_2\": 2\n",
            "  },\n",
            "  \"max_length\": 512,\n",
            "  \"max_position_embeddings\": 512,\n",
            "  \"model_type\": \"marian\",\n",
            "  \"normalize_before\": false,\n",
            "  \"normalize_embedding\": false,\n",
            "  \"num_beams\": 6,\n",
            "  \"num_hidden_layers\": 6,\n",
            "  \"pad_token_id\": 65000,\n",
            "  \"scale_embedding\": true,\n",
            "  \"share_encoder_decoder_embeddings\": true,\n",
            "  \"static_position_embeddings\": true,\n",
            "  \"torch_dtype\": \"float32\",\n",
            "  \"transformers_version\": \"4.22.2\",\n",
            "  \"use_cache\": true,\n",
            "  \"vocab_size\": 65005\n",
            "}\n",
            "\n",
            "loading weights file ./saved_model/pytorch_model.bin\n",
            "All model checkpoint weights were used when initializing MarianMTModel.\n",
            "\n",
            "All the weights of MarianMTModel were initialized from the model checkpoint at ./saved_model.\n",
            "If your task is similar to the task the model of the checkpoint was trained on, you can already use MarianMTModel for predictions without further training.\n"
          ]
        }
      ]
    },
    {
      "cell_type": "code",
      "source": [],
      "metadata": {
        "id": "-NW4aekqd1jo"
      },
      "execution_count": null,
      "outputs": []
    }
  ]
}