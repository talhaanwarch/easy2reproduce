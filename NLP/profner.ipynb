{
  "nbformat": 4,
  "nbformat_minor": 0,
  "metadata": {
    "colab": {
      "provenance": [],
      "collapsed_sections": []
    },
    "kernelspec": {
      "name": "python3",
      "display_name": "Python 3"
    },
    "language_info": {
      "name": "python"
    }
  },
  "cells": [
    {
      "cell_type": "code",
      "source": [
        "!pip install demoji -q\n",
        "!pip install  gensim -q\n"
      ],
      "metadata": {
        "id": "DLirVt55ZGMC",
        "colab": {
          "base_uri": "https://localhost:8080/"
        },
        "outputId": "49c974e1-31a3-4517-977a-1b6237e33d2e"
      },
      "execution_count": 1,
      "outputs": [
        {
          "output_type": "stream",
          "name": "stdout",
          "text": [
            "\u001b[K     |████████████████████████████████| 42 kB 1.0 MB/s \n",
            "\u001b[K     |████████████████████████████████| 68 kB 2.9 MB/s \n",
            "\u001b[?25h  Building wheel for fasttext (setup.py) ... \u001b[?25l\u001b[?25hdone\n"
          ]
        }
      ]
    },
    {
      "cell_type": "markdown",
      "source": [
        "# download and unzip data"
      ],
      "metadata": {
        "id": "GVN4_ReRK2Z3"
      }
    },
    {
      "cell_type": "code",
      "execution_count": 2,
      "metadata": {
        "colab": {
          "base_uri": "https://localhost:8080/"
        },
        "id": "DTdUVhDRKix_",
        "outputId": "c6838602-63f2-4216-96a6-0bcd5c9e4acb"
      },
      "outputs": [
        {
          "output_type": "stream",
          "name": "stdout",
          "text": [
            "--2022-09-04 10:04:10--  https://zenodo.org/record/4563995/files/profner.zip?download=1\n",
            "Resolving zenodo.org (zenodo.org)... 188.184.117.155\n",
            "Connecting to zenodo.org (zenodo.org)|188.184.117.155|:443... connected.\n",
            "HTTP request sent, awaiting response... 200 OK\n",
            "Length: 46552748 (44M) [application/octet-stream]\n",
            "Saving to: ‘data.zip’\n",
            "\n",
            "data.zip            100%[===================>]  44.40M  19.0MB/s    in 2.3s    \n",
            "\n",
            "2022-09-04 10:04:27 (19.0 MB/s) - ‘data.zip’ saved [46552748/46552748]\n",
            "\n"
          ]
        }
      ],
      "source": [
        "!wget https://zenodo.org/record/4563995/files/profner.zip?download=1 -O data.zip"
      ]
    },
    {
      "cell_type": "code",
      "source": [
        "!unzip -q data.zip"
      ],
      "metadata": {
        "id": "BTz3LBnnLJAr"
      },
      "execution_count": 3,
      "outputs": []
    },
    {
      "cell_type": "markdown",
      "source": [
        "# 1. Read data"
      ],
      "metadata": {
        "id": "qBmTGM-GOTcm"
      }
    },
    {
      "cell_type": "code",
      "source": [
        "import pandas as pd\n",
        "import numpy as np\n",
        "import os\n",
        "from glob import glob\n",
        "import seaborn as sns\n",
        "from matplotlib import pyplot as plt"
      ],
      "metadata": {
        "id": "9lSLjH5WL0Fq"
      },
      "execution_count": 4,
      "outputs": []
    },
    {
      "cell_type": "code",
      "source": [
        "import re\n",
        "import nltk\n",
        "from nltk.corpus import stopwords\n",
        "from nltk.stem.snowball import SnowballStemmer\n",
        "snow_stemmer = SnowballStemmer(language='spanish')\n",
        "nltk.download('stopwords')\n",
        "nltk.download('punkt')\n",
        "stopword=stopwords.words('spanish')"
      ],
      "metadata": {
        "colab": {
          "base_uri": "https://localhost:8080/"
        },
        "id": "4wLwt1BRTrP9",
        "outputId": "9e47763f-ae76-478d-db72-1165089f664f"
      },
      "execution_count": 5,
      "outputs": [
        {
          "output_type": "stream",
          "name": "stderr",
          "text": [
            "[nltk_data] Downloading package stopwords to /root/nltk_data...\n",
            "[nltk_data]   Unzipping corpora/stopwords.zip.\n",
            "[nltk_data] Downloading package punkt to /root/nltk_data...\n",
            "[nltk_data]   Unzipping tokenizers/punkt.zip.\n"
          ]
        }
      ]
    },
    {
      "cell_type": "code",
      "source": [
        "import demoji#remove emoji\n",
        "demoji.download_codes()"
      ],
      "metadata": {
        "colab": {
          "base_uri": "https://localhost:8080/"
        },
        "id": "tgTykx6BZud7",
        "outputId": "f9d07d0d-4a29-4764-ca12-e999cdebfd11"
      },
      "execution_count": 6,
      "outputs": [
        {
          "output_type": "stream",
          "name": "stderr",
          "text": [
            "/usr/local/lib/python3.7/dist-packages/ipykernel_launcher.py:2: FutureWarning: The demoji.download_codes attribute is deprecated and will be removed from demoji in a future version. It is an unused attribute as emoji codes are now distributed directly with the demoji package.\n",
            "  \n"
          ]
        }
      ]
    },
    {
      "cell_type": "code",
      "source": [
        "train_df=pd.read_csv('profner/subtask-1/train.tsv',sep='\\t')\n",
        "train_df.head()"
      ],
      "metadata": {
        "colab": {
          "base_uri": "https://localhost:8080/",
          "height": 206
        },
        "id": "PJJk1hu4L4Bt",
        "outputId": "91535172-005c-4736-e9ad-2ee294dabaf7"
      },
      "execution_count": 7,
      "outputs": [
        {
          "output_type": "execute_result",
          "data": {
            "text/plain": [
              "              tweet_id  label\n",
              "0  1256007275807997953      0\n",
              "1  1257909427677601792      0\n",
              "2  1281580572415066112      0\n",
              "3  1271348112733470720      0\n",
              "4  1270421287148695556      0"
            ],
            "text/html": [
              "\n",
              "  <div id=\"df-927b635a-324d-41e7-8cc4-c45387e00736\">\n",
              "    <div class=\"colab-df-container\">\n",
              "      <div>\n",
              "<style scoped>\n",
              "    .dataframe tbody tr th:only-of-type {\n",
              "        vertical-align: middle;\n",
              "    }\n",
              "\n",
              "    .dataframe tbody tr th {\n",
              "        vertical-align: top;\n",
              "    }\n",
              "\n",
              "    .dataframe thead th {\n",
              "        text-align: right;\n",
              "    }\n",
              "</style>\n",
              "<table border=\"1\" class=\"dataframe\">\n",
              "  <thead>\n",
              "    <tr style=\"text-align: right;\">\n",
              "      <th></th>\n",
              "      <th>tweet_id</th>\n",
              "      <th>label</th>\n",
              "    </tr>\n",
              "  </thead>\n",
              "  <tbody>\n",
              "    <tr>\n",
              "      <th>0</th>\n",
              "      <td>1256007275807997953</td>\n",
              "      <td>0</td>\n",
              "    </tr>\n",
              "    <tr>\n",
              "      <th>1</th>\n",
              "      <td>1257909427677601792</td>\n",
              "      <td>0</td>\n",
              "    </tr>\n",
              "    <tr>\n",
              "      <th>2</th>\n",
              "      <td>1281580572415066112</td>\n",
              "      <td>0</td>\n",
              "    </tr>\n",
              "    <tr>\n",
              "      <th>3</th>\n",
              "      <td>1271348112733470720</td>\n",
              "      <td>0</td>\n",
              "    </tr>\n",
              "    <tr>\n",
              "      <th>4</th>\n",
              "      <td>1270421287148695556</td>\n",
              "      <td>0</td>\n",
              "    </tr>\n",
              "  </tbody>\n",
              "</table>\n",
              "</div>\n",
              "      <button class=\"colab-df-convert\" onclick=\"convertToInteractive('df-927b635a-324d-41e7-8cc4-c45387e00736')\"\n",
              "              title=\"Convert this dataframe to an interactive table.\"\n",
              "              style=\"display:none;\">\n",
              "        \n",
              "  <svg xmlns=\"http://www.w3.org/2000/svg\" height=\"24px\"viewBox=\"0 0 24 24\"\n",
              "       width=\"24px\">\n",
              "    <path d=\"M0 0h24v24H0V0z\" fill=\"none\"/>\n",
              "    <path d=\"M18.56 5.44l.94 2.06.94-2.06 2.06-.94-2.06-.94-.94-2.06-.94 2.06-2.06.94zm-11 1L8.5 8.5l.94-2.06 2.06-.94-2.06-.94L8.5 2.5l-.94 2.06-2.06.94zm10 10l.94 2.06.94-2.06 2.06-.94-2.06-.94-.94-2.06-.94 2.06-2.06.94z\"/><path d=\"M17.41 7.96l-1.37-1.37c-.4-.4-.92-.59-1.43-.59-.52 0-1.04.2-1.43.59L10.3 9.45l-7.72 7.72c-.78.78-.78 2.05 0 2.83L4 21.41c.39.39.9.59 1.41.59.51 0 1.02-.2 1.41-.59l7.78-7.78 2.81-2.81c.8-.78.8-2.07 0-2.86zM5.41 20L4 18.59l7.72-7.72 1.47 1.35L5.41 20z\"/>\n",
              "  </svg>\n",
              "      </button>\n",
              "      \n",
              "  <style>\n",
              "    .colab-df-container {\n",
              "      display:flex;\n",
              "      flex-wrap:wrap;\n",
              "      gap: 12px;\n",
              "    }\n",
              "\n",
              "    .colab-df-convert {\n",
              "      background-color: #E8F0FE;\n",
              "      border: none;\n",
              "      border-radius: 50%;\n",
              "      cursor: pointer;\n",
              "      display: none;\n",
              "      fill: #1967D2;\n",
              "      height: 32px;\n",
              "      padding: 0 0 0 0;\n",
              "      width: 32px;\n",
              "    }\n",
              "\n",
              "    .colab-df-convert:hover {\n",
              "      background-color: #E2EBFA;\n",
              "      box-shadow: 0px 1px 2px rgba(60, 64, 67, 0.3), 0px 1px 3px 1px rgba(60, 64, 67, 0.15);\n",
              "      fill: #174EA6;\n",
              "    }\n",
              "\n",
              "    [theme=dark] .colab-df-convert {\n",
              "      background-color: #3B4455;\n",
              "      fill: #D2E3FC;\n",
              "    }\n",
              "\n",
              "    [theme=dark] .colab-df-convert:hover {\n",
              "      background-color: #434B5C;\n",
              "      box-shadow: 0px 1px 3px 1px rgba(0, 0, 0, 0.15);\n",
              "      filter: drop-shadow(0px 1px 2px rgba(0, 0, 0, 0.3));\n",
              "      fill: #FFFFFF;\n",
              "    }\n",
              "  </style>\n",
              "\n",
              "      <script>\n",
              "        const buttonEl =\n",
              "          document.querySelector('#df-927b635a-324d-41e7-8cc4-c45387e00736 button.colab-df-convert');\n",
              "        buttonEl.style.display =\n",
              "          google.colab.kernel.accessAllowed ? 'block' : 'none';\n",
              "\n",
              "        async function convertToInteractive(key) {\n",
              "          const element = document.querySelector('#df-927b635a-324d-41e7-8cc4-c45387e00736');\n",
              "          const dataTable =\n",
              "            await google.colab.kernel.invokeFunction('convertToInteractive',\n",
              "                                                     [key], {});\n",
              "          if (!dataTable) return;\n",
              "\n",
              "          const docLinkHtml = 'Like what you see? Visit the ' +\n",
              "            '<a target=\"_blank\" href=https://colab.research.google.com/notebooks/data_table.ipynb>data table notebook</a>'\n",
              "            + ' to learn more about interactive tables.';\n",
              "          element.innerHTML = '';\n",
              "          dataTable['output_type'] = 'display_data';\n",
              "          await google.colab.output.renderOutput(dataTable, element);\n",
              "          const docLink = document.createElement('div');\n",
              "          docLink.innerHTML = docLinkHtml;\n",
              "          element.appendChild(docLink);\n",
              "        }\n",
              "      </script>\n",
              "    </div>\n",
              "  </div>\n",
              "  "
            ]
          },
          "metadata": {},
          "execution_count": 7
        }
      ]
    },
    {
      "cell_type": "code",
      "source": [
        "val_df=pd.read_csv('profner/subtask-1/valid.tsv',sep='\\t')\n",
        "val_df.head()"
      ],
      "metadata": {
        "colab": {
          "base_uri": "https://localhost:8080/",
          "height": 206
        },
        "id": "plQ4EbitMBtp",
        "outputId": "e058281a-5272-4f84-a325-6b4e69df4228"
      },
      "execution_count": 8,
      "outputs": [
        {
          "output_type": "execute_result",
          "data": {
            "text/plain": [
              "              tweet_id  label\n",
              "0  1279974120902590466      0\n",
              "1  1282343525078663168      0\n",
              "2  1278069425472704512      0\n",
              "3  1274677343680946176      1\n",
              "4  1270626757327151105      0"
            ],
            "text/html": [
              "\n",
              "  <div id=\"df-02af98f5-018c-4610-8121-890ac1badd01\">\n",
              "    <div class=\"colab-df-container\">\n",
              "      <div>\n",
              "<style scoped>\n",
              "    .dataframe tbody tr th:only-of-type {\n",
              "        vertical-align: middle;\n",
              "    }\n",
              "\n",
              "    .dataframe tbody tr th {\n",
              "        vertical-align: top;\n",
              "    }\n",
              "\n",
              "    .dataframe thead th {\n",
              "        text-align: right;\n",
              "    }\n",
              "</style>\n",
              "<table border=\"1\" class=\"dataframe\">\n",
              "  <thead>\n",
              "    <tr style=\"text-align: right;\">\n",
              "      <th></th>\n",
              "      <th>tweet_id</th>\n",
              "      <th>label</th>\n",
              "    </tr>\n",
              "  </thead>\n",
              "  <tbody>\n",
              "    <tr>\n",
              "      <th>0</th>\n",
              "      <td>1279974120902590466</td>\n",
              "      <td>0</td>\n",
              "    </tr>\n",
              "    <tr>\n",
              "      <th>1</th>\n",
              "      <td>1282343525078663168</td>\n",
              "      <td>0</td>\n",
              "    </tr>\n",
              "    <tr>\n",
              "      <th>2</th>\n",
              "      <td>1278069425472704512</td>\n",
              "      <td>0</td>\n",
              "    </tr>\n",
              "    <tr>\n",
              "      <th>3</th>\n",
              "      <td>1274677343680946176</td>\n",
              "      <td>1</td>\n",
              "    </tr>\n",
              "    <tr>\n",
              "      <th>4</th>\n",
              "      <td>1270626757327151105</td>\n",
              "      <td>0</td>\n",
              "    </tr>\n",
              "  </tbody>\n",
              "</table>\n",
              "</div>\n",
              "      <button class=\"colab-df-convert\" onclick=\"convertToInteractive('df-02af98f5-018c-4610-8121-890ac1badd01')\"\n",
              "              title=\"Convert this dataframe to an interactive table.\"\n",
              "              style=\"display:none;\">\n",
              "        \n",
              "  <svg xmlns=\"http://www.w3.org/2000/svg\" height=\"24px\"viewBox=\"0 0 24 24\"\n",
              "       width=\"24px\">\n",
              "    <path d=\"M0 0h24v24H0V0z\" fill=\"none\"/>\n",
              "    <path d=\"M18.56 5.44l.94 2.06.94-2.06 2.06-.94-2.06-.94-.94-2.06-.94 2.06-2.06.94zm-11 1L8.5 8.5l.94-2.06 2.06-.94-2.06-.94L8.5 2.5l-.94 2.06-2.06.94zm10 10l.94 2.06.94-2.06 2.06-.94-2.06-.94-.94-2.06-.94 2.06-2.06.94z\"/><path d=\"M17.41 7.96l-1.37-1.37c-.4-.4-.92-.59-1.43-.59-.52 0-1.04.2-1.43.59L10.3 9.45l-7.72 7.72c-.78.78-.78 2.05 0 2.83L4 21.41c.39.39.9.59 1.41.59.51 0 1.02-.2 1.41-.59l7.78-7.78 2.81-2.81c.8-.78.8-2.07 0-2.86zM5.41 20L4 18.59l7.72-7.72 1.47 1.35L5.41 20z\"/>\n",
              "  </svg>\n",
              "      </button>\n",
              "      \n",
              "  <style>\n",
              "    .colab-df-container {\n",
              "      display:flex;\n",
              "      flex-wrap:wrap;\n",
              "      gap: 12px;\n",
              "    }\n",
              "\n",
              "    .colab-df-convert {\n",
              "      background-color: #E8F0FE;\n",
              "      border: none;\n",
              "      border-radius: 50%;\n",
              "      cursor: pointer;\n",
              "      display: none;\n",
              "      fill: #1967D2;\n",
              "      height: 32px;\n",
              "      padding: 0 0 0 0;\n",
              "      width: 32px;\n",
              "    }\n",
              "\n",
              "    .colab-df-convert:hover {\n",
              "      background-color: #E2EBFA;\n",
              "      box-shadow: 0px 1px 2px rgba(60, 64, 67, 0.3), 0px 1px 3px 1px rgba(60, 64, 67, 0.15);\n",
              "      fill: #174EA6;\n",
              "    }\n",
              "\n",
              "    [theme=dark] .colab-df-convert {\n",
              "      background-color: #3B4455;\n",
              "      fill: #D2E3FC;\n",
              "    }\n",
              "\n",
              "    [theme=dark] .colab-df-convert:hover {\n",
              "      background-color: #434B5C;\n",
              "      box-shadow: 0px 1px 3px 1px rgba(0, 0, 0, 0.15);\n",
              "      filter: drop-shadow(0px 1px 2px rgba(0, 0, 0, 0.3));\n",
              "      fill: #FFFFFF;\n",
              "    }\n",
              "  </style>\n",
              "\n",
              "      <script>\n",
              "        const buttonEl =\n",
              "          document.querySelector('#df-02af98f5-018c-4610-8121-890ac1badd01 button.colab-df-convert');\n",
              "        buttonEl.style.display =\n",
              "          google.colab.kernel.accessAllowed ? 'block' : 'none';\n",
              "\n",
              "        async function convertToInteractive(key) {\n",
              "          const element = document.querySelector('#df-02af98f5-018c-4610-8121-890ac1badd01');\n",
              "          const dataTable =\n",
              "            await google.colab.kernel.invokeFunction('convertToInteractive',\n",
              "                                                     [key], {});\n",
              "          if (!dataTable) return;\n",
              "\n",
              "          const docLinkHtml = 'Like what you see? Visit the ' +\n",
              "            '<a target=\"_blank\" href=https://colab.research.google.com/notebooks/data_table.ipynb>data table notebook</a>'\n",
              "            + ' to learn more about interactive tables.';\n",
              "          element.innerHTML = '';\n",
              "          dataTable['output_type'] = 'display_data';\n",
              "          await google.colab.output.renderOutput(dataTable, element);\n",
              "          const docLink = document.createElement('div');\n",
              "          docLink.innerHTML = docLinkHtml;\n",
              "          element.appendChild(docLink);\n",
              "        }\n",
              "      </script>\n",
              "    </div>\n",
              "  </div>\n",
              "  "
            ]
          },
          "metadata": {},
          "execution_count": 8
        }
      ]
    },
    {
      "cell_type": "code",
      "source": [
        "def read_text(split):\n",
        "  texts_files=glob('profner/subtask-1/train-valid-txt-files/{}/*.txt'.format(split))\n",
        "  texts=[]\n",
        "  file_ids=[]\n",
        "  for fil in texts_files:\n",
        "    with open(fil,'r') as f:#read text in file\n",
        "      texts.append(f.read())\n",
        "    file_ids.append(fil.split('/')[-1].replace('.txt',''))#get file id\n",
        "  out=pd.DataFrame(zip(file_ids,texts),columns=['tweet_id','tweet'])\n",
        "  out['tweet_id']=out['tweet_id'].astype(int)#make tweet id as integer\n",
        "  return out"
      ],
      "metadata": {
        "id": "V29HypZwMG__"
      },
      "execution_count": 9,
      "outputs": []
    },
    {
      "cell_type": "code",
      "source": [
        "train_df1=read_text('train')\n",
        "train_df=train_df1.merge(train_df,on='tweet_id')\n",
        "train_df.head()"
      ],
      "metadata": {
        "colab": {
          "base_uri": "https://localhost:8080/",
          "height": 206
        },
        "id": "YGwwMdxcMYvf",
        "outputId": "391d9bf2-2822-4963-ac51-6674b280c93e"
      },
      "execution_count": 10,
      "outputs": [
        {
          "output_type": "execute_result",
          "data": {
            "text/plain": [
              "              tweet_id                                              tweet  \\\n",
              "0  1251236670743158789  Ustedes las diputadas feministas no sirven par...   \n",
              "1  1269902766014713857  Te contamos cómo evitar el contagio del #Coron...   \n",
              "2  1260708906625568768  Ya sé lo que es la policía y a lo que se dedic...   \n",
              "3  1252262240847306755  Hace falta ser indecente, Fernando Simón, para...   \n",
              "4  1292055298195193856  🦠COVID-19 GALICIA \\n\\n▶️ Primer fallecimiento ...   \n",
              "\n",
              "   label  \n",
              "0      1  \n",
              "1      1  \n",
              "2      1  \n",
              "3      0  \n",
              "4      1  "
            ],
            "text/html": [
              "\n",
              "  <div id=\"df-966ba6b9-6de4-4cef-ab76-6276469163d4\">\n",
              "    <div class=\"colab-df-container\">\n",
              "      <div>\n",
              "<style scoped>\n",
              "    .dataframe tbody tr th:only-of-type {\n",
              "        vertical-align: middle;\n",
              "    }\n",
              "\n",
              "    .dataframe tbody tr th {\n",
              "        vertical-align: top;\n",
              "    }\n",
              "\n",
              "    .dataframe thead th {\n",
              "        text-align: right;\n",
              "    }\n",
              "</style>\n",
              "<table border=\"1\" class=\"dataframe\">\n",
              "  <thead>\n",
              "    <tr style=\"text-align: right;\">\n",
              "      <th></th>\n",
              "      <th>tweet_id</th>\n",
              "      <th>tweet</th>\n",
              "      <th>label</th>\n",
              "    </tr>\n",
              "  </thead>\n",
              "  <tbody>\n",
              "    <tr>\n",
              "      <th>0</th>\n",
              "      <td>1251236670743158789</td>\n",
              "      <td>Ustedes las diputadas feministas no sirven par...</td>\n",
              "      <td>1</td>\n",
              "    </tr>\n",
              "    <tr>\n",
              "      <th>1</th>\n",
              "      <td>1269902766014713857</td>\n",
              "      <td>Te contamos cómo evitar el contagio del #Coron...</td>\n",
              "      <td>1</td>\n",
              "    </tr>\n",
              "    <tr>\n",
              "      <th>2</th>\n",
              "      <td>1260708906625568768</td>\n",
              "      <td>Ya sé lo que es la policía y a lo que se dedic...</td>\n",
              "      <td>1</td>\n",
              "    </tr>\n",
              "    <tr>\n",
              "      <th>3</th>\n",
              "      <td>1252262240847306755</td>\n",
              "      <td>Hace falta ser indecente, Fernando Simón, para...</td>\n",
              "      <td>0</td>\n",
              "    </tr>\n",
              "    <tr>\n",
              "      <th>4</th>\n",
              "      <td>1292055298195193856</td>\n",
              "      <td>🦠COVID-19 GALICIA \\n\\n▶️ Primer fallecimiento ...</td>\n",
              "      <td>1</td>\n",
              "    </tr>\n",
              "  </tbody>\n",
              "</table>\n",
              "</div>\n",
              "      <button class=\"colab-df-convert\" onclick=\"convertToInteractive('df-966ba6b9-6de4-4cef-ab76-6276469163d4')\"\n",
              "              title=\"Convert this dataframe to an interactive table.\"\n",
              "              style=\"display:none;\">\n",
              "        \n",
              "  <svg xmlns=\"http://www.w3.org/2000/svg\" height=\"24px\"viewBox=\"0 0 24 24\"\n",
              "       width=\"24px\">\n",
              "    <path d=\"M0 0h24v24H0V0z\" fill=\"none\"/>\n",
              "    <path d=\"M18.56 5.44l.94 2.06.94-2.06 2.06-.94-2.06-.94-.94-2.06-.94 2.06-2.06.94zm-11 1L8.5 8.5l.94-2.06 2.06-.94-2.06-.94L8.5 2.5l-.94 2.06-2.06.94zm10 10l.94 2.06.94-2.06 2.06-.94-2.06-.94-.94-2.06-.94 2.06-2.06.94z\"/><path d=\"M17.41 7.96l-1.37-1.37c-.4-.4-.92-.59-1.43-.59-.52 0-1.04.2-1.43.59L10.3 9.45l-7.72 7.72c-.78.78-.78 2.05 0 2.83L4 21.41c.39.39.9.59 1.41.59.51 0 1.02-.2 1.41-.59l7.78-7.78 2.81-2.81c.8-.78.8-2.07 0-2.86zM5.41 20L4 18.59l7.72-7.72 1.47 1.35L5.41 20z\"/>\n",
              "  </svg>\n",
              "      </button>\n",
              "      \n",
              "  <style>\n",
              "    .colab-df-container {\n",
              "      display:flex;\n",
              "      flex-wrap:wrap;\n",
              "      gap: 12px;\n",
              "    }\n",
              "\n",
              "    .colab-df-convert {\n",
              "      background-color: #E8F0FE;\n",
              "      border: none;\n",
              "      border-radius: 50%;\n",
              "      cursor: pointer;\n",
              "      display: none;\n",
              "      fill: #1967D2;\n",
              "      height: 32px;\n",
              "      padding: 0 0 0 0;\n",
              "      width: 32px;\n",
              "    }\n",
              "\n",
              "    .colab-df-convert:hover {\n",
              "      background-color: #E2EBFA;\n",
              "      box-shadow: 0px 1px 2px rgba(60, 64, 67, 0.3), 0px 1px 3px 1px rgba(60, 64, 67, 0.15);\n",
              "      fill: #174EA6;\n",
              "    }\n",
              "\n",
              "    [theme=dark] .colab-df-convert {\n",
              "      background-color: #3B4455;\n",
              "      fill: #D2E3FC;\n",
              "    }\n",
              "\n",
              "    [theme=dark] .colab-df-convert:hover {\n",
              "      background-color: #434B5C;\n",
              "      box-shadow: 0px 1px 3px 1px rgba(0, 0, 0, 0.15);\n",
              "      filter: drop-shadow(0px 1px 2px rgba(0, 0, 0, 0.3));\n",
              "      fill: #FFFFFF;\n",
              "    }\n",
              "  </style>\n",
              "\n",
              "      <script>\n",
              "        const buttonEl =\n",
              "          document.querySelector('#df-966ba6b9-6de4-4cef-ab76-6276469163d4 button.colab-df-convert');\n",
              "        buttonEl.style.display =\n",
              "          google.colab.kernel.accessAllowed ? 'block' : 'none';\n",
              "\n",
              "        async function convertToInteractive(key) {\n",
              "          const element = document.querySelector('#df-966ba6b9-6de4-4cef-ab76-6276469163d4');\n",
              "          const dataTable =\n",
              "            await google.colab.kernel.invokeFunction('convertToInteractive',\n",
              "                                                     [key], {});\n",
              "          if (!dataTable) return;\n",
              "\n",
              "          const docLinkHtml = 'Like what you see? Visit the ' +\n",
              "            '<a target=\"_blank\" href=https://colab.research.google.com/notebooks/data_table.ipynb>data table notebook</a>'\n",
              "            + ' to learn more about interactive tables.';\n",
              "          element.innerHTML = '';\n",
              "          dataTable['output_type'] = 'display_data';\n",
              "          await google.colab.output.renderOutput(dataTable, element);\n",
              "          const docLink = document.createElement('div');\n",
              "          docLink.innerHTML = docLinkHtml;\n",
              "          element.appendChild(docLink);\n",
              "        }\n",
              "      </script>\n",
              "    </div>\n",
              "  </div>\n",
              "  "
            ]
          },
          "metadata": {},
          "execution_count": 10
        }
      ]
    },
    {
      "cell_type": "code",
      "source": [
        "val_df1=read_text('valid')\n",
        "val_df=val_df1.merge(val_df,on='tweet_id')\n",
        "val_df.head()"
      ],
      "metadata": {
        "colab": {
          "base_uri": "https://localhost:8080/",
          "height": 206
        },
        "id": "JBAN59vyMqpy",
        "outputId": "b1374842-27df-4879-9298-5a35069db918"
      },
      "execution_count": 11,
      "outputs": [
        {
          "output_type": "execute_result",
          "data": {
            "text/plain": [
              "              tweet_id                                              tweet  \\\n",
              "0  1264352810533093377  @RozalenMusic El covid-19 ... pero el hambre y...   \n",
              "1  1264668387617189895  Aquí se les ha visto la verdad de fondo: en la...   \n",
              "2  1267338256246624256  Todos los médicos de Nicaragua estamos de acue...   \n",
              "3  1291308841267863552  https://t.co/SuGRfF10Je seguid yendoós de bote...   \n",
              "4  1268445432239308800  Por estos comportamientos, más de 20.000 compo...   \n",
              "\n",
              "   label  \n",
              "0      1  \n",
              "1      0  \n",
              "2      1  \n",
              "3      0  \n",
              "4      1  "
            ],
            "text/html": [
              "\n",
              "  <div id=\"df-0cf5038a-c470-4b1e-8155-ea16bc73589c\">\n",
              "    <div class=\"colab-df-container\">\n",
              "      <div>\n",
              "<style scoped>\n",
              "    .dataframe tbody tr th:only-of-type {\n",
              "        vertical-align: middle;\n",
              "    }\n",
              "\n",
              "    .dataframe tbody tr th {\n",
              "        vertical-align: top;\n",
              "    }\n",
              "\n",
              "    .dataframe thead th {\n",
              "        text-align: right;\n",
              "    }\n",
              "</style>\n",
              "<table border=\"1\" class=\"dataframe\">\n",
              "  <thead>\n",
              "    <tr style=\"text-align: right;\">\n",
              "      <th></th>\n",
              "      <th>tweet_id</th>\n",
              "      <th>tweet</th>\n",
              "      <th>label</th>\n",
              "    </tr>\n",
              "  </thead>\n",
              "  <tbody>\n",
              "    <tr>\n",
              "      <th>0</th>\n",
              "      <td>1264352810533093377</td>\n",
              "      <td>@RozalenMusic El covid-19 ... pero el hambre y...</td>\n",
              "      <td>1</td>\n",
              "    </tr>\n",
              "    <tr>\n",
              "      <th>1</th>\n",
              "      <td>1264668387617189895</td>\n",
              "      <td>Aquí se les ha visto la verdad de fondo: en la...</td>\n",
              "      <td>0</td>\n",
              "    </tr>\n",
              "    <tr>\n",
              "      <th>2</th>\n",
              "      <td>1267338256246624256</td>\n",
              "      <td>Todos los médicos de Nicaragua estamos de acue...</td>\n",
              "      <td>1</td>\n",
              "    </tr>\n",
              "    <tr>\n",
              "      <th>3</th>\n",
              "      <td>1291308841267863552</td>\n",
              "      <td>https://t.co/SuGRfF10Je seguid yendoós de bote...</td>\n",
              "      <td>0</td>\n",
              "    </tr>\n",
              "    <tr>\n",
              "      <th>4</th>\n",
              "      <td>1268445432239308800</td>\n",
              "      <td>Por estos comportamientos, más de 20.000 compo...</td>\n",
              "      <td>1</td>\n",
              "    </tr>\n",
              "  </tbody>\n",
              "</table>\n",
              "</div>\n",
              "      <button class=\"colab-df-convert\" onclick=\"convertToInteractive('df-0cf5038a-c470-4b1e-8155-ea16bc73589c')\"\n",
              "              title=\"Convert this dataframe to an interactive table.\"\n",
              "              style=\"display:none;\">\n",
              "        \n",
              "  <svg xmlns=\"http://www.w3.org/2000/svg\" height=\"24px\"viewBox=\"0 0 24 24\"\n",
              "       width=\"24px\">\n",
              "    <path d=\"M0 0h24v24H0V0z\" fill=\"none\"/>\n",
              "    <path d=\"M18.56 5.44l.94 2.06.94-2.06 2.06-.94-2.06-.94-.94-2.06-.94 2.06-2.06.94zm-11 1L8.5 8.5l.94-2.06 2.06-.94-2.06-.94L8.5 2.5l-.94 2.06-2.06.94zm10 10l.94 2.06.94-2.06 2.06-.94-2.06-.94-.94-2.06-.94 2.06-2.06.94z\"/><path d=\"M17.41 7.96l-1.37-1.37c-.4-.4-.92-.59-1.43-.59-.52 0-1.04.2-1.43.59L10.3 9.45l-7.72 7.72c-.78.78-.78 2.05 0 2.83L4 21.41c.39.39.9.59 1.41.59.51 0 1.02-.2 1.41-.59l7.78-7.78 2.81-2.81c.8-.78.8-2.07 0-2.86zM5.41 20L4 18.59l7.72-7.72 1.47 1.35L5.41 20z\"/>\n",
              "  </svg>\n",
              "      </button>\n",
              "      \n",
              "  <style>\n",
              "    .colab-df-container {\n",
              "      display:flex;\n",
              "      flex-wrap:wrap;\n",
              "      gap: 12px;\n",
              "    }\n",
              "\n",
              "    .colab-df-convert {\n",
              "      background-color: #E8F0FE;\n",
              "      border: none;\n",
              "      border-radius: 50%;\n",
              "      cursor: pointer;\n",
              "      display: none;\n",
              "      fill: #1967D2;\n",
              "      height: 32px;\n",
              "      padding: 0 0 0 0;\n",
              "      width: 32px;\n",
              "    }\n",
              "\n",
              "    .colab-df-convert:hover {\n",
              "      background-color: #E2EBFA;\n",
              "      box-shadow: 0px 1px 2px rgba(60, 64, 67, 0.3), 0px 1px 3px 1px rgba(60, 64, 67, 0.15);\n",
              "      fill: #174EA6;\n",
              "    }\n",
              "\n",
              "    [theme=dark] .colab-df-convert {\n",
              "      background-color: #3B4455;\n",
              "      fill: #D2E3FC;\n",
              "    }\n",
              "\n",
              "    [theme=dark] .colab-df-convert:hover {\n",
              "      background-color: #434B5C;\n",
              "      box-shadow: 0px 1px 3px 1px rgba(0, 0, 0, 0.15);\n",
              "      filter: drop-shadow(0px 1px 2px rgba(0, 0, 0, 0.3));\n",
              "      fill: #FFFFFF;\n",
              "    }\n",
              "  </style>\n",
              "\n",
              "      <script>\n",
              "        const buttonEl =\n",
              "          document.querySelector('#df-0cf5038a-c470-4b1e-8155-ea16bc73589c button.colab-df-convert');\n",
              "        buttonEl.style.display =\n",
              "          google.colab.kernel.accessAllowed ? 'block' : 'none';\n",
              "\n",
              "        async function convertToInteractive(key) {\n",
              "          const element = document.querySelector('#df-0cf5038a-c470-4b1e-8155-ea16bc73589c');\n",
              "          const dataTable =\n",
              "            await google.colab.kernel.invokeFunction('convertToInteractive',\n",
              "                                                     [key], {});\n",
              "          if (!dataTable) return;\n",
              "\n",
              "          const docLinkHtml = 'Like what you see? Visit the ' +\n",
              "            '<a target=\"_blank\" href=https://colab.research.google.com/notebooks/data_table.ipynb>data table notebook</a>'\n",
              "            + ' to learn more about interactive tables.';\n",
              "          element.innerHTML = '';\n",
              "          dataTable['output_type'] = 'display_data';\n",
              "          await google.colab.output.renderOutput(dataTable, element);\n",
              "          const docLink = document.createElement('div');\n",
              "          docLink.innerHTML = docLinkHtml;\n",
              "          element.appendChild(docLink);\n",
              "        }\n",
              "      </script>\n",
              "    </div>\n",
              "  </div>\n",
              "  "
            ]
          },
          "metadata": {},
          "execution_count": 11
        }
      ]
    },
    {
      "cell_type": "markdown",
      "source": [
        "# 2. Exploratory analysis"
      ],
      "metadata": {
        "id": "QukDGrwmOSG2"
      }
    },
    {
      "cell_type": "code",
      "source": [
        "#combining both train and validation data for EDA\n",
        "data=pd.concat([train_df,val_df])\n",
        "data.reset_index(drop=True,inplace=True)"
      ],
      "metadata": {
        "id": "ihn3sIx-VKIg"
      },
      "execution_count": 12,
      "outputs": []
    },
    {
      "cell_type": "markdown",
      "source": [
        "## Distribution of class"
      ],
      "metadata": {
        "id": "ZcXSNrqpQRJE"
      }
    },
    {
      "cell_type": "code",
      "source": [
        "ax=sns.countplot(x='label',data=data)\n",
        "for p in ax.patches:\n",
        "    ax.annotate(f'\\n{p.get_height()}', (p.get_x()+0.2, p.get_height()), ha='center', va='top', color='white', size=12)\n",
        "plt.xticks(ticks=range(2),labels=['No Presence','Presence'])\n",
        "plt.title('Class distribution of train data')"
      ],
      "metadata": {
        "colab": {
          "base_uri": "https://localhost:8080/",
          "height": 313
        },
        "id": "rWFu0CmdMzeq",
        "outputId": "6929d4d5-4ca4-4ed8-841d-c609fcd4c859"
      },
      "execution_count": 13,
      "outputs": [
        {
          "output_type": "execute_result",
          "data": {
            "text/plain": [
              "Text(0.5, 1.0, 'Class distribution of train data')"
            ]
          },
          "metadata": {},
          "execution_count": 13
        },
        {
          "output_type": "display_data",
          "data": {
            "text/plain": [
              "<Figure size 432x288 with 1 Axes>"
            ],
            "image/png": "[encoded data removed]"
          },
          "metadata": {
            "needs_background": "light"
          }
        }
      ]
    },
    {
      "cell_type": "markdown",
      "source": [
        "## tweet length distibution "
      ],
      "metadata": {
        "id": "_nJIH-02Q5nj"
      }
    },
    {
      "cell_type": "code",
      "source": [
        "data['words_len']=data['tweet'].apply(lambda x: len(x))\n",
        "pos=data[data['label']==1]\n",
        "neg=data[data['label']==0]\n",
        "\n",
        "sns.kdeplot(pos['words_len'],label='Presence')\n",
        "sns.kdeplot(neg['words_len'],label='No Presence')\n",
        "plt.title('tweet length distribution')\n",
        "plt.legend()"
      ],
      "metadata": {
        "colab": {
          "base_uri": "https://localhost:8080/",
          "height": 314
        },
        "id": "P9xL-EmWQkT-",
        "outputId": "00c0b5c7-334b-4069-dc88-d2f3edceca91"
      },
      "execution_count": 14,
      "outputs": [
        {
          "output_type": "execute_result",
          "data": {
            "text/plain": [
              "<matplotlib.legend.Legend at 0x7fbaa86e6e50>"
            ]
          },
          "metadata": {},
          "execution_count": 14
        },
        {
          "output_type": "display_data",
          "data": {
            "text/plain": [
              "<Figure size 432x288 with 1 Axes>"
            ],
            "image/png": "[encoded data removed]"
          },
          "metadata": {
            "needs_background": "light"
          }
        }
      ]
    },
    {
      "cell_type": "markdown",
      "source": [
        "## most common words"
      ],
      "metadata": {
        "id": "qwcTWr8OSjJp"
      }
    },
    {
      "cell_type": "code",
      "source": [
        "# removing stop words to get meaningul results"
      ],
      "metadata": {
        "id": "b0OTzWD2TaCZ"
      },
      "execution_count": 15,
      "outputs": []
    },
    {
      "cell_type": "code",
      "source": [],
      "metadata": {
        "id": "J4JXHCIXTdlL"
      },
      "execution_count": 15,
      "outputs": []
    },
    {
      "cell_type": "code",
      "source": [
        "from collections import Counter\n",
        "#remove stopwords and select all words with length greater than 2\n",
        "words_list=[item for sublist in data['tweet'].str.split(' ') for item in sublist \n",
        "               if (item not in set(stopword)and len(item)>2)]\n",
        "top = Counter(words_list)\n",
        "temp = pd.DataFrame(top.most_common(20))\n",
        "temp.columns = ['Common_words','count']\n",
        "temp.style.background_gradient(cmap='Blues')"
      ],
      "metadata": {
        "colab": {
          "base_uri": "https://localhost:8080/",
          "height": 676
        },
        "id": "W9V253_iRaiT",
        "outputId": "4cfc6554-ae44-41fd-d956-910c76e6823c"
      },
      "execution_count": 16,
      "outputs": [
        {
          "output_type": "execute_result",
          "data": {
            "text/plain": [
              "<pandas.io.formats.style.Styler at 0x7fbaa6ffea50>"
            ],
            "text/html": [
              "<style type=\"text/css\">\n",
              "#T_ea64f_row0_col1 {\n",
              "  background-color: #08306b;\n",
              "  color: #f1f1f1;\n",
              "}\n",
              "#T_ea64f_row1_col1 {\n",
              "  background-color: #08458a;\n",
              "  color: #f1f1f1;\n",
              "}\n",
              "#T_ea64f_row2_col1, #T_ea64f_row3_col1 {\n",
              "  background-color: #8abfdd;\n",
              "  color: #000000;\n",
              "}\n",
              "#T_ea64f_row4_col1 {\n",
              "  background-color: #9cc9e1;\n",
              "  color: #000000;\n",
              "}\n",
              "#T_ea64f_row5_col1 {\n",
              "  background-color: #9fcae1;\n",
              "  color: #000000;\n",
              "}\n",
              "#T_ea64f_row6_col1 {\n",
              "  background-color: #afd1e7;\n",
              "  color: #000000;\n",
              "}\n",
              "#T_ea64f_row7_col1 {\n",
              "  background-color: #c3daee;\n",
              "  color: #000000;\n",
              "}\n",
              "#T_ea64f_row8_col1 {\n",
              "  background-color: #cde0f1;\n",
              "  color: #000000;\n",
              "}\n",
              "#T_ea64f_row9_col1 {\n",
              "  background-color: #e1edf8;\n",
              "  color: #000000;\n",
              "}\n",
              "#T_ea64f_row10_col1, #T_ea64f_row11_col1 {\n",
              "  background-color: #e3eef9;\n",
              "  color: #000000;\n",
              "}\n",
              "#T_ea64f_row12_col1 {\n",
              "  background-color: #edf4fc;\n",
              "  color: #000000;\n",
              "}\n",
              "#T_ea64f_row13_col1, #T_ea64f_row14_col1, #T_ea64f_row15_col1 {\n",
              "  background-color: #eef5fc;\n",
              "  color: #000000;\n",
              "}\n",
              "#T_ea64f_row16_col1 {\n",
              "  background-color: #f5f9fe;\n",
              "  color: #000000;\n",
              "}\n",
              "#T_ea64f_row17_col1, #T_ea64f_row18_col1, #T_ea64f_row19_col1 {\n",
              "  background-color: #f7fbff;\n",
              "  color: #000000;\n",
              "}\n",
              "</style>\n",
              "<table id=\"T_ea64f_\" class=\"dataframe\">\n",
              "  <thead>\n",
              "    <tr>\n",
              "      <th class=\"blank level0\" >&nbsp;</th>\n",
              "      <th class=\"col_heading level0 col0\" >Common_words</th>\n",
              "      <th class=\"col_heading level0 col1\" >count</th>\n",
              "    </tr>\n",
              "  </thead>\n",
              "  <tbody>\n",
              "    <tr>\n",
              "      <th id=\"T_ea64f_level0_row0\" class=\"row_heading level0 row0\" >0</th>\n",
              "      <td id=\"T_ea64f_row0_col0\" class=\"data row0 col0\" >coronavirus</td>\n",
              "      <td id=\"T_ea64f_row0_col1\" class=\"data row0 col1\" >777</td>\n",
              "    </tr>\n",
              "    <tr>\n",
              "      <th id=\"T_ea64f_level0_row1\" class=\"row_heading level0 row1\" >1</th>\n",
              "      <td id=\"T_ea64f_row1_col0\" class=\"data row1 col0\" >pandemia</td>\n",
              "      <td id=\"T_ea64f_row1_col1\" class=\"data row1 col1\" >731</td>\n",
              "    </tr>\n",
              "    <tr>\n",
              "      <th id=\"T_ea64f_level0_row2\" class=\"row_heading level0 row2\" >2</th>\n",
              "      <td id=\"T_ea64f_row2_col0\" class=\"data row2 col0\" >confinamiento</td>\n",
              "      <td id=\"T_ea64f_row2_col1\" class=\"data row2 col1\" >450</td>\n",
              "    </tr>\n",
              "    <tr>\n",
              "      <th id=\"T_ea64f_level0_row3\" class=\"row_heading level0 row3\" >3</th>\n",
              "      <td id=\"T_ea64f_row3_col0\" class=\"data row3 col0\" >#COVID19</td>\n",
              "      <td id=\"T_ea64f_row3_col1\" class=\"data row3 col1\" >450</td>\n",
              "    </tr>\n",
              "    <tr>\n",
              "      <th id=\"T_ea64f_level0_row4\" class=\"row_heading level0 row4\" >4</th>\n",
              "      <td id=\"T_ea64f_row4_col0\" class=\"data row4 col0\" >virus</td>\n",
              "      <td id=\"T_ea64f_row4_col1\" class=\"data row4 col1\" >426</td>\n",
              "    </tr>\n",
              "    <tr>\n",
              "      <th id=\"T_ea64f_level0_row5\" class=\"row_heading level0 row5\" >5</th>\n",
              "      <td id=\"T_ea64f_row5_col0\" class=\"data row5 col0\" >mascarilla</td>\n",
              "      <td id=\"T_ea64f_row5_col1\" class=\"data row5 col1\" >421</td>\n",
              "    </tr>\n",
              "    <tr>\n",
              "      <th id=\"T_ea64f_level0_row6\" class=\"row_heading level0 row6\" >6</th>\n",
              "      <td id=\"T_ea64f_row6_col0\" class=\"data row6 col0\" >Gobierno</td>\n",
              "      <td id=\"T_ea64f_row6_col1\" class=\"data row6 col1\" >393</td>\n",
              "    </tr>\n",
              "    <tr>\n",
              "      <th id=\"T_ea64f_level0_row7\" class=\"row_heading level0 row7\" >7</th>\n",
              "      <td id=\"T_ea64f_row7_col0\" class=\"data row7 col0\" >España</td>\n",
              "      <td id=\"T_ea64f_row7_col1\" class=\"data row7 col1\" >356</td>\n",
              "    </tr>\n",
              "    <tr>\n",
              "      <th id=\"T_ea64f_level0_row8\" class=\"row_heading level0 row8\" >8</th>\n",
              "      <td id=\"T_ea64f_row8_col0\" class=\"data row8 col0\" >crisis</td>\n",
              "      <td id=\"T_ea64f_row8_col1\" class=\"data row8 col1\" >329</td>\n",
              "    </tr>\n",
              "    <tr>\n",
              "      <th id=\"T_ea64f_level0_row9\" class=\"row_heading level0 row9\" >9</th>\n",
              "      <td id=\"T_ea64f_row9_col0\" class=\"data row9 col0\" >Los</td>\n",
              "      <td id=\"T_ea64f_row9_col1\" class=\"data row9 col1\" >273</td>\n",
              "    </tr>\n",
              "    <tr>\n",
              "      <th id=\"T_ea64f_level0_row10\" class=\"row_heading level0 row10\" >10</th>\n",
              "      <td id=\"T_ea64f_row10_col0\" class=\"data row10 col0\" >ser</td>\n",
              "      <td id=\"T_ea64f_row10_col1\" class=\"data row10 col1\" >266</td>\n",
              "    </tr>\n",
              "    <tr>\n",
              "      <th id=\"T_ea64f_level0_row11\" class=\"row_heading level0 row11\" >11</th>\n",
              "      <td id=\"T_ea64f_row11_col0\" class=\"data row11 col0\" >personas</td>\n",
              "      <td id=\"T_ea64f_row11_col1\" class=\"data row11 col1\" >265</td>\n",
              "    </tr>\n",
              "    <tr>\n",
              "      <th id=\"T_ea64f_level0_row12\" class=\"row_heading level0 row12\" >12</th>\n",
              "      <td id=\"T_ea64f_row12_col0\" class=\"data row12 col0\" >casos</td>\n",
              "      <td id=\"T_ea64f_row12_col1\" class=\"data row12 col1\" >239</td>\n",
              "    </tr>\n",
              "    <tr>\n",
              "      <th id=\"T_ea64f_level0_row13\" class=\"row_heading level0 row13\" >13</th>\n",
              "      <td id=\"T_ea64f_row13_col0\" class=\"data row13 col0\" >días</td>\n",
              "      <td id=\"T_ea64f_row13_col1\" class=\"data row13 col1\" >235</td>\n",
              "    </tr>\n",
              "    <tr>\n",
              "      <th id=\"T_ea64f_level0_row14\" class=\"row_heading level0 row14\" >14</th>\n",
              "      <td id=\"T_ea64f_row14_col0\" class=\"data row14 col0\" >hacer</td>\n",
              "      <td id=\"T_ea64f_row14_col1\" class=\"data row14 col1\" >235</td>\n",
              "    </tr>\n",
              "    <tr>\n",
              "      <th id=\"T_ea64f_level0_row15\" class=\"row_heading level0 row15\" >15</th>\n",
              "      <td id=\"T_ea64f_row15_col0\" class=\"data row15 col0\" >gente</td>\n",
              "      <td id=\"T_ea64f_row15_col1\" class=\"data row15 col1\" >235</td>\n",
              "    </tr>\n",
              "    <tr>\n",
              "      <th id=\"T_ea64f_level0_row16\" class=\"row_heading level0 row16\" >16</th>\n",
              "      <td id=\"T_ea64f_row16_col0\" class=\"data row16 col0\" >muertos</td>\n",
              "      <td id=\"T_ea64f_row16_col1\" class=\"data row16 col1\" >216</td>\n",
              "    </tr>\n",
              "    <tr>\n",
              "      <th id=\"T_ea64f_level0_row17\" class=\"row_heading level0 row17\" >17</th>\n",
              "      <td id=\"T_ea64f_row17_col0\" class=\"data row17 col0\" >Madrid</td>\n",
              "      <td id=\"T_ea64f_row17_col1\" class=\"data row17 col1\" >210</td>\n",
              "    </tr>\n",
              "    <tr>\n",
              "      <th id=\"T_ea64f_level0_row18\" class=\"row_heading level0 row18\" >18</th>\n",
              "      <td id=\"T_ea64f_row18_col0\" class=\"data row18 col0\" >día</td>\n",
              "      <td id=\"T_ea64f_row18_col1\" class=\"data row18 col1\" >210</td>\n",
              "    </tr>\n",
              "    <tr>\n",
              "      <th id=\"T_ea64f_level0_row19\" class=\"row_heading level0 row19\" >19</th>\n",
              "      <td id=\"T_ea64f_row19_col0\" class=\"data row19 col0\" >#coronavirus</td>\n",
              "      <td id=\"T_ea64f_row19_col1\" class=\"data row19 col1\" >209</td>\n",
              "    </tr>\n",
              "  </tbody>\n",
              "</table>\n"
            ]
          },
          "metadata": {},
          "execution_count": 16
        }
      ]
    },
    {
      "cell_type": "markdown",
      "source": [
        "## Word cloud"
      ],
      "metadata": {
        "id": "Zhefw4-UU2Ja"
      }
    },
    {
      "cell_type": "code",
      "source": [
        "from wordcloud import WordCloud\n",
        "wordcloud2 = WordCloud().generate(' '.join(words_list))\n",
        "plt.imshow(wordcloud2)\n",
        "plt.axis(\"off\")\n",
        "plt.show()"
      ],
      "metadata": {
        "colab": {
          "base_uri": "https://localhost:8080/",
          "height": 198
        },
        "id": "42JAu4PNSm9R",
        "outputId": "84365d50-9566-45a7-c739-fd8fc2f6854e"
      },
      "execution_count": 17,
      "outputs": [
        {
          "output_type": "display_data",
          "data": {
            "text/plain": [
              "<Figure size 432x288 with 1 Axes>"
            ],
            "image/png": "[encoded data removed]"
          },
          "metadata": {
            "needs_background": "light"
          }
        }
      ]
    },
    {
      "cell_type": "markdown",
      "source": [
        "# 3. Preprocessing and Normalization"
      ],
      "metadata": {
        "id": "C4f07WckU8JG"
      }
    },
    {
      "cell_type": "code",
      "source": [
        "import string\n",
        "def stemmer_stopwords(sentence, language='spanish'):\n",
        "  return [ snow_stemmer.stem(token) for token in nltk.word_tokenize(sentence,language=language) if token.lower() not in stopwords.words(language) ]\n",
        "\n",
        "def remove_punctuations(sentence):\n",
        "  return ' '.join(sentence).translate(str.maketrans('', '', string.punctuation))\n",
        "\n",
        "def remove_emoji(text):\n",
        "  dem = demoji.findall(text)\n",
        "  for item in dem.keys():\n",
        "    text = text.replace(item, \" \")\n",
        "  return text  "
      ],
      "metadata": {
        "id": "e3VQlVEyUypT"
      },
      "execution_count": 18,
      "outputs": []
    },
    {
      "cell_type": "code",
      "source": [
        "\n",
        "def clean_data(df):\n",
        "  df['tweet'] = df['tweet'].str.replace(r\"http\\S+\", '', regex=True)#remove urls\n",
        "  df['tweet'] = df['tweet'].str.replace(r'@[^\\s]+', '', regex=True)#remove mentions\n",
        "\n",
        "  df['tweet']=df.tweet.apply(stemmer_stopwords)#remove stop words and do lemmatization\n",
        "  df['tweet']=df.tweet.apply(remove_punctuations)#remove punctuations\n",
        "  df['tweet']=df.tweet.apply(remove_emoji)#remove emoji\n",
        "  df['tweet']=df['tweet'].str.replace('\\d+', '')#remove digits\n",
        "  df['tweet']= df['tweet'].replace(r'\\s+', ' ', regex=True)#remove extra whitespaces\n",
        "\n",
        "  return df"
      ],
      "metadata": {
        "id": "Ll53BHSkV9ba"
      },
      "execution_count": 19,
      "outputs": []
    },
    {
      "cell_type": "code",
      "source": [
        "train_df=clean_data(train_df)\n",
        "val_df=clean_data(val_df)"
      ],
      "metadata": {
        "colab": {
          "base_uri": "https://localhost:8080/"
        },
        "id": "hFX2-vjQWJHy",
        "outputId": "4fc48a94-724e-47ee-bce2-6a7d286c8971"
      },
      "execution_count": 20,
      "outputs": [
        {
          "output_type": "stream",
          "name": "stderr",
          "text": [
            "/usr/local/lib/python3.7/dist-packages/ipykernel_launcher.py:8: FutureWarning: The default value of regex will change from True to False in a future version.\n",
            "  \n"
          ]
        }
      ]
    },
    {
      "cell_type": "code",
      "source": [
        "#remove all with two or less than two words\n",
        "train_df=train_df[train_df.tweet.str.split().apply(lambda x:len(x))>=2]\n",
        "val_df=val_df[val_df.tweet.str.split().apply(lambda x:len(x))>=2]"
      ],
      "metadata": {
        "id": "RfQFxGiPYtDe"
      },
      "execution_count": 21,
      "outputs": []
    },
    {
      "cell_type": "markdown",
      "source": [
        "# 4. Vectorization"
      ],
      "metadata": {
        "id": "nMpFXuJu-uxO"
      }
    },
    {
      "cell_type": "code",
      "source": [
        "!wget https://zenodo.org/record/1410403/files/complete_model.zip"
      ],
      "metadata": {
        "id": "KsLH2JcTLZmI",
        "colab": {
          "base_uri": "https://localhost:8080/"
        },
        "outputId": "ef4f35e2-8538-42ff-ad09-96c25ae8383c"
      },
      "execution_count": 22,
      "outputs": [
        {
          "output_type": "stream",
          "name": "stdout",
          "text": [
            "--2022-09-04 10:06:00--  https://zenodo.org/record/1410403/files/complete_model.zip\n",
            "Resolving zenodo.org (zenodo.org)... 188.184.117.155\n",
            "Connecting to zenodo.org (zenodo.org)|188.184.117.155|:443... connected.\n",
            "HTTP request sent, awaiting response... 200 OK\n",
            "Length: 8513429017 (7.9G) [application/octet-stream]\n",
            "Saving to: ‘complete_model.zip’\n",
            "\n",
            "complete_model.zip  100%[===================>]   7.93G  21.8MB/s    in 11m 6s  \n",
            "\n",
            "2022-09-04 10:17:20 (12.2 MB/s) - ‘complete_model.zip’ saved [8513429017/8513429017]\n",
            "\n"
          ]
        }
      ]
    },
    {
      "cell_type": "code",
      "source": [
        "!unzip -q complete_model.zip"
      ],
      "metadata": {
        "id": "LJdMMJmplQow"
      },
      "execution_count": 23,
      "outputs": []
    },
    {
      "cell_type": "code",
      "source": [
        "import gensim\n",
        "\n",
        "# Load pre-trained Word2Vec model.\n",
        "model = gensim.models.Word2Vec.load(\"complete.model\")"
      ],
      "metadata": {
        "id": "dgYw51WJioQk"
      },
      "execution_count": 24,
      "outputs": []
    },
    {
      "cell_type": "code",
      "source": [
        "train_df.head()"
      ],
      "metadata": {
        "colab": {
          "base_uri": "https://localhost:8080/",
          "height": 206
        },
        "id": "5ju3OzNitmtG",
        "outputId": "5f61b987-37b5-4a6a-d4bb-ed6c1de508eb"
      },
      "execution_count": 25,
      "outputs": [
        {
          "output_type": "execute_result",
          "data": {
            "text/plain": [
              "              tweet_id                                              tweet  \\\n",
              "0  1251236670743158789      usted diput femin sirv despilfarr fond public   \n",
              "1  1269902766014713857  cont com evit contagi coronavirus oficin espac...   \n",
              "2  1260708906625568768  se polic dedic sig revent dentr vist com confi...   \n",
              "3  1252262240847306755  hac falt ser indecent fern simon habl decenci ...   \n",
              "4  1292055298195193856   covid galici prim fallec juni resident trabaj...   \n",
              "\n",
              "   label  \n",
              "0      1  \n",
              "1      1  \n",
              "2      1  \n",
              "3      0  \n",
              "4      1  "
            ],
            "text/html": [
              "\n",
              "  <div id=\"df-8640db8f-a106-410a-aab2-f376190b994a\">\n",
              "    <div class=\"colab-df-container\">\n",
              "      <div>\n",
              "<style scoped>\n",
              "    .dataframe tbody tr th:only-of-type {\n",
              "        vertical-align: middle;\n",
              "    }\n",
              "\n",
              "    .dataframe tbody tr th {\n",
              "        vertical-align: top;\n",
              "    }\n",
              "\n",
              "    .dataframe thead th {\n",
              "        text-align: right;\n",
              "    }\n",
              "</style>\n",
              "<table border=\"1\" class=\"dataframe\">\n",
              "  <thead>\n",
              "    <tr style=\"text-align: right;\">\n",
              "      <th></th>\n",
              "      <th>tweet_id</th>\n",
              "      <th>tweet</th>\n",
              "      <th>label</th>\n",
              "    </tr>\n",
              "  </thead>\n",
              "  <tbody>\n",
              "    <tr>\n",
              "      <th>0</th>\n",
              "      <td>1251236670743158789</td>\n",
              "      <td>usted diput femin sirv despilfarr fond public</td>\n",
              "      <td>1</td>\n",
              "    </tr>\n",
              "    <tr>\n",
              "      <th>1</th>\n",
              "      <td>1269902766014713857</td>\n",
              "      <td>cont com evit contagi coronavirus oficin espac...</td>\n",
              "      <td>1</td>\n",
              "    </tr>\n",
              "    <tr>\n",
              "      <th>2</th>\n",
              "      <td>1260708906625568768</td>\n",
              "      <td>se polic dedic sig revent dentr vist com confi...</td>\n",
              "      <td>1</td>\n",
              "    </tr>\n",
              "    <tr>\n",
              "      <th>3</th>\n",
              "      <td>1252262240847306755</td>\n",
              "      <td>hac falt ser indecent fern simon habl decenci ...</td>\n",
              "      <td>0</td>\n",
              "    </tr>\n",
              "    <tr>\n",
              "      <th>4</th>\n",
              "      <td>1292055298195193856</td>\n",
              "      <td>covid galici prim fallec juni resident trabaj...</td>\n",
              "      <td>1</td>\n",
              "    </tr>\n",
              "  </tbody>\n",
              "</table>\n",
              "</div>\n",
              "      <button class=\"colab-df-convert\" onclick=\"convertToInteractive('df-8640db8f-a106-410a-aab2-f376190b994a')\"\n",
              "              title=\"Convert this dataframe to an interactive table.\"\n",
              "              style=\"display:none;\">\n",
              "        \n",
              "  <svg xmlns=\"http://www.w3.org/2000/svg\" height=\"24px\"viewBox=\"0 0 24 24\"\n",
              "       width=\"24px\">\n",
              "    <path d=\"M0 0h24v24H0V0z\" fill=\"none\"/>\n",
              "    <path d=\"M18.56 5.44l.94 2.06.94-2.06 2.06-.94-2.06-.94-.94-2.06-.94 2.06-2.06.94zm-11 1L8.5 8.5l.94-2.06 2.06-.94-2.06-.94L8.5 2.5l-.94 2.06-2.06.94zm10 10l.94 2.06.94-2.06 2.06-.94-2.06-.94-.94-2.06-.94 2.06-2.06.94z\"/><path d=\"M17.41 7.96l-1.37-1.37c-.4-.4-.92-.59-1.43-.59-.52 0-1.04.2-1.43.59L10.3 9.45l-7.72 7.72c-.78.78-.78 2.05 0 2.83L4 21.41c.39.39.9.59 1.41.59.51 0 1.02-.2 1.41-.59l7.78-7.78 2.81-2.81c.8-.78.8-2.07 0-2.86zM5.41 20L4 18.59l7.72-7.72 1.47 1.35L5.41 20z\"/>\n",
              "  </svg>\n",
              "      </button>\n",
              "      \n",
              "  <style>\n",
              "    .colab-df-container {\n",
              "      display:flex;\n",
              "      flex-wrap:wrap;\n",
              "      gap: 12px;\n",
              "    }\n",
              "\n",
              "    .colab-df-convert {\n",
              "      background-color: #E8F0FE;\n",
              "      border: none;\n",
              "      border-radius: 50%;\n",
              "      cursor: pointer;\n",
              "      display: none;\n",
              "      fill: #1967D2;\n",
              "      height: 32px;\n",
              "      padding: 0 0 0 0;\n",
              "      width: 32px;\n",
              "    }\n",
              "\n",
              "    .colab-df-convert:hover {\n",
              "      background-color: #E2EBFA;\n",
              "      box-shadow: 0px 1px 2px rgba(60, 64, 67, 0.3), 0px 1px 3px 1px rgba(60, 64, 67, 0.15);\n",
              "      fill: #174EA6;\n",
              "    }\n",
              "\n",
              "    [theme=dark] .colab-df-convert {\n",
              "      background-color: #3B4455;\n",
              "      fill: #D2E3FC;\n",
              "    }\n",
              "\n",
              "    [theme=dark] .colab-df-convert:hover {\n",
              "      background-color: #434B5C;\n",
              "      box-shadow: 0px 1px 3px 1px rgba(0, 0, 0, 0.15);\n",
              "      filter: drop-shadow(0px 1px 2px rgba(0, 0, 0, 0.3));\n",
              "      fill: #FFFFFF;\n",
              "    }\n",
              "  </style>\n",
              "\n",
              "      <script>\n",
              "        const buttonEl =\n",
              "          document.querySelector('#df-8640db8f-a106-410a-aab2-f376190b994a button.colab-df-convert');\n",
              "        buttonEl.style.display =\n",
              "          google.colab.kernel.accessAllowed ? 'block' : 'none';\n",
              "\n",
              "        async function convertToInteractive(key) {\n",
              "          const element = document.querySelector('#df-8640db8f-a106-410a-aab2-f376190b994a');\n",
              "          const dataTable =\n",
              "            await google.colab.kernel.invokeFunction('convertToInteractive',\n",
              "                                                     [key], {});\n",
              "          if (!dataTable) return;\n",
              "\n",
              "          const docLinkHtml = 'Like what you see? Visit the ' +\n",
              "            '<a target=\"_blank\" href=https://colab.research.google.com/notebooks/data_table.ipynb>data table notebook</a>'\n",
              "            + ' to learn more about interactive tables.';\n",
              "          element.innerHTML = '';\n",
              "          dataTable['output_type'] = 'display_data';\n",
              "          await google.colab.output.renderOutput(dataTable, element);\n",
              "          const docLink = document.createElement('div');\n",
              "          docLink.innerHTML = docLinkHtml;\n",
              "          element.appendChild(docLink);\n",
              "        }\n",
              "      </script>\n",
              "    </div>\n",
              "  </div>\n",
              "  "
            ]
          },
          "metadata": {},
          "execution_count": 25
        }
      ]
    },
    {
      "cell_type": "code",
      "source": [
        "len(model.wv.vocab),model.wv.vector_size"
      ],
      "metadata": {
        "colab": {
          "base_uri": "https://localhost:8080/"
        },
        "id": "NBlLTEJLu7rg",
        "outputId": "0d5a0d22-244d-4cf6-aeee-34ace4a74be4"
      },
      "execution_count": 26,
      "outputs": [
        {
          "output_type": "execute_result",
          "data": {
            "text/plain": [
              "(1943871, 400)"
            ]
          },
          "metadata": {},
          "execution_count": 26
        }
      ]
    },
    {
      "cell_type": "code",
      "source": [
        "#tokenize sentnece, then for each word get embedding if that word exisit in vocab, if it not in vocab create zero vector, finally average all vectors\n",
        "x_train=np.array([np.mean([model.wv[i] if i in model.wv.vocab else np.zeros(model.wv.vector_size,) for i in j ],0) for j in  train_df.tweet.str.split()])\n",
        "x_test=np.array([np.mean([model.wv[i] if i in model.wv.vocab else np.zeros(model.wv.vector_size,) for i in j ],0) for j in  val_df.tweet.str.split()])\n",
        "print(x_train.shape),print(x_test.shape)"
      ],
      "metadata": {
        "colab": {
          "base_uri": "https://localhost:8080/"
        },
        "id": "yCYvlBITuj2X",
        "outputId": "14c9ec3d-02e4-418e-d96f-d4e1865b524c"
      },
      "execution_count": 27,
      "outputs": [
        {
          "output_type": "stream",
          "name": "stdout",
          "text": [
            "(5962, 400)\n",
            "(1990, 400)\n"
          ]
        },
        {
          "output_type": "execute_result",
          "data": {
            "text/plain": [
              "(None, None)"
            ]
          },
          "metadata": {},
          "execution_count": 27
        }
      ]
    },
    {
      "cell_type": "code",
      "source": [
        "y_train=train_df.label.values\n",
        "y_test=val_df.label.values"
      ],
      "metadata": {
        "id": "Lgz387882nLl"
      },
      "execution_count": 28,
      "outputs": []
    },
    {
      "cell_type": "markdown",
      "source": [
        "# 5.Model training and evaluation"
      ],
      "metadata": {
        "id": "FY7VvHqs01-s"
      }
    },
    {
      "cell_type": "code",
      "source": [
        "from sklearn.neighbors import KNeighborsClassifier\n",
        "from sklearn.svm import LinearSVC,SVC\n",
        "from sklearn.tree import DecisionTreeClassifier\n",
        "from sklearn.ensemble import RandomForestClassifier\n",
        "\n",
        "from sklearn.linear_model import LogisticRegression\n",
        "from sklearn.model_selection import cross_val_score\n"
      ],
      "metadata": {
        "id": "K4NO-DHjrtzQ"
      },
      "execution_count": 29,
      "outputs": []
    },
    {
      "cell_type": "code",
      "source": [
        "#append all models in list\n",
        "models = []\n",
        "models.append((\"LogisticRegression\",LogisticRegression()))\n",
        "models.append((\"SVC\",SVC()))\n",
        "models.append((\"LinearSVC\",LinearSVC()))\n",
        "models.append((\"KNeighbors\",KNeighborsClassifier()))\n",
        "models.append((\"DecisionTree\",DecisionTreeClassifier()))\n",
        "models.append((\"RandomForest\",RandomForestClassifier()))"
      ],
      "metadata": {
        "id": "2R3Hx__S12QP"
      },
      "execution_count": 30,
      "outputs": []
    },
    {
      "cell_type": "code",
      "source": [
        "#iterate each model one by one\n",
        "results = []\n",
        "names = []\n",
        "for name,model in models:\n",
        "    result = cross_val_score(model, x_train, y_train,  cv=3)\n",
        "    names.append(name)\n",
        "    results.append(result)"
      ],
      "metadata": {
        "colab": {
          "base_uri": "https://localhost:8080/"
        },
        "id": "580u3M3X15I9",
        "outputId": "f7f47081-3700-4429-8aa5-004d3a12cc3d"
      },
      "execution_count": 31,
      "outputs": [
        {
          "output_type": "stream",
          "name": "stderr",
          "text": [
            "/usr/local/lib/python3.7/dist-packages/sklearn/linear_model/_logistic.py:818: ConvergenceWarning: lbfgs failed to converge (status=1):\n",
            "STOP: TOTAL NO. of ITERATIONS REACHED LIMIT.\n",
            "\n",
            "Increase the number of iterations (max_iter) or scale the data as shown in:\n",
            "    https://scikit-learn.org/stable/modules/preprocessing.html\n",
            "Please also refer to the documentation for alternative solver options:\n",
            "    https://scikit-learn.org/stable/modules/linear_model.html#logistic-regression\n",
            "  extra_warning_msg=_LOGISTIC_SOLVER_CONVERGENCE_MSG,\n",
            "/usr/local/lib/python3.7/dist-packages/sklearn/linear_model/_logistic.py:818: ConvergenceWarning: lbfgs failed to converge (status=1):\n",
            "STOP: TOTAL NO. of ITERATIONS REACHED LIMIT.\n",
            "\n",
            "Increase the number of iterations (max_iter) or scale the data as shown in:\n",
            "    https://scikit-learn.org/stable/modules/preprocessing.html\n",
            "Please also refer to the documentation for alternative solver options:\n",
            "    https://scikit-learn.org/stable/modules/linear_model.html#logistic-regression\n",
            "  extra_warning_msg=_LOGISTIC_SOLVER_CONVERGENCE_MSG,\n",
            "/usr/local/lib/python3.7/dist-packages/sklearn/linear_model/_logistic.py:818: ConvergenceWarning: lbfgs failed to converge (status=1):\n",
            "STOP: TOTAL NO. of ITERATIONS REACHED LIMIT.\n",
            "\n",
            "Increase the number of iterations (max_iter) or scale the data as shown in:\n",
            "    https://scikit-learn.org/stable/modules/preprocessing.html\n",
            "Please also refer to the documentation for alternative solver options:\n",
            "    https://scikit-learn.org/stable/modules/linear_model.html#logistic-regression\n",
            "  extra_warning_msg=_LOGISTIC_SOLVER_CONVERGENCE_MSG,\n",
            "/usr/local/lib/python3.7/dist-packages/sklearn/svm/_base.py:1208: ConvergenceWarning: Liblinear failed to converge, increase the number of iterations.\n",
            "  ConvergenceWarning,\n",
            "/usr/local/lib/python3.7/dist-packages/sklearn/svm/_base.py:1208: ConvergenceWarning: Liblinear failed to converge, increase the number of iterations.\n",
            "  ConvergenceWarning,\n",
            "/usr/local/lib/python3.7/dist-packages/sklearn/svm/_base.py:1208: ConvergenceWarning: Liblinear failed to converge, increase the number of iterations.\n",
            "  ConvergenceWarning,\n"
          ]
        }
      ]
    },
    {
      "cell_type": "code",
      "source": [
        "for i in range(len(names)):\n",
        "    print(names[i],results[i].mean())"
      ],
      "metadata": {
        "colab": {
          "base_uri": "https://localhost:8080/"
        },
        "id": "vq08IEvj2w6e",
        "outputId": "be9446c4-16f0-456f-9797-39ce3c2735c2"
      },
      "execution_count": 32,
      "outputs": [
        {
          "output_type": "stream",
          "name": "stdout",
          "text": [
            "LogisticRegression 0.7952031936629002\n",
            "SVC 0.8037573705949841\n",
            "LinearSVC 0.7955383702989621\n",
            "KNeighbors 0.7383419794053703\n",
            "DecisionTree 0.6719218177712475\n",
            "RandomForest 0.7802750912453416\n"
          ]
        }
      ]
    },
    {
      "cell_type": "markdown",
      "source": [
        "# fine tuning"
      ],
      "metadata": {
        "id": "ZiqmMHn75Iar"
      }
    },
    {
      "cell_type": "code",
      "source": [
        "from sklearn.model_selection import RandomizedSearchCV\n",
        "from sklearn.pipeline import Pipeline\n",
        "\n",
        "clf = SVC()\n",
        "Cs = [ 1,2,3,5,7,10,15,30,50,70,100]\n",
        "gammas = [0.001,0.01,0.02,0.03,0.04,0.05,0.1,0.3,0.5,0.8,1]\n",
        "estimator = RandomizedSearchCV(clf,\n",
        "                         dict(C=Cs,gamma=gammas),cv=3,n_jobs=-1) \n",
        "\n",
        "results = estimator.fit( x_train, y_train)\n",
        "print(results.best_score_ )\n"
      ],
      "metadata": {
        "id": "Ecm9HoUH3ZUo",
        "colab": {
          "base_uri": "https://localhost:8080/"
        },
        "outputId": "89eb6f82-38cf-4e64-81b2-c768ad7e9efb"
      },
      "execution_count": 33,
      "outputs": [
        {
          "output_type": "stream",
          "name": "stdout",
          "text": [
            "0.817176081147175\n"
          ]
        }
      ]
    },
    {
      "cell_type": "code",
      "source": [
        "tuned_model=results.best_estimator_\n",
        "tuned_model"
      ],
      "metadata": {
        "colab": {
          "base_uri": "https://localhost:8080/"
        },
        "id": "Y9ma749q5TtY",
        "outputId": "a523f629-02c7-4601-a205-ac737ed3f77c"
      },
      "execution_count": 34,
      "outputs": [
        {
          "output_type": "execute_result",
          "data": {
            "text/plain": [
              "SVC(C=2, gamma=0.05)"
            ]
          },
          "metadata": {},
          "execution_count": 34
        }
      ]
    },
    {
      "cell_type": "code",
      "source": [
        "tuned_model.fit(x_train,y_train)\n",
        "pred=tuned_model.predict(x_test)"
      ],
      "metadata": {
        "id": "9A8l_zaI6ElY"
      },
      "execution_count": 35,
      "outputs": []
    },
    {
      "cell_type": "code",
      "source": [
        "from sklearn.metrics import classification_report\n",
        "print(classification_report(y_test,pred))"
      ],
      "metadata": {
        "colab": {
          "base_uri": "https://localhost:8080/"
        },
        "id": "ar99LDPo8chO",
        "outputId": "80d9a5a6-c6bb-4dd1-9561-95db3b5a7ed6"
      },
      "execution_count": 36,
      "outputs": [
        {
          "output_type": "stream",
          "name": "stdout",
          "text": [
            "              precision    recall  f1-score   support\n",
            "\n",
            "           0       0.81      0.97      0.88      1513\n",
            "           1       0.74      0.28      0.40       477\n",
            "\n",
            "    accuracy                           0.80      1990\n",
            "   macro avg       0.77      0.62      0.64      1990\n",
            "weighted avg       0.79      0.80      0.77      1990\n",
            "\n"
          ]
        }
      ]
    },
    {
      "cell_type": "code",
      "source": [],
      "metadata": {
        "id": "thmbyoh98omj"
      },
      "execution_count": 36,
      "outputs": []
    }
  ]
}