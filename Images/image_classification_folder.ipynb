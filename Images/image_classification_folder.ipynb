{
 "cells": [
  {
   "cell_type": "markdown",
   "metadata": {},
   "source": [
    "you can run this notebook diretly on kaggle from following link  \n",
    "https://www.kaggle.com/chtalhaanwar/pytorch-lightning-mixup-tta-84"
   ]
  },
  {
   "cell_type": "markdown",
   "metadata": {},
   "source": [
    "# install libraries"
   ]
  },
  {
   "cell_type": "code",
   "execution_count": 50,
   "metadata": {
    "execution": {
     "iopub.execute_input": "2022-05-17T01:44:32.705149Z",
     "iopub.status.busy": "2022-05-17T01:44:32.704847Z",
     "iopub.status.idle": "2022-05-17T01:45:00.797728Z",
     "shell.execute_reply": "2022-05-17T01:45:00.796671Z",
     "shell.execute_reply.started": "2022-05-17T01:44:32.705117Z"
    }
   },
   "outputs": [],
   "source": [
    "%%capture\n",
    "!pip install pytorch-lightning\n",
    "!pip install timm\n",
    "!pip install ttach"
   ]
  },
  {
   "cell_type": "markdown",
   "metadata": {},
   "source": [
    "# import packages"
   ]
  },
  {
   "cell_type": "code",
   "execution_count": 51,
   "metadata": {
    "execution": {
     "iopub.execute_input": "2022-05-17T01:45:00.800259Z",
     "iopub.status.busy": "2022-05-17T01:45:00.799951Z",
     "iopub.status.idle": "2022-05-17T01:45:00.808261Z",
     "shell.execute_reply": "2022-05-17T01:45:00.807164Z",
     "shell.execute_reply.started": "2022-05-17T01:45:00.800220Z"
    }
   },
   "outputs": [],
   "source": [
    "#import packages\n",
    "import numpy as np\n",
    "import pandas as pd\n",
    "import matplotlib.pyplot as plt\n",
    "import os\n",
    "from pytorch_lightning import seed_everything, LightningModule, Trainer\n",
    "from sklearn.utils import class_weight\n",
    "import torch.nn as nn\n",
    "import torch\n",
    "from pytorch_lightning.callbacks import EarlyStopping,ModelCheckpoint,LearningRateMonitor\n",
    "from torch.optim.lr_scheduler import CosineAnnealingWarmRestarts\n",
    "import torchvision\n",
    "from sklearn.metrics import classification_report\n",
    "from PIL import Image\n",
    "from torch.utils.data import DataLoader, Dataset,random_split\n",
    "import timm\n",
    "import torchmetrics\n",
    "import torchvision.models as models\n",
    "import albumentations as A\n",
    "from albumentations.pytorch import ToTensorV2\n",
    "import pytorch_lightning as pl\n",
    "import sklearn\n",
    "from sklearn.metrics import classification_report,accuracy_score"
   ]
  },
  {
   "cell_type": "code",
   "execution_count": 52,
   "metadata": {
    "execution": {
     "iopub.execute_input": "2022-05-17T01:45:00.810277Z",
     "iopub.status.busy": "2022-05-17T01:45:00.809719Z",
     "iopub.status.idle": "2022-05-17T01:45:00.822054Z",
     "shell.execute_reply": "2022-05-17T01:45:00.821113Z",
     "shell.execute_reply.started": "2022-05-17T01:45:00.810240Z"
    }
   },
   "outputs": [
    {
     "name": "stdout",
     "output_type": "stream",
     "text": [
      "torch version 1.11.0\n",
      "pytorch lightnging version 1.6.3\n",
      "sklearn version 1.0.2\n",
      "torchvision version 0.12.0\n",
      "albumentations version 1.1.0\n",
      "torchmetrics version 0.6.2\n"
     ]
    }
   ],
   "source": [
    "print('torch version',torch.__version__)\n",
    "print('pytorch lightnging version',pl.__version__)\n",
    "print('sklearn version',sklearn.__version__)\n",
    "print('torchvision version',torchvision.__version__)\n",
    "print('albumentations version',A.__version__)\n",
    "print('torchmetrics version',torchmetrics.__version__)\n"
   ]
  },
  {
   "cell_type": "markdown",
   "metadata": {},
   "source": [
    "# augmentation"
   ]
  },
  {
   "cell_type": "code",
   "execution_count": 53,
   "metadata": {
    "execution": {
     "iopub.execute_input": "2022-05-17T01:45:00.824884Z",
     "iopub.status.busy": "2022-05-17T01:45:00.824513Z",
     "iopub.status.idle": "2022-05-17T01:45:00.831731Z",
     "shell.execute_reply": "2022-05-17T01:45:00.830881Z",
     "shell.execute_reply.started": "2022-05-17T01:45:00.824849Z"
    }
   },
   "outputs": [],
   "source": [
    "#create data augmentation\n",
    "img_size=224\n",
    "aug= A.Compose([\n",
    "            A.Resize(img_size,img_size),\n",
    "            A.HorizontalFlip(0.5),\n",
    "#             A.VerticalFlip(),\n",
    "            #A.RandomRotate90(),\n",
    "            A.Rotate(10),\n",
    "            A.ColorJitter(0.2,0.2,0,0),\n",
    "            A.Normalize(),\n",
    "            ToTensorV2(p=1.0),\n",
    "        ], p=1.0)"
   ]
  },
  {
   "cell_type": "markdown",
   "metadata": {},
   "source": [
    "# DataReader"
   ]
  },
  {
   "cell_type": "code",
   "execution_count": 54,
   "metadata": {
    "execution": {
     "iopub.execute_input": "2022-05-17T01:45:00.833895Z",
     "iopub.status.busy": "2022-05-17T01:45:00.833343Z",
     "iopub.status.idle": "2022-05-17T01:45:00.843069Z",
     "shell.execute_reply": "2022-05-17T01:45:00.842219Z",
     "shell.execute_reply.started": "2022-05-17T01:45:00.833856Z"
    }
   },
   "outputs": [],
   "source": [
    "#create a class to read data from folders and apply augmentation from albumentation\n",
    "class DataReader(Dataset):\n",
    "    def __init__(self, dataset, transform=None):\n",
    "        self.dataset = dataset\n",
    "        self.transform = transform\n",
    "\n",
    "    def __getitem__(self, index):\n",
    "        x=self.dataset[index][0]#read image\n",
    "        y=self.dataset[index][1] #read label\n",
    "        if self.transform:#apply augmentations\n",
    "            x=np.array(x)\n",
    "            x=self.transform(image=x)['image']\n",
    "        return x, y\n",
    "    \n",
    "    def __len__(self):\n",
    "        return len(self.dataset)"
   ]
  },
  {
   "cell_type": "markdown",
   "metadata": {},
   "source": [
    "# Pytorch Lightning Model"
   ]
  },
  {
   "cell_type": "code",
   "execution_count": 55,
   "metadata": {
    "execution": {
     "iopub.execute_input": "2022-05-17T01:45:00.846110Z",
     "iopub.status.busy": "2022-05-17T01:45:00.845921Z",
     "iopub.status.idle": "2022-05-17T01:45:00.876356Z",
     "shell.execute_reply": "2022-05-17T01:45:00.875577Z",
     "shell.execute_reply.started": "2022-05-17T01:45:00.846082Z"
    }
   },
   "outputs": [],
   "source": [
    "class OurModel(LightningModule):\n",
    "    def __init__(self):\n",
    "        super(OurModel,self).__init__()\n",
    "        \n",
    " \n",
    "        #parameters\n",
    "        self.lr=1e-3\n",
    "        self.batch_size=128\n",
    "        self.numworker=2\n",
    "        self.acc = torchmetrics.Accuracy() #metric\n",
    "        self.criterion=nn.CrossEntropyLoss() #loss function\n",
    "        #list to store loss and accuracy\n",
    "        self.trainacc,self.valacc=[],[]\n",
    "        self.trainloss,self.valloss=[],[]\n",
    "        #load data        \n",
    "        self.train_path='../input/human-action-detection-artificial-intelligence/emirhan_human_dataset/datasets/human_data/train_data'\n",
    "        self.test_path='../input/human-action-detection-artificial-intelligence/emirhan_human_dataset/datasets/human_data/test_data'\n",
    "        self.dataset=torchvision.datasets.ImageFolder(self.train_path)\n",
    "        #split data\n",
    "        self.train_set, self.val_set =random_split(self.dataset,\n",
    "                            [int(len(self.dataset)*0.7), int(len(self.dataset)*0.3)],\n",
    "                                                  generator=torch.Generator().manual_seed(42))\n",
    "        self.test_set=self.dataset=torchvision.datasets.ImageFolder(self.test_path)\n",
    "   \n",
    "        # model architecute\n",
    "        '''refernce:https://github.com/rwightman/pytorch-image-models/blob/master/timm/models/efficientnet.py'''\n",
    "        self.model =  timm.create_model(model_name,pretrained=True,num_classes=len(self.dataset.classes))\n",
    "    def forward(self,x):\n",
    "        x= self.model(x)\n",
    "        return x\n",
    "\n",
    "    def mixup_data(self,x, y, alpha=1.0):\n",
    "        '''\n",
    "        Returns mixed inputs, pairs of targets, and lambda\n",
    "        reference: mixup: Beyond Empirical Risk Minimization\n",
    "        '''\n",
    "        if alpha > 0:\n",
    "            lam = np.random.beta(alpha, alpha)\n",
    "        else:\n",
    "            lam = 1\n",
    "\n",
    "        batch_size = x.size()[0]\n",
    "        index = torch.randperm(batch_size)\n",
    "        mixed_x = lam * x + (1 - lam) * x[index, :]\n",
    "        y_a, y_b = y, y[index]\n",
    "        return mixed_x, y_a, y_b, lam\n",
    "\n",
    "\n",
    "    def mixup_criterion(self, pred, y_a, y_b, lam):\n",
    "        return lam * self.criterion(pred, y_a) + (1 - lam) * self.criterion(pred, y_b)\n",
    "    \n",
    "    \n",
    "    def configure_optimizers(self):\n",
    "        #optimizer and scheduler\n",
    "        opt=torch.optim.AdamW(params=self.parameters(),lr=self.lr )\n",
    "        scheduler=CosineAnnealingWarmRestarts(opt,T_0=5, T_mult=1, eta_min=1e-6, last_epoch=-1)\n",
    "        return {'optimizer': opt,'lr_scheduler':scheduler}\n",
    "\n",
    "    def train_dataloader(self):#load train \n",
    "        return DataLoader(DataReader(self.train_set,aug), batch_size = self.batch_size, \n",
    "                          num_workers=self.numworker,\n",
    "                          pin_memory=True,shuffle=True)\n",
    "\n",
    "    def training_step(self,batch,batch_idx):\n",
    "        image,label=batch\n",
    "        mixed_x, y_a, y_b, lam=self.mixup_data(image,label)#apply mixup\n",
    "        out = self(mixed_x)#pass images to model\n",
    "        loss=self.mixup_criterion(out,y_a, y_b, lam) #calculate loss\n",
    "        acc=self.acc(out,label)#calculate accuracy\n",
    "        return {'loss':loss,'acc':acc}\n",
    "\n",
    "    def training_epoch_end(self, outputs):\n",
    "        #average loss and accuracy in all batches of train data\n",
    "        loss=torch.stack([x[\"loss\"] for x in outputs]).mean().detach().cpu().numpy().round(2)\n",
    "        acc=torch.stack([x[\"acc\"] for x in outputs]).mean().detach().cpu().numpy().round(2)\n",
    "        self.trainacc.append(acc)\n",
    "        self.trainloss.append(loss)\n",
    "        self.log('train_loss', loss)\n",
    "        self.log('train_acc', acc)\n",
    "        \n",
    "    def val_dataloader(self):\n",
    "        ds=DataLoader(DataReader(self.val_set,aug), batch_size = self.batch_size,\n",
    "                      num_workers=self.numworker,pin_memory=True, shuffle=False)\n",
    "        return ds\n",
    "\n",
    "    def validation_step(self,batch,batch_idx):\n",
    "        image,label=batch\n",
    "        out=self(image)\n",
    "        loss=self.criterion(out,label)\n",
    "        acc=self.acc(out,label)\n",
    "        return {'loss':loss,'acc':acc}\n",
    "\n",
    "    def validation_epoch_end(self, outputs):\n",
    "        loss=torch.stack([x[\"loss\"] for x in outputs]).mean().detach().cpu().numpy().round(2)\n",
    "        acc=torch.stack([x[\"acc\"] for x in outputs]).mean().detach().cpu().numpy().round(2)\n",
    "        self.valacc.append(acc)\n",
    "        self.valloss.append(loss)\n",
    "        print('validation loss accuracy ',self.current_epoch,loss, acc)\n",
    "        self.log('val_loss', loss)\n",
    "        self.log('val_acc', acc)\n",
    "        \n",
    "    def test_dataloader(self):\n",
    "        ds=DataLoader(DataReader(self.test_set,aug), batch_size = self.batch_size,\n",
    "                      num_workers=self.numworker,pin_memory=True, shuffle=False)\n",
    "        return ds    \n",
    "    def test_step(self,batch,batch_idx):\n",
    "        image,label=batch\n",
    "        pred = self(image)\n",
    "        \n",
    "        return {'label':label,'pred':pred}\n",
    "\n",
    "    def test_epoch_end(self, outputs):\n",
    "\n",
    "        label=torch.cat([x[\"label\"] for x in outputs])\n",
    "        pred=torch.cat([x[\"pred\"] for x in outputs])\n",
    "        pred=torch.argmax(pred,1)\n",
    "        acc=self.acc(pred.flatten(),label)\n",
    "        pred=pred.detach().cpu().numpy().ravel()\n",
    "        label=label.detach().cpu().numpy().ravel()\n",
    "\n",
    "        print('torch acc',acc)\n",
    "        print(classification_report(label,pred,target_names=model.dataset.classes))\n",
    "        print('sklearn',accuracy_score(label,pred))"
   ]
  },
  {
   "cell_type": "code",
   "execution_count": 56,
   "metadata": {
    "execution": {
     "iopub.execute_input": "2022-05-17T01:45:00.877674Z",
     "iopub.status.busy": "2022-05-17T01:45:00.877419Z",
     "iopub.status.idle": "2022-05-17T01:45:02.214851Z",
     "shell.execute_reply": "2022-05-17T01:45:02.213967Z",
     "shell.execute_reply.started": "2022-05-17T01:45:00.877638Z"
    }
   },
   "outputs": [],
   "source": [
    "model_name='efficientnetv2_rw_s'\n",
    "model=OurModel()"
   ]
  },
  {
   "cell_type": "code",
   "execution_count": 57,
   "metadata": {
    "execution": {
     "iopub.execute_input": "2022-05-17T01:45:02.216698Z",
     "iopub.status.busy": "2022-05-17T01:45:02.216303Z",
     "iopub.status.idle": "2022-05-17T01:45:02.228606Z",
     "shell.execute_reply": "2022-05-17T01:45:02.227481Z",
     "shell.execute_reply.started": "2022-05-17T01:45:02.216646Z"
    }
   },
   "outputs": [],
   "source": [
    "lr_monitor = LearningRateMonitor(logging_interval='epoch')\n",
    "checkpoint=ModelCheckpoint(dirpath='checkpoints',filename='file', monitor='val_acc', verbose=False, save_last=False, mode='max')\n",
    "trainer = Trainer(max_epochs=15, auto_lr_find=False, auto_scale_batch_size=False,\n",
    "                deterministic=True,\n",
    "                gpus=-1,precision=16,\n",
    "                accumulate_grad_batches=2,\n",
    "                stochastic_weight_avg=False,\n",
    "                enable_progress_bar = False,\n",
    "                num_sanity_val_steps=2,\n",
    "                callbacks=[lr_monitor,checkpoint]\n",
    "                 )"
   ]
  },
  {
   "cell_type": "markdown",
   "metadata": {},
   "source": [
    "# Training and Testing"
   ]
  },
  {
   "cell_type": "code",
   "execution_count": 58,
   "metadata": {
    "execution": {
     "iopub.execute_input": "2022-05-17T01:45:02.230499Z",
     "iopub.status.busy": "2022-05-17T01:45:02.230067Z",
     "iopub.status.idle": "2022-05-17T02:12:59.988744Z",
     "shell.execute_reply": "2022-05-17T02:12:59.987868Z",
     "shell.execute_reply.started": "2022-05-17T01:45:02.230456Z"
    }
   },
   "outputs": [
    {
     "name": "stderr",
     "output_type": "stream",
     "text": [
      "/opt/conda/lib/python3.7/site-packages/pytorch_lightning/callbacks/model_checkpoint.py:611: UserWarning: Checkpoint directory /kaggle/working/checkpoints exists and is not empty.\n",
      "  rank_zero_warn(f\"Checkpoint directory {dirpath} exists and is not empty.\")\n"
     ]
    },
    {
     "name": "stdout",
     "output_type": "stream",
     "text": [
      "validation loss accuracy  0 3.63 0.07\n",
      "validation loss accuracy  0 0.98 0.75\n",
      "validation loss accuracy  1 0.78 0.79\n",
      "validation loss accuracy  2 0.72 0.81\n",
      "validation loss accuracy  3 0.71 0.82\n",
      "validation loss accuracy  4 0.69 0.82\n",
      "validation loss accuracy  5 0.74 0.8\n",
      "validation loss accuracy  6 0.68 0.82\n",
      "validation loss accuracy  7 0.7 0.81\n",
      "validation loss accuracy  8 0.65 0.83\n",
      "validation loss accuracy  9 0.65 0.84\n",
      "validation loss accuracy  10 0.69 0.82\n",
      "validation loss accuracy  11 0.73 0.81\n",
      "validation loss accuracy  12 0.68 0.83\n",
      "validation loss accuracy  13 0.61 0.84\n",
      "validation loss accuracy  14 0.62 0.83\n"
     ]
    }
   ],
   "source": [
    "trainer.fit(model)"
   ]
  },
  {
   "cell_type": "code",
   "execution_count": 59,
   "metadata": {
    "execution": {
     "iopub.execute_input": "2022-05-17T02:12:59.993514Z",
     "iopub.status.busy": "2022-05-17T02:12:59.992912Z",
     "iopub.status.idle": "2022-05-17T02:13:00.483613Z",
     "shell.execute_reply": "2022-05-17T02:13:00.482707Z",
     "shell.execute_reply.started": "2022-05-17T02:12:59.993477Z"
    }
   },
   "outputs": [
    {
     "data": {
      "text/plain": [
       "<All keys matched successfully>"
      ]
     },
     "execution_count": 59,
     "metadata": {},
     "output_type": "execute_result"
    }
   ],
   "source": [
    "torch.save(model.state_dict(), 'model.pt')\n",
    "model.load_state_dict(torch.load('model.pt'))"
   ]
  },
  {
   "cell_type": "code",
   "execution_count": 60,
   "metadata": {
    "execution": {
     "iopub.execute_input": "2022-05-17T02:13:00.485927Z",
     "iopub.status.busy": "2022-05-17T02:13:00.485368Z",
     "iopub.status.idle": "2022-05-17T02:13:24.512655Z",
     "shell.execute_reply": "2022-05-17T02:13:24.511854Z",
     "shell.execute_reply.started": "2022-05-17T02:13:00.485884Z"
    }
   },
   "outputs": [
    {
     "name": "stdout",
     "output_type": "stream",
     "text": [
      "validation loss accuracy  15 0.63 0.84\n"
     ]
    },
    {
     "data": {
      "text/html": [
       "<pre style=\"white-space:pre;overflow-x:auto;line-height:normal;font-family:Menlo,'DejaVu Sans Mono',consolas,'Courier New',monospace\">┏━━━━━━━━━━━━━━━━━━━━━━━━━━━┳━━━━━━━━━━━━━━━━━━━━━━━━━━━┓\n",
       "┃<span style=\"font-weight: bold\">      Validate metric      </span>┃<span style=\"font-weight: bold\">       DataLoader 0        </span>┃\n",
       "┡━━━━━━━━━━━━━━━━━━━━━━━━━━━╇━━━━━━━━━━━━━━━━━━━━━━━━━━━┩\n",
       "│<span style=\"color: #008080; text-decoration-color: #008080\">          val_acc          </span>│<span style=\"color: #800080; text-decoration-color: #800080\">    0.8399999737739563     </span>│\n",
       "│<span style=\"color: #008080; text-decoration-color: #008080\">         val_loss          </span>│<span style=\"color: #800080; text-decoration-color: #800080\">    0.6299999952316284     </span>│\n",
       "└───────────────────────────┴───────────────────────────┘\n",
       "</pre>\n"
      ],
      "text/plain": [
       "┏━━━━━━━━━━━━━━━━━━━━━━━━━━━┳━━━━━━━━━━━━━━━━━━━━━━━━━━━┓\n",
       "┃\u001b[1m \u001b[0m\u001b[1m     Validate metric     \u001b[0m\u001b[1m \u001b[0m┃\u001b[1m \u001b[0m\u001b[1m      DataLoader 0       \u001b[0m\u001b[1m \u001b[0m┃\n",
       "┡━━━━━━━━━━━━━━━━━━━━━━━━━━━╇━━━━━━━━━━━━━━━━━━━━━━━━━━━┩\n",
       "│\u001b[36m \u001b[0m\u001b[36m         val_acc         \u001b[0m\u001b[36m \u001b[0m│\u001b[35m \u001b[0m\u001b[35m   0.8399999737739563    \u001b[0m\u001b[35m \u001b[0m│\n",
       "│\u001b[36m \u001b[0m\u001b[36m        val_loss         \u001b[0m\u001b[36m \u001b[0m│\u001b[35m \u001b[0m\u001b[35m   0.6299999952316284    \u001b[0m\u001b[35m \u001b[0m│\n",
       "└───────────────────────────┴───────────────────────────┘\n"
      ]
     },
     "metadata": {},
     "output_type": "display_data"
    },
    {
     "data": {
      "text/plain": [
       "[{'val_loss': 0.6299999952316284, 'val_acc': 0.8399999737739563}]"
      ]
     },
     "execution_count": 60,
     "metadata": {},
     "output_type": "execute_result"
    }
   ],
   "source": [
    "trainer.validate(model)"
   ]
  },
  {
   "cell_type": "code",
   "execution_count": 61,
   "metadata": {
    "execution": {
     "iopub.execute_input": "2022-05-17T02:13:24.514491Z",
     "iopub.status.busy": "2022-05-17T02:13:24.514185Z",
     "iopub.status.idle": "2022-05-17T02:13:40.681186Z",
     "shell.execute_reply": "2022-05-17T02:13:40.680312Z",
     "shell.execute_reply.started": "2022-05-17T02:13:24.514451Z"
    }
   },
   "outputs": [
    {
     "name": "stdout",
     "output_type": "stream",
     "text": [
      "torch acc tensor(0.8250, device='cuda:0')\n",
      "                    precision    recall  f1-score   support\n",
      "\n",
      "           calling       0.67      0.81      0.73       200\n",
      "          clapping       0.83      0.78      0.80       200\n",
      "           cycling       0.97      0.97      0.97       200\n",
      "           dancing       0.88      0.81      0.85       200\n",
      "          drinking       0.83      0.84      0.83       200\n",
      "            eating       0.94      0.89      0.91       200\n",
      "          fighting       0.87      0.85      0.86       200\n",
      "           hugging       0.82      0.90      0.86       200\n",
      "          laughing       0.81      0.77      0.79       200\n",
      "listening_to_music       0.76      0.76      0.76       200\n",
      "           running       0.85      0.94      0.89       200\n",
      "           sitting       0.73      0.70      0.72       200\n",
      "          sleeping       0.87      0.84      0.85       200\n",
      "           texting       0.78      0.72      0.75       200\n",
      "      using_laptop       0.80      0.81      0.80       200\n",
      "\n",
      "          accuracy                           0.82      3000\n",
      "         macro avg       0.83      0.82      0.83      3000\n",
      "      weighted avg       0.83      0.82      0.83      3000\n",
      "\n",
      "sklearn 0.825\n"
     ]
    },
    {
     "data": {
      "text/plain": [
       "[{}]"
      ]
     },
     "execution_count": 61,
     "metadata": {},
     "output_type": "execute_result"
    }
   ],
   "source": [
    "trainer.test(model)"
   ]
  },
  {
   "cell_type": "markdown",
   "metadata": {},
   "source": [
    "# Testing TTA"
   ]
  },
  {
   "cell_type": "code",
   "execution_count": 62,
   "metadata": {
    "execution": {
     "iopub.execute_input": "2022-05-17T02:13:40.683098Z",
     "iopub.status.busy": "2022-05-17T02:13:40.682804Z",
     "iopub.status.idle": "2022-05-17T02:13:55.651776Z",
     "shell.execute_reply": "2022-05-17T02:13:55.650724Z",
     "shell.execute_reply.started": "2022-05-17T02:13:40.683057Z"
    }
   },
   "outputs": [],
   "source": [
    "loader=model.test_dataloader()\n",
    "model.cuda().eval()\n",
    "labels,preds=[],[]\n",
    "with torch.no_grad():\n",
    "    for batch in loader:\n",
    "        image,label=batch\n",
    "        pred=model(image.cuda())\n",
    "        pred=torch.argmax(pred,dim=1).detach().cpu().numpy()\n",
    "        labels.append(label.cpu().numpy())\n",
    "        preds.append(pred)"
   ]
  },
  {
   "cell_type": "code",
   "execution_count": 63,
   "metadata": {
    "execution": {
     "iopub.execute_input": "2022-05-17T02:13:55.654084Z",
     "iopub.status.busy": "2022-05-17T02:13:55.653411Z",
     "iopub.status.idle": "2022-05-17T02:13:55.671848Z",
     "shell.execute_reply": "2022-05-17T02:13:55.671089Z",
     "shell.execute_reply.started": "2022-05-17T02:13:55.654040Z"
    }
   },
   "outputs": [
    {
     "name": "stdout",
     "output_type": "stream",
     "text": [
      "                    precision    recall  f1-score   support\n",
      "\n",
      "           calling       0.67      0.79      0.72       200\n",
      "          clapping       0.84      0.77      0.80       200\n",
      "           cycling       0.97      0.96      0.97       200\n",
      "           dancing       0.86      0.81      0.83       200\n",
      "          drinking       0.85      0.82      0.84       200\n",
      "            eating       0.92      0.89      0.91       200\n",
      "          fighting       0.85      0.85      0.85       200\n",
      "           hugging       0.81      0.89      0.85       200\n",
      "          laughing       0.80      0.77      0.79       200\n",
      "listening_to_music       0.79      0.74      0.76       200\n",
      "           running       0.85      0.95      0.90       200\n",
      "           sitting       0.70      0.70      0.70       200\n",
      "          sleeping       0.88      0.84      0.86       200\n",
      "           texting       0.75      0.72      0.74       200\n",
      "      using_laptop       0.79      0.81      0.80       200\n",
      "\n",
      "          accuracy                           0.82      3000\n",
      "         macro avg       0.82      0.82      0.82      3000\n",
      "      weighted avg       0.82      0.82      0.82      3000\n",
      "\n"
     ]
    }
   ],
   "source": [
    "from sklearn.metrics import classification_report\n",
    "print(classification_report(np.hstack(labels),np.hstack(preds),target_names=model.dataset.classes))"
   ]
  },
  {
   "cell_type": "code",
   "execution_count": 64,
   "metadata": {
    "execution": {
     "iopub.execute_input": "2022-05-17T02:13:55.674500Z",
     "iopub.status.busy": "2022-05-17T02:13:55.674247Z",
     "iopub.status.idle": "2022-05-17T02:13:55.678688Z",
     "shell.execute_reply": "2022-05-17T02:13:55.677855Z",
     "shell.execute_reply.started": "2022-05-17T02:13:55.674467Z"
    }
   },
   "outputs": [],
   "source": [
    "#test time augmentation\n",
    "import ttach as tta\n",
    "transforms = tta.Compose(\n",
    "    [#more tta can be added\n",
    "        tta.HorizontalFlip(),\n",
    "   ]\n",
    ")\n",
    "\n",
    "tta_model = tta.ClassificationTTAWrapper(model, transforms)"
   ]
  },
  {
   "cell_type": "code",
   "execution_count": 65,
   "metadata": {
    "execution": {
     "iopub.execute_input": "2022-05-17T02:13:55.680599Z",
     "iopub.status.busy": "2022-05-17T02:13:55.680239Z",
     "iopub.status.idle": "2022-05-17T02:14:13.150099Z",
     "shell.execute_reply": "2022-05-17T02:14:13.148981Z",
     "shell.execute_reply.started": "2022-05-17T02:13:55.680559Z"
    }
   },
   "outputs": [],
   "source": [
    "loader=model.test_dataloader()\n",
    "model.cuda().eval()\n",
    "labels,preds=[],[]\n",
    "with torch.no_grad():\n",
    "    for batch in loader:\n",
    "        image,label=batch\n",
    "        pred=tta_model(image.cuda())\n",
    "        pred=torch.argmax(pred,dim=1).detach().cpu().numpy()\n",
    "        labels.append(label.cpu().numpy())\n",
    "        preds.append(pred)"
   ]
  },
  {
   "cell_type": "code",
   "execution_count": 66,
   "metadata": {
    "execution": {
     "iopub.execute_input": "2022-05-17T02:14:13.152696Z",
     "iopub.status.busy": "2022-05-17T02:14:13.152351Z",
     "iopub.status.idle": "2022-05-17T02:14:13.170886Z",
     "shell.execute_reply": "2022-05-17T02:14:13.169993Z",
     "shell.execute_reply.started": "2022-05-17T02:14:13.152651Z"
    }
   },
   "outputs": [
    {
     "name": "stdout",
     "output_type": "stream",
     "text": [
      "                    precision    recall  f1-score   support\n",
      "\n",
      "           calling       0.69      0.81      0.74       200\n",
      "          clapping       0.85      0.79      0.82       200\n",
      "           cycling       0.97      0.97      0.97       200\n",
      "           dancing       0.86      0.83      0.85       200\n",
      "          drinking       0.85      0.85      0.85       200\n",
      "            eating       0.92      0.87      0.89       200\n",
      "          fighting       0.88      0.86      0.87       200\n",
      "           hugging       0.84      0.92      0.87       200\n",
      "          laughing       0.81      0.79      0.80       200\n",
      "listening_to_music       0.78      0.77      0.77       200\n",
      "           running       0.87      0.94      0.90       200\n",
      "           sitting       0.74      0.73      0.74       200\n",
      "          sleeping       0.89      0.85      0.87       200\n",
      "           texting       0.79      0.73      0.76       200\n",
      "      using_laptop       0.81      0.82      0.81       200\n",
      "\n",
      "          accuracy                           0.84      3000\n",
      "         macro avg       0.84      0.84      0.84      3000\n",
      "      weighted avg       0.84      0.84      0.84      3000\n",
      "\n"
     ]
    }
   ],
   "source": [
    "from sklearn.metrics import classification_report\n",
    "print(classification_report(np.hstack(labels),np.hstack(preds),target_names=model.dataset.classes))"
   ]
  },
  {
   "cell_type": "code",
   "execution_count": null,
   "metadata": {},
   "outputs": [],
   "source": []
  }
 ],
 "metadata": {
  "kernelspec": {
   "display_name": "Python 3",
   "language": "python",
   "name": "python3"
  },
  "language_info": {
   "codemirror_mode": {
    "name": "ipython",
    "version": 3
   },
   "file_extension": ".py",
   "mimetype": "text/x-python",
   "name": "python",
   "nbconvert_exporter": "python",
   "pygments_lexer": "ipython3",
   "version": "3.8.8"
  }
 },
 "nbformat": 4,
 "nbformat_minor": 4
}
